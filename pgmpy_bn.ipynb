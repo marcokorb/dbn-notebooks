{
 "cells": [
  {
   "cell_type": "code",
   "execution_count": 2,
   "metadata": {},
   "outputs": [],
   "source": [
    "# Import required packages\n",
    "from pgmpy.models import BayesianModel as BN\n",
    "from pgmpy.models import DynamicBayesianNetwork as DBN\n",
    "from pgmpy.factors.discrete import TabularCPD"
   ]
  },
  {
   "cell_type": "code",
   "execution_count": 5,
   "metadata": {},
   "outputs": [
    {
     "name": "stdout",
     "output_type": "stream",
     "text": [
      "\n",
      "Subject CPD for CA\n",
      "+-------+-----+\n",
      "| CA(0) | 0.5 |\n",
      "+-------+-----+\n",
      "| CA(1) | 0.5 |\n",
      "+-------+-----+\n",
      "\n",
      "Subject CPD for CO\n",
      "+-------+-----+\n",
      "| CO(0) | 0.5 |\n",
      "+-------+-----+\n",
      "| CO(1) | 0.5 |\n",
      "+-------+-----+\n",
      "\n",
      "Subject CPD for H\n",
      "+------+-------+-------+-------+-------+\n",
      "| CA   | CA(0) | CA(0) | CA(1) | CA(1) |\n",
      "+------+-------+-------+-------+-------+\n",
      "| CO   | CO(0) | CO(1) | CO(0) | CO(1) |\n",
      "+------+-------+-------+-------+-------+\n",
      "| H(0) | 0.9   | 0.65  | 0.65  | 0.2   |\n",
      "+------+-------+-------+-------+-------+\n",
      "| H(1) | 0.1   | 0.35  | 0.35  | 0.8   |\n",
      "+------+-------+-------+-------+-------+\n",
      "\n",
      "Evidence CPD for CA\n",
      "+---------+-------+-------+\n",
      "| CA      | CA(0) | CA(1) |\n",
      "+---------+-------+-------+\n",
      "| EvCA(0) | 0.8   | 0.1   |\n",
      "+---------+-------+-------+\n",
      "| EvCA(1) | 0.2   | 0.9   |\n",
      "+---------+-------+-------+\n",
      "\n",
      "Evidence CPD for CO\n",
      "+---------+-------+-------+\n",
      "| CO      | CO(0) | CO(1) |\n",
      "+---------+-------+-------+\n",
      "| EvCO(0) | 0.8   | 0.1   |\n",
      "+---------+-------+-------+\n",
      "| EvCO(1) | 0.2   | 0.9   |\n",
      "+---------+-------+-------+\n",
      "\n",
      "Evidence CPD for H\n",
      "+--------+------+------+\n",
      "| H      | H(0) | H(1) |\n",
      "+--------+------+------+\n",
      "| EvH(0) | 0.8  | 0.1  |\n",
      "+--------+------+------+\n",
      "| EvH(1) | 0.2  | 0.9  |\n",
      "+--------+------+------+\n"
     ]
    },
    {
     "data": {
      "text/plain": [
       "True"
      ]
     },
     "execution_count": 5,
     "metadata": {},
     "output_type": "execute_result"
    }
   ],
   "source": [
    "# Here we create the bayesian network model\n",
    "bnet = BN(\n",
    "    [\n",
    "        # Subject Arcs\n",
    "        ('CO', 'H'),\n",
    "        ('CA', 'H'),\n",
    "        \n",
    "        # Evidence Arcs\n",
    "        ('CO', 'EvCO'),\n",
    "        ('CA', 'EvCA'),\n",
    "        ('H', 'EvH')\n",
    "    ]\n",
    ")\n",
    "\n",
    "# Then we create all the CPDs\n",
    "# The CPD values are from False to True values\n",
    "\n",
    "# Subjects CPDs\n",
    "\n",
    "ca_cpd = TabularCPD(\n",
    "    variable='CA',\n",
    "    variable_card=2,\n",
    "    values=[\n",
    "        [0.5, 0.5]\n",
    "    ]\n",
    ")\n",
    "\n",
    "print('\\nSubject CPD for CA')\n",
    "print(ca_cpd)\n",
    "\n",
    "co_cpd = TabularCPD(\n",
    "    variable='CO',\n",
    "    variable_card=2,\n",
    "    values=[\n",
    "        [0.5, 0.5]\n",
    "    ]\n",
    ")\n",
    "\n",
    "print('\\nSubject CPD for CO')\n",
    "print(co_cpd)\n",
    "\n",
    "h_cpd = TabularCPD(\n",
    "    variable='H',\n",
    "    variable_card=2,\n",
    "    values=[\n",
    "        [0.9, 0.65, 0.65, 0.2],\n",
    "        [0.1, 0.35, 0.35, 0.8]],\n",
    "    evidence=['CA', 'CO'],\n",
    "    evidence_card=[2, 2]\n",
    ")\n",
    "\n",
    "print('\\nSubject CPD for H')\n",
    "print(h_cpd)\n",
    "\n",
    "subjects_cpds = [\n",
    "    ca_cpd,\n",
    "    co_cpd,\n",
    "    h_cpd\n",
    "]\n",
    "\n",
    "# Evidence Nodes\n",
    "\n",
    "ev_ca_cpd = TabularCPD(\n",
    "    variable='EvCA',\n",
    "    variable_card=2,\n",
    "    values=[\n",
    "        [0.8, 0.1],\n",
    "        [0.2, 0.9]\n",
    "    ],\n",
    "    evidence=['CA'],\n",
    "    evidence_card=[2]\n",
    ")\n",
    "\n",
    "print('\\nEvidence CPD for CA')\n",
    "print(ev_ca_cpd)\n",
    "\n",
    "ev_co_cpd = TabularCPD(\n",
    "    variable='EvCO',\n",
    "    variable_card=2,\n",
    "    values=[\n",
    "        [0.8, 0.1],\n",
    "        [0.2, 0.9]\n",
    "    ],\n",
    "    evidence=['CO'],\n",
    "    evidence_card=[2]\n",
    ")\n",
    "\n",
    "print('\\nEvidence CPD for CO')\n",
    "print(ev_co_cpd)\n",
    "\n",
    "ev_h_cpd = TabularCPD(\n",
    "    variable='EvH',\n",
    "    variable_card=2,\n",
    "    values=[\n",
    "        [0.8, 0.1],\n",
    "        [0.2, 0.9]\n",
    "    ],\n",
    "    evidence=['H'],\n",
    "    evidence_card=[2]\n",
    ")\n",
    "\n",
    "print('\\nEvidence CPD for H')\n",
    "print(ev_h_cpd)\n",
    "\n",
    "evidences_cpds = [\n",
    "    ev_ca_cpd,\n",
    "    ev_co_cpd,\n",
    "    ev_h_cpd\n",
    "]\n",
    "\n",
    "cpds = subjects_cpds + evidences_cpds\n",
    "\n",
    "bnet.add_cpds(*cpds)\n",
    "bnet.check_model()"
   ]
  },
  {
   "cell_type": "code",
   "execution_count": 6,
   "metadata": {},
   "outputs": [],
   "source": [
    "# Import packages for graphic visualization\n",
    "import networkx as nx\n",
    "import matplotlib.pyplot as plt"
   ]
  },
  {
   "cell_type": "code",
   "execution_count": 7,
   "metadata": {},
   "outputs": [
    {
     "data": {
      "image/png": "[encoded data removed]",
      "text/plain": [
       "<Figure size 432x288 with 1 Axes>"
      ]
     },
     "metadata": {},
     "output_type": "display_data"
    }
   ],
   "source": [
    "# Show graphic model\n",
    "nx.draw(bnet, with_labels=True)\n",
    "plt.show()"
   ]
  },
  {
   "cell_type": "code",
   "execution_count": 8,
   "metadata": {},
   "outputs": [],
   "source": [
    "# Import inference structure\n",
    "from pgmpy.inference import VariableElimination"
   ]
  },
  {
   "cell_type": "code",
   "execution_count": 9,
   "metadata": {},
   "outputs": [],
   "source": [
    "# Create a inference object\n",
    "bnet_infer = VariableElimination(bnet)"
   ]
  },
  {
   "cell_type": "code",
   "execution_count": 10,
   "metadata": {},
   "outputs": [
    {
     "name": "stderr",
     "output_type": "stream",
     "text": [
      "Finding Elimination Order: : 100%|██████████| 4/4 [00:00<00:00, 709.97it/s]\n",
      "Eliminating: CO: 100%|██████████| 4/4 [00:00<00:00, 327.51it/s]"
     ]
    },
    {
     "name": "stdout",
     "output_type": "stream",
     "text": [
      "+-------+-----------+\n",
      "| CA    |   phi(CA) |\n",
      "+=======+===========+\n",
      "| CA(0) |    0.1818 |\n",
      "+-------+-----------+\n",
      "| CA(1) |    0.8182 |\n",
      "+-------+-----------+\n"
     ]
    },
    {
     "name": "stderr",
     "output_type": "stream",
     "text": [
      "\n"
     ]
    }
   ],
   "source": [
    "# Compute inference for CA when EvCA observation is True\n",
    "print(bnet_infer.query(variables=['CA'], evidence={'EvCA': 1}))"
   ]
  },
  {
   "cell_type": "code",
   "execution_count": 4,
   "metadata": {},
   "outputs": [
    {
     "ename": "NameError",
     "evalue": "name 'bnet_infer' is not defined",
     "output_type": "error",
     "traceback": [
      "\u001b[0;31m---------------------------------------------------------------------------\u001b[0m",
      "\u001b[0;31mNameError\u001b[0m                                 Traceback (most recent call last)",
      "\u001b[0;32m<ipython-input-4-fd87dfb6fc0f>\u001b[0m in \u001b[0;36m<module>\u001b[0;34m\u001b[0m\n\u001b[1;32m      1\u001b[0m \u001b[0;31m# Compute inference for CA when EvCA observation is True\u001b[0m\u001b[0;34m\u001b[0m\u001b[0;34m\u001b[0m\u001b[0;34m\u001b[0m\u001b[0m\n\u001b[0;32m----> 2\u001b[0;31m \u001b[0mprint\u001b[0m\u001b[0;34m(\u001b[0m\u001b[0mbnet_infer\u001b[0m\u001b[0;34m.\u001b[0m\u001b[0mquery\u001b[0m\u001b[0;34m(\u001b[0m\u001b[0mvariables\u001b[0m\u001b[0;34m=\u001b[0m\u001b[0;34m[\u001b[0m\u001b[0;34m'CA'\u001b[0m\u001b[0;34m]\u001b[0m\u001b[0;34m,\u001b[0m \u001b[0mevidence\u001b[0m\u001b[0;34m=\u001b[0m\u001b[0;34m{\u001b[0m\u001b[0;34m'EvCA'\u001b[0m\u001b[0;34m:\u001b[0m \u001b[0;36m1\u001b[0m\u001b[0;34m}\u001b[0m\u001b[0;34m)\u001b[0m\u001b[0;34m)\u001b[0m\u001b[0;34m\u001b[0m\u001b[0;34m\u001b[0m\u001b[0m\n\u001b[0m",
      "\u001b[0;31mNameError\u001b[0m: name 'bnet_infer' is not defined"
     ]
    }
   ],
   "source": [
    "# Compute inference for CA when EvCA observation is True\n",
    "print(bnet_infer.query(variables=['CA'], evidence={'EvCA': 1}))"
   ]
  },
  {
   "cell_type": "code",
   "execution_count": 11,
   "metadata": {},
   "outputs": [
    {
     "name": "stderr",
     "output_type": "stream",
     "text": [
      "Finding Elimination Order: : 100%|██████████| 5/5 [00:00<00:00, 1962.89it/s]\n",
      "Eliminating: CO: 100%|██████████| 5/5 [00:00<00:00, 383.70it/s]"
     ]
    },
    {
     "name": "stdout",
     "output_type": "stream",
     "text": [
      "+------+----------+\n",
      "| H    |   phi(H) |\n",
      "+======+==========+\n",
      "| H(0) |   0.5584 |\n",
      "+------+----------+\n",
      "| H(1) |   0.4416 |\n",
      "+------+----------+\n"
     ]
    },
    {
     "name": "stderr",
     "output_type": "stream",
     "text": [
      "\n"
     ]
    }
   ],
   "source": [
    "# Compute inference for CA when EvCA observation is True\n",
    "print(bnet_infer.query(variables=['H']))"
   ]
  },
  {
   "cell_type": "code",
   "execution_count": null,
   "metadata": {},
   "outputs": [],
   "source": []
  }
 ],
 "metadata": {
  "kernelspec": {
   "display_name": "Python 3",
   "language": "python",
   "name": "python3"
  },
  "language_info": {
   "codemirror_mode": {
    "name": "ipython",
    "version": 3
   },
   "file_extension": ".py",
   "mimetype": "text/x-python",
   "name": "python",
   "nbconvert_exporter": "python",
   "pygments_lexer": "ipython3",
   "version": "3.6.9"
  }
 },
 "nbformat": 4,
 "nbformat_minor": 4
}
