{
 "cells": [
  {
   "cell_type": "markdown",
   "metadata": {},
   "source": [
    "<a href=\"http://agrum.org\" target=\"blank\"><img src=\"http://agrum.gitlab.io/theme/img/logoAgrum.png\" align=\"left\" style=\"height:100px\"/></a><a rel=\"license\" href=\"http://creativecommons.org/licenses/by-nc/4.0/\"><img alt=\"Creative Commons License\" style=\"border-width:0\" src=\"https://i.creativecommons.org/l/by-nc/4.0/88x31.png\" /></a><br />This pyAgrum's notebook is licensed under a <a rel=\"license\" href=\"http://creativecommons.org/licenses/by-nc/4.0/\">Creative Commons Attribution-NonCommercial 4.0 International License</a>."
   ]
  },
  {
   "cell_type": "code",
   "execution_count": 1,
   "metadata": {
    "ExecuteTime": {
     "end_time": "2019-03-30T09:47:26.455586Z",
     "start_time": "2019-03-30T09:47:26.223653Z"
    }
   },
   "outputs": [],
   "source": [
    "from IPython.display import display, Math, Latex, HTML\n",
    "\n",
    "import pyAgrum as gum\n",
    "import pyAgrum.lib.notebook as gnb\n",
    "import pyAgrum.causal as csl\n",
    "import pyAgrum.causal.notebook as cslnb"
   ]
  },
  {
   "cell_type": "markdown",
   "metadata": {},
   "source": [
    "# EXAMPLE S. Tikka and J. Karvanen, 2016 [CRAN]"
   ]
  },
  {
   "cell_type": "code",
   "execution_count": 2,
   "metadata": {
    "ExecuteTime": {
     "end_time": "2019-03-30T09:47:30.296100Z",
     "start_time": "2019-03-30T09:47:26.457764Z"
    }
   },
   "outputs": [
    {
     "data": {
      "text/html": [
       "<table style=\"border-style: hidden; border-collapse: collapse;\" width=\"100%\"><tr><td style=\"border-top:hidden;border-bottom:hidden;\"><div align=\"center\" style=\"\"><svg xmlns=\"http://www.w3.org/2000/svg\" xmlns:xlink=\"http://www.w3.org/1999/xlink\" width=\"115pt\" height=\"260pt\" viewBox=\"0.00 0.00 115.00 260.00\">\n",
       "<g id=\"graph0\" class=\"graph\" transform=\"scale(1 1) rotate(0) translate(4 256)\">\n",
       "<title>G</title>\n",
       "<!-- lat1 -->\n",
       "<g id=\"node1\" class=\"node\">\n",
       "<title>lat1</title>\n",
       "<ellipse fill=\"#404040\" stroke=\"#4a4a4a\" cx=\"29\" cy=\"-234\" rx=\"1.8\" ry=\"1.8\"/>\n",
       "</g>\n",
       "<!-- x -->\n",
       "<g id=\"node3\" class=\"node\">\n",
       "<title>x</title>\n",
       "<ellipse fill=\"#404040\" stroke=\"#4a4a4a\" cx=\"55\" cy=\"-162\" rx=\"27\" ry=\"18\"/>\n",
       "<text text-anchor=\"middle\" x=\"55\" y=\"-158.3\" font-family=\"Times,serif\" font-size=\"14.00\" fill=\"white\">x</text>\n",
       "</g>\n",
       "<!-- lat1&#45;&gt;x -->\n",
       "<g id=\"edge6\" class=\"edge\">\n",
       "<title>lat1-&gt;x</title>\n",
       "<path fill=\"none\" stroke=\"#4a4a4a\" stroke-dasharray=\"5,2\" d=\"M29.29,-232.21C30.88,-227.93 38.68,-206.94 45.27,-189.19\"/>\n",
       "<polygon fill=\"#4a4a4a\" stroke=\"#4a4a4a\" points=\"48.56,-190.38 48.76,-179.79 42,-187.94 48.56,-190.38\"/>\n",
       "</g>\n",
       "<!-- y -->\n",
       "<g id=\"node5\" class=\"node\">\n",
       "<title>y</title>\n",
       "<ellipse fill=\"#404040\" stroke=\"#4a4a4a\" cx=\"27\" cy=\"-18\" rx=\"27\" ry=\"18\"/>\n",
       "<text text-anchor=\"middle\" x=\"27\" y=\"-14.3\" font-family=\"Times,serif\" font-size=\"14.00\" fill=\"white\">y</text>\n",
       "</g>\n",
       "<!-- lat1&#45;&gt;y -->\n",
       "<g id=\"edge3\" class=\"edge\">\n",
       "<title>lat1-&gt;y</title>\n",
       "<path fill=\"none\" stroke=\"#4a4a4a\" stroke-dasharray=\"5,2\" d=\"M28.66,-231.7C27.14,-225.8 20.95,-200.88 19,-180 14.53,-132.21 15.41,-119.87 19,-72 19.64,-63.52 20.84,-54.34 22.12,-46.04\"/>\n",
       "<polygon fill=\"#4a4a4a\" stroke=\"#4a4a4a\" points=\"25.58,-46.55 23.75,-36.11 18.68,-45.41 25.58,-46.55\"/>\n",
       "</g>\n",
       "<!-- w -->\n",
       "<g id=\"node2\" class=\"node\">\n",
       "<title>w</title>\n",
       "<ellipse fill=\"#404040\" stroke=\"#4a4a4a\" cx=\"80\" cy=\"-234\" rx=\"27\" ry=\"18\"/>\n",
       "<text text-anchor=\"middle\" x=\"80\" y=\"-230.3\" font-family=\"Times,serif\" font-size=\"14.00\" fill=\"white\">w</text>\n",
       "</g>\n",
       "<!-- w&#45;&gt;x -->\n",
       "<g id=\"edge1\" class=\"edge\">\n",
       "<title>w-&gt;x</title>\n",
       "<path fill=\"none\" stroke=\"#4a4a4a\" d=\"M73.13,-216.75C70.28,-208.76 66.79,-198.98 63.57,-189.98\"/>\n",
       "<path fill=\"none\" stroke=\"#4a4a4a\" d=\"M75.02,-216.07C72.16,-208.08 68.67,-198.31 65.46,-189.31\"/>\n",
       "<polygon fill=\"#4a4a4a\" stroke=\"#4a4a4a\" points=\"67.72,-188.2 61.06,-179.96 61.12,-190.55 67.72,-188.2\"/>\n",
       "</g>\n",
       "<!-- z -->\n",
       "<g id=\"node4\" class=\"node\">\n",
       "<title>z</title>\n",
       "<ellipse fill=\"#404040\" stroke=\"#4a4a4a\" cx=\"55\" cy=\"-90\" rx=\"27\" ry=\"18\"/>\n",
       "<text text-anchor=\"middle\" x=\"55\" y=\"-86.3\" font-family=\"Times,serif\" font-size=\"14.00\" fill=\"white\">z</text>\n",
       "</g>\n",
       "<!-- w&#45;&gt;z -->\n",
       "<g id=\"edge5\" class=\"edge\">\n",
       "<title>w-&gt;z</title>\n",
       "<path fill=\"none\" stroke=\"#4a4a4a\" d=\"M85.19,-215.93C90.9,-197.85 97.53,-168.19 90.04,-144.29 86.86,-133.83 80.6,-123.36 74.27,-114.67\"/>\n",
       "<path fill=\"none\" stroke=\"#4a4a4a\" d=\"M87.1,-216.54C92.86,-198.28 99.48,-168.62 91.96,-143.71 88.57,-132.8 82.32,-122.34 75.88,-113.49\"/>\n",
       "<polygon fill=\"#4a4a4a\" stroke=\"#4a4a4a\" points=\"77.65,-111.69 68.75,-105.93 72.12,-115.98 77.65,-111.69\"/>\n",
       "</g>\n",
       "<!-- x&#45;&gt;z -->\n",
       "<g id=\"edge2\" class=\"edge\">\n",
       "<title>x-&gt;z</title>\n",
       "<path fill=\"none\" stroke=\"#4a4a4a\" d=\"M54,-143.7C54,-135.98 54,-126.71 54,-118.11\"/>\n",
       "<path fill=\"none\" stroke=\"#4a4a4a\" d=\"M56,-143.7C56,-135.98 56,-126.71 56,-118.11\"/>\n",
       "<polygon fill=\"#4a4a4a\" stroke=\"#4a4a4a\" points=\"58.5,-118.1 55,-108.1 51.5,-118.1 58.5,-118.1\"/>\n",
       "</g>\n",
       "<!-- z&#45;&gt;y -->\n",
       "<g id=\"edge4\" class=\"edge\">\n",
       "<title>z-&gt;y</title>\n",
       "<path fill=\"none\" stroke=\"#4a4a4a\" d=\"M47.44,-72.78C44.16,-64.59 40.13,-54.51 36.45,-45.33\"/>\n",
       "<path fill=\"none\" stroke=\"#4a4a4a\" d=\"M49.29,-72.04C46.02,-63.85 41.98,-53.77 38.31,-44.58\"/>\n",
       "<polygon fill=\"#4a4a4a\" stroke=\"#4a4a4a\" points=\"40.55,-43.45 33.59,-35.47 34.05,-46.05 40.55,-43.45\"/>\n",
       "</g>\n",
       "</g>\n",
       "</svg></div></td><td style=\"border-top:hidden;border-bottom:hidden;\"><div align=\"center\" style=\"\">$$\\begin{equation}P( y \\mid \\hookrightarrow\\mkern-6.5mux) = \\sum_{w,z}{\\left(\\sum_{x'}{P\\left(x'\\mid w\\right) \\cdot P\\left(y\\mid w,x',z\\right)}\\right) \\cdot P\\left(z\\mid w,x\\right) \\cdot P\\left(w\\right)}\\end{equation}$$</div></td><td style=\"border-top:hidden;border-bottom:hidden;\"><div align=\"center\" style=\"\"><table style=\"border:1px solid black;\">\n",
       "<tr style='border:1px solid black;color:black;background-color:#808080'><th colspan='2'><center>y</center></th></tr>\n",
       "<tr><th style='border:1px solid black;border-bottom-style: double;color:black;background-color:#BBBBBB'><center>0</center></th><th style='border:1px solid black;border-bottom-style: double;color:black;background-color:#BBBBBB'><center>1</center></th></tr>\n",
       "<tr><td style='color:black;background-color:#bdc064;text-align:right;'>0.5130</td><td style='color:black;background-color:#c0bd64;text-align:right;'>0.4870</td></tr>\n",
       "</table></div></td></tr><tr><td style=\"border-top:hidden;border-bottom:hidden;\"><div align=\"center\"><small>Causal Model</small></div></td><td style=\"border-top:hidden;border-bottom:hidden;\"><div align=\"center\"><small>Explanation : Do-calculus computations</small></div></td><td style=\"border-top:hidden;border-bottom:hidden;\"><div align=\"center\"><small>Impact : $P( y \\mid \\hookrightarrow\\mkern-6.5mux=0)$</small></div></td></tr></table>"
      ],
      "text/plain": [
       "<IPython.core.display.HTML object>"
      ]
     },
     "metadata": {},
     "output_type": "display_data"
    },
    {
     "data": {
      "text/html": [
       "<table style=\"border-style: hidden; border-collapse: collapse;\" width=\"100%\"><tr><td style=\"border-top:hidden;border-bottom:hidden;\"><div align=\"center\" style=\"\"><svg xmlns=\"http://www.w3.org/2000/svg\" xmlns:xlink=\"http://www.w3.org/1999/xlink\" width=\"115pt\" height=\"260pt\" viewBox=\"0.00 0.00 115.00 260.00\">\n",
       "<g id=\"graph0\" class=\"graph\" transform=\"scale(1 1) rotate(0) translate(4 256)\">\n",
       "<title>G</title>\n",
       "<!-- lat1 -->\n",
       "<g id=\"node1\" class=\"node\">\n",
       "<title>lat1</title>\n",
       "<ellipse fill=\"#404040\" stroke=\"#4a4a4a\" cx=\"29\" cy=\"-234\" rx=\"1.8\" ry=\"1.8\"/>\n",
       "</g>\n",
       "<!-- x -->\n",
       "<g id=\"node3\" class=\"node\">\n",
       "<title>x</title>\n",
       "<ellipse fill=\"#404040\" stroke=\"#4a4a4a\" cx=\"55\" cy=\"-162\" rx=\"27\" ry=\"18\"/>\n",
       "<text text-anchor=\"middle\" x=\"55\" y=\"-158.3\" font-family=\"Times,serif\" font-size=\"14.00\" fill=\"white\">x</text>\n",
       "</g>\n",
       "<!-- lat1&#45;&gt;x -->\n",
       "<g id=\"edge6\" class=\"edge\">\n",
       "<title>lat1-&gt;x</title>\n",
       "<path fill=\"none\" stroke=\"#4a4a4a\" stroke-dasharray=\"5,2\" d=\"M29.29,-232.21C30.88,-227.93 38.68,-206.94 45.27,-189.19\"/>\n",
       "<polygon fill=\"#4a4a4a\" stroke=\"#4a4a4a\" points=\"48.56,-190.38 48.76,-179.79 42,-187.94 48.56,-190.38\"/>\n",
       "</g>\n",
       "<!-- y -->\n",
       "<g id=\"node5\" class=\"node\">\n",
       "<title>y</title>\n",
       "<ellipse fill=\"#404040\" stroke=\"#4a4a4a\" cx=\"27\" cy=\"-18\" rx=\"27\" ry=\"18\"/>\n",
       "<text text-anchor=\"middle\" x=\"27\" y=\"-14.3\" font-family=\"Times,serif\" font-size=\"14.00\" fill=\"white\">y</text>\n",
       "</g>\n",
       "<!-- lat1&#45;&gt;y -->\n",
       "<g id=\"edge3\" class=\"edge\">\n",
       "<title>lat1-&gt;y</title>\n",
       "<path fill=\"none\" stroke=\"#4a4a4a\" stroke-dasharray=\"5,2\" d=\"M28.66,-231.7C27.14,-225.8 20.95,-200.88 19,-180 14.53,-132.21 15.41,-119.87 19,-72 19.64,-63.52 20.84,-54.34 22.12,-46.04\"/>\n",
       "<polygon fill=\"#4a4a4a\" stroke=\"#4a4a4a\" points=\"25.58,-46.55 23.75,-36.11 18.68,-45.41 25.58,-46.55\"/>\n",
       "</g>\n",
       "<!-- w -->\n",
       "<g id=\"node2\" class=\"node\">\n",
       "<title>w</title>\n",
       "<ellipse fill=\"#404040\" stroke=\"#4a4a4a\" cx=\"80\" cy=\"-234\" rx=\"27\" ry=\"18\"/>\n",
       "<text text-anchor=\"middle\" x=\"80\" y=\"-230.3\" font-family=\"Times,serif\" font-size=\"14.00\" fill=\"white\">w</text>\n",
       "</g>\n",
       "<!-- w&#45;&gt;x -->\n",
       "<g id=\"edge1\" class=\"edge\">\n",
       "<title>w-&gt;x</title>\n",
       "<path fill=\"none\" stroke=\"#4a4a4a\" d=\"M73.13,-216.75C70.28,-208.76 66.79,-198.98 63.57,-189.98\"/>\n",
       "<path fill=\"none\" stroke=\"#4a4a4a\" d=\"M75.02,-216.07C72.16,-208.08 68.67,-198.31 65.46,-189.31\"/>\n",
       "<polygon fill=\"#4a4a4a\" stroke=\"#4a4a4a\" points=\"67.72,-188.2 61.06,-179.96 61.12,-190.55 67.72,-188.2\"/>\n",
       "</g>\n",
       "<!-- z -->\n",
       "<g id=\"node4\" class=\"node\">\n",
       "<title>z</title>\n",
       "<ellipse fill=\"#404040\" stroke=\"#4a4a4a\" cx=\"55\" cy=\"-90\" rx=\"27\" ry=\"18\"/>\n",
       "<text text-anchor=\"middle\" x=\"55\" y=\"-86.3\" font-family=\"Times,serif\" font-size=\"14.00\" fill=\"white\">z</text>\n",
       "</g>\n",
       "<!-- w&#45;&gt;z -->\n",
       "<g id=\"edge5\" class=\"edge\">\n",
       "<title>w-&gt;z</title>\n",
       "<path fill=\"none\" stroke=\"#4a4a4a\" d=\"M85.19,-215.93C90.9,-197.85 97.53,-168.19 90.04,-144.29 86.86,-133.83 80.6,-123.36 74.27,-114.67\"/>\n",
       "<path fill=\"none\" stroke=\"#4a4a4a\" d=\"M87.1,-216.54C92.86,-198.28 99.48,-168.62 91.96,-143.71 88.57,-132.8 82.32,-122.34 75.88,-113.49\"/>\n",
       "<polygon fill=\"#4a4a4a\" stroke=\"#4a4a4a\" points=\"77.65,-111.69 68.75,-105.93 72.12,-115.98 77.65,-111.69\"/>\n",
       "</g>\n",
       "<!-- x&#45;&gt;z -->\n",
       "<g id=\"edge2\" class=\"edge\">\n",
       "<title>x-&gt;z</title>\n",
       "<path fill=\"none\" stroke=\"#4a4a4a\" d=\"M54,-143.7C54,-135.98 54,-126.71 54,-118.11\"/>\n",
       "<path fill=\"none\" stroke=\"#4a4a4a\" d=\"M56,-143.7C56,-135.98 56,-126.71 56,-118.11\"/>\n",
       "<polygon fill=\"#4a4a4a\" stroke=\"#4a4a4a\" points=\"58.5,-118.1 55,-108.1 51.5,-118.1 58.5,-118.1\"/>\n",
       "</g>\n",
       "<!-- z&#45;&gt;y -->\n",
       "<g id=\"edge4\" class=\"edge\">\n",
       "<title>z-&gt;y</title>\n",
       "<path fill=\"none\" stroke=\"#4a4a4a\" d=\"M47.44,-72.78C44.16,-64.59 40.13,-54.51 36.45,-45.33\"/>\n",
       "<path fill=\"none\" stroke=\"#4a4a4a\" d=\"M49.29,-72.04C46.02,-63.85 41.98,-53.77 38.31,-44.58\"/>\n",
       "<polygon fill=\"#4a4a4a\" stroke=\"#4a4a4a\" points=\"40.55,-43.45 33.59,-35.47 34.05,-46.05 40.55,-43.45\"/>\n",
       "</g>\n",
       "</g>\n",
       "</svg></div></td><td style=\"border-top:hidden;border-bottom:hidden;\"><div align=\"center\" style=\"\">$$\\begin{equation}P( y \\mid \\hookrightarrow\\mkern-6.5mux) = \\sum_{w,z}{\\left(\\sum_{x'}{P\\left(x'\\mid w\\right) \\cdot P\\left(y\\mid w,x',z\\right)}\\right) \\cdot P\\left(z\\mid w,x\\right) \\cdot P\\left(w\\right)}\\end{equation}$$</div></td><td style=\"border-top:hidden;border-bottom:hidden;\"><div align=\"center\" style=\"\"><table style=\"border:1px solid black;\">\n",
       "<tr style='border:1px solid black;color:black;background-color:#808080'><th colspan='2'><center>y</center></th></tr>\n",
       "<tr><th style='border:1px solid black;border-bottom-style: double;color:black;background-color:#BBBBBB'><center>0</center></th><th style='border:1px solid black;border-bottom-style: double;color:black;background-color:#BBBBBB'><center>1</center></th></tr>\n",
       "<tr><td style='color:black;background-color:#acd164;text-align:right;'>0.6460</td><td style='color:black;background-color:#d1ac64;text-align:right;'>0.3540</td></tr>\n",
       "</table></div></td></tr><tr><td style=\"border-top:hidden;border-bottom:hidden;\"><div align=\"center\"><small>Causal Model</small></div></td><td style=\"border-top:hidden;border-bottom:hidden;\"><div align=\"center\"><small>Explanation : Do-calculus computations</small></div></td><td style=\"border-top:hidden;border-bottom:hidden;\"><div align=\"center\"><small>Impact : $P( y \\mid \\hookrightarrow\\mkern-6.5mux=1)$</small></div></td></tr></table>"
      ],
      "text/plain": [
       "<IPython.core.display.HTML object>"
      ]
     },
     "metadata": {},
     "output_type": "display_data"
    }
   ],
   "source": [
    "bn = gum.fastBN(\"w->x->z->y;w->z\")\n",
    "\n",
    "bn.cpt(\"w\")[:] = [0.7,0.3]\n",
    "\n",
    "bn.cpt(\"x\")[:] = [[0.4,0.6],[0.3,0.7]]\n",
    "\n",
    "bn.cpt(\"z\")[{'w':0,'x':0}]=[0.2,0.8]\n",
    "bn.cpt(\"z\")[{'w':0,'x':1}]=[0.1,0.9]\n",
    "bn.cpt(\"z\")[{'w':1,'x':0}]=[0.9,0.1]\n",
    "bn.cpt(\"z\")[{'w':1,'x':1}]=[0.5,0.5]\n",
    "\n",
    "bn.cpt(\"y\")[:] = [[0.1,0.9],[0.8,0.2]]\n",
    "\n",
    "\n",
    "d = csl.CausalModel(bn, [(\"lat1\", [\"x\",\"y\"])])\n",
    "#csl.causalImpact(d,\"y\",{\"x\":0})\n",
    "cslnb.showCausalImpact(d,\"y\",\"x\",values={\"x\":0})\n",
    "cslnb.showCausalImpact(d,\"y\",\"x\",values={\"x\":1})\n",
    "\n"
   ]
  },
  {
   "cell_type": "markdown",
   "metadata": {},
   "source": [
    "Since we have the formula, let us compute by hand this intervention :"
   ]
  },
  {
   "cell_type": "code",
   "execution_count": 3,
   "metadata": {
    "ExecuteTime": {
     "end_time": "2019-03-30T09:47:30.305181Z",
     "start_time": "2019-03-30T09:47:30.298891Z"
    }
   },
   "outputs": [
    {
     "data": {
      "text/html": [
       "<table style=\"border:1px solid black;\">\n",
       "<tr><th colspan='1'></th><th colspan='2' style='border:1px solid black;color:black;background-color:#808080;'><center>y</center></th></tr>\n",
       "<tr><th style='border:1px solid black;color:black;background-color:#808080'><center>x</center></th><th style='border:1px solid black;border-bottom-style: double;color:black;background-color:#BBBBBB'><center>0</center></th><th style='border:1px solid black;border-bottom-style: double;color:black;background-color:#BBBBBB'><center>1</center></th></tr>\n",
       "<tr><th style='border:1px solid black;color:black;background-color:#BBBBBB'><center>0</center></th><td style='color:black;background-color:#bdc064;text-align:right;'>0.5130</td><td style='color:black;background-color:#c0bd64;text-align:right;'>0.4870</td></tr>\n",
       "<tr><th style='border:1px solid black;color:black;background-color:#BBBBBB'><center>1</center></th><td style='color:black;background-color:#acd164;text-align:right;'>0.6460</td><td style='color:black;background-color:#d1ac64;text-align:right;'>0.3540</td></tr>\n",
       "</table>"
      ],
      "text/plain": [
       "(gum::Potential<double>@0x563698d29360) <y:0|x:0> :: 0.513 /<y:1|x:0> :: 0.487 /<y:0|x:1> :: 0.646 /<y:1|x:1> :: 0.354"
      ]
     },
     "execution_count": 3,
     "metadata": {},
     "output_type": "execute_result"
    }
   ],
   "source": [
    "(((bn.cpt(\"x\") * bn.cpt(\"y\")).margSumOut([\"x\"]) * bn.cpt(\"w\") * bn.cpt(\"z\")).margSumOut([\"z\", \"w\"])).putFirst(\"y\")"
   ]
  },
  {
   "cell_type": "code",
   "execution_count": 4,
   "metadata": {
    "ExecuteTime": {
     "end_time": "2019-03-30T09:47:32.332589Z",
     "start_time": "2019-03-30T09:47:30.307406Z"
    }
   },
   "outputs": [
    {
     "data": {
      "text/html": [
       "<table style=\"border-style: hidden; border-collapse: collapse;\" width=\"100%\"><tr><td style=\"border-top:hidden;border-bottom:hidden;\"><div align=\"center\" style=\"\"><svg xmlns=\"http://www.w3.org/2000/svg\" xmlns:xlink=\"http://www.w3.org/1999/xlink\" width=\"155pt\" height=\"300pt\" viewBox=\"0.00 0.00 154.80 299.60\">\n",
       "<g id=\"graph0\" class=\"graph\" transform=\"scale(1 1) rotate(0) translate(4 295.6)\">\n",
       "<title>G</title>\n",
       "<!-- L1 -->\n",
       "<g id=\"node1\" class=\"node\">\n",
       "<title>L1</title>\n",
       "<ellipse fill=\"#404040\" stroke=\"#4a4a4a\" cx=\"88\" cy=\"-289.8\" rx=\"1.8\" ry=\"1.8\"/>\n",
       "</g>\n",
       "<!-- Z1 -->\n",
       "<g id=\"node5\" class=\"node\">\n",
       "<title>Z1</title>\n",
       "<ellipse fill=\"#404040\" stroke=\"#4a4a4a\" cx=\"70\" cy=\"-234\" rx=\"27\" ry=\"18\"/>\n",
       "<text text-anchor=\"middle\" x=\"70\" y=\"-230.3\" font-family=\"Times,serif\" font-size=\"14.00\" fill=\"white\">Z1</text>\n",
       "</g>\n",
       "<!-- L1&#45;&gt;Z1 -->\n",
       "<g id=\"edge4\" class=\"edge\">\n",
       "<title>L1-&gt;Z1</title>\n",
       "<path fill=\"none\" stroke=\"#4a4a4a\" stroke-dasharray=\"5,2\" d=\"M87.69,-287.87C86.57,-284.53 82.64,-272.78 78.77,-261.21\"/>\n",
       "<polygon fill=\"#4a4a4a\" stroke=\"#4a4a4a\" points=\"82.08,-260.09 75.59,-251.71 75.45,-262.31 82.08,-260.09\"/>\n",
       "</g>\n",
       "<!-- X -->\n",
       "<g id=\"node6\" class=\"node\">\n",
       "<title>X</title>\n",
       "<ellipse fill=\"#404040\" stroke=\"#4a4a4a\" cx=\"82\" cy=\"-162\" rx=\"27\" ry=\"18\"/>\n",
       "<text text-anchor=\"middle\" x=\"82\" y=\"-158.3\" font-family=\"Times,serif\" font-size=\"14.00\" fill=\"white\">X</text>\n",
       "</g>\n",
       "<!-- L1&#45;&gt;X -->\n",
       "<g id=\"edge10\" class=\"edge\">\n",
       "<title>L1-&gt;X</title>\n",
       "<path fill=\"none\" stroke=\"#4a4a4a\" stroke-dasharray=\"5,2\" d=\"M88.61,-287.95C91.32,-284.06 102.41,-267.52 106,-252 109.61,-236.41 109.38,-231.64 106,-216 103.96,-206.53 100.08,-196.72 96.02,-188.15\"/>\n",
       "<polygon fill=\"#4a4a4a\" stroke=\"#4a4a4a\" points=\"99.08,-186.44 91.46,-179.08 92.83,-189.59 99.08,-186.44\"/>\n",
       "</g>\n",
       "<!-- L2 -->\n",
       "<g id=\"node2\" class=\"node\">\n",
       "<title>L2</title>\n",
       "<ellipse fill=\"#404040\" stroke=\"#4a4a4a\" cx=\"145\" cy=\"-289.8\" rx=\"1.8\" ry=\"1.8\"/>\n",
       "</g>\n",
       "<!-- L2&#45;&gt;Z1 -->\n",
       "<g id=\"edge7\" class=\"edge\">\n",
       "<title>L2-&gt;Z1</title>\n",
       "<path fill=\"none\" stroke=\"#4a4a4a\" stroke-dasharray=\"5,2\" d=\"M144.16,-288.2C139.39,-284.78 115.32,-267.51 95.88,-253.57\"/>\n",
       "<polygon fill=\"#4a4a4a\" stroke=\"#4a4a4a\" points=\"97.8,-250.63 87.63,-247.65 93.72,-256.32 97.8,-250.63\"/>\n",
       "</g>\n",
       "<!-- Z2 -->\n",
       "<g id=\"node7\" class=\"node\">\n",
       "<title>Z2</title>\n",
       "<ellipse fill=\"#404040\" stroke=\"#4a4a4a\" cx=\"82\" cy=\"-90\" rx=\"27\" ry=\"18\"/>\n",
       "<text text-anchor=\"middle\" x=\"82\" y=\"-86.3\" font-family=\"Times,serif\" font-size=\"14.00\" fill=\"white\">Z2</text>\n",
       "</g>\n",
       "<!-- L2&#45;&gt;Z2 -->\n",
       "<g id=\"edge11\" class=\"edge\">\n",
       "<title>L2-&gt;Z2</title>\n",
       "<path fill=\"none\" stroke=\"#4a4a4a\" stroke-dasharray=\"5,2\" d=\"M144.97,-287.84C144.65,-278.36 141.36,-200.75 118,-144 113.74,-133.66 107.28,-123.27 101,-114.47\"/>\n",
       "<polygon fill=\"#4a4a4a\" stroke=\"#4a4a4a\" points=\"103.65,-112.17 94.87,-106.25 98.04,-116.36 103.65,-112.17\"/>\n",
       "</g>\n",
       "<!-- L3 -->\n",
       "<g id=\"node3\" class=\"node\">\n",
       "<title>L3</title>\n",
       "<ellipse fill=\"#404040\" stroke=\"#4a4a4a\" cx=\"39\" cy=\"-289.8\" rx=\"1.8\" ry=\"1.8\"/>\n",
       "</g>\n",
       "<!-- L3&#45;&gt;Z1 -->\n",
       "<g id=\"edge8\" class=\"edge\">\n",
       "<title>L3-&gt;Z1</title>\n",
       "<path fill=\"none\" stroke=\"#4a4a4a\" stroke-dasharray=\"5,2\" d=\"M39.54,-287.87C41.52,-284.42 48.69,-271.99 55.56,-260.05\"/>\n",
       "<polygon fill=\"#4a4a4a\" stroke=\"#4a4a4a\" points=\"58.72,-261.59 60.68,-251.17 52.66,-258.09 58.72,-261.59\"/>\n",
       "</g>\n",
       "<!-- Y -->\n",
       "<g id=\"node8\" class=\"node\">\n",
       "<title>Y</title>\n",
       "<ellipse fill=\"#404040\" stroke=\"#4a4a4a\" cx=\"27\" cy=\"-18\" rx=\"27\" ry=\"18\"/>\n",
       "<text text-anchor=\"middle\" x=\"27\" y=\"-14.3\" font-family=\"Times,serif\" font-size=\"14.00\" fill=\"white\">Y</text>\n",
       "</g>\n",
       "<!-- L3&#45;&gt;Y -->\n",
       "<g id=\"edge9\" class=\"edge\">\n",
       "<title>L3-&gt;Y</title>\n",
       "<path fill=\"none\" stroke=\"#4a4a4a\" stroke-dasharray=\"5,2\" d=\"M38.1,-288.01C34.05,-284.39 17.52,-268.87 12,-252 -11.48,-180.32 7.1,-89.74 19,-45.61\"/>\n",
       "<polygon fill=\"#4a4a4a\" stroke=\"#4a4a4a\" points=\"22.39,-46.49 21.71,-35.92 15.65,-44.61 22.39,-46.49\"/>\n",
       "</g>\n",
       "<!-- L4 -->\n",
       "<g id=\"node4\" class=\"node\">\n",
       "<title>L4</title>\n",
       "<ellipse fill=\"#404040\" stroke=\"#4a4a4a\" cx=\"23\" cy=\"-234\" rx=\"1.8\" ry=\"1.8\"/>\n",
       "</g>\n",
       "<!-- L4&#45;&gt;X -->\n",
       "<g id=\"edge3\" class=\"edge\">\n",
       "<title>L4-&gt;X</title>\n",
       "<path fill=\"none\" stroke=\"#4a4a4a\" stroke-dasharray=\"5,2\" d=\"M23.55,-232.04C25.07,-229.4 29.55,-221.8 34,-216 42.15,-205.39 51.95,-194.31 60.57,-185.05\"/>\n",
       "<polygon fill=\"#4a4a4a\" stroke=\"#4a4a4a\" points=\"63.14,-187.42 67.46,-177.74 58.05,-182.61 63.14,-187.42\"/>\n",
       "</g>\n",
       "<!-- L4&#45;&gt;Y -->\n",
       "<g id=\"edge5\" class=\"edge\">\n",
       "<title>L4-&gt;Y</title>\n",
       "<path fill=\"none\" stroke=\"#4a4a4a\" stroke-dasharray=\"5,2\" d=\"M23.02,-232.05C23.24,-220.2 25.46,-101.13 26.49,-46.33\"/>\n",
       "<polygon fill=\"#4a4a4a\" stroke=\"#4a4a4a\" points=\"29.99,-46.35 26.68,-36.28 22.99,-46.22 29.99,-46.35\"/>\n",
       "</g>\n",
       "<!-- Z1&#45;&gt;X -->\n",
       "<g id=\"edge1\" class=\"edge\">\n",
       "<title>Z1-&gt;X</title>\n",
       "<path fill=\"none\" stroke=\"#4a4a4a\" d=\"M71.92,-215.89C73.24,-208.18 74.84,-198.86 76.32,-190.2\"/>\n",
       "<path fill=\"none\" stroke=\"#4a4a4a\" d=\"M73.89,-216.22C75.21,-208.51 76.81,-199.2 78.29,-190.53\"/>\n",
       "<polygon fill=\"#4a4a4a\" stroke=\"#4a4a4a\" points=\"80.8,-190.72 79.04,-180.28 73.9,-189.54 80.8,-190.72\"/>\n",
       "</g>\n",
       "<!-- X&#45;&gt;Z2 -->\n",
       "<g id=\"edge2\" class=\"edge\">\n",
       "<title>X-&gt;Z2</title>\n",
       "<path fill=\"none\" stroke=\"#4a4a4a\" d=\"M81,-143.7C81,-135.98 81,-126.71 81,-118.11\"/>\n",
       "<path fill=\"none\" stroke=\"#4a4a4a\" d=\"M83,-143.7C83,-135.98 83,-126.71 83,-118.11\"/>\n",
       "<polygon fill=\"#4a4a4a\" stroke=\"#4a4a4a\" points=\"85.5,-118.1 82,-108.1 78.5,-118.1 85.5,-118.1\"/>\n",
       "</g>\n",
       "<!-- Z2&#45;&gt;Y -->\n",
       "<g id=\"edge6\" class=\"edge\">\n",
       "<title>Z2-&gt;Y</title>\n",
       "<path fill=\"none\" stroke=\"#4a4a4a\" d=\"M69.28,-74.43C62,-65.16 52.55,-53.14 44.36,-42.71\"/>\n",
       "<path fill=\"none\" stroke=\"#4a4a4a\" d=\"M70.85,-73.19C63.57,-63.93 54.12,-51.9 45.93,-41.48\"/>\n",
       "<polygon fill=\"#4a4a4a\" stroke=\"#4a4a4a\" points=\"47.84,-39.86 38.91,-34.16 42.34,-44.18 47.84,-39.86\"/>\n",
       "</g>\n",
       "</g>\n",
       "</svg></div></td><td style=\"border-top:hidden;border-bottom:hidden;\"><div align=\"center\" style=\"\">?</div></td><td style=\"border-top:hidden;border-bottom:hidden;\"><div align=\"center\" style=\"\">No result</div></td></tr><tr><td style=\"border-top:hidden;border-bottom:hidden;\"><div align=\"center\"><small>Causal Model</small></div></td><td style=\"border-top:hidden;border-bottom:hidden;\"><div align=\"center\"><small>Explanation : Hedge Error: G={'Z2', 'Z1', 'X'}, G[S]={'Z2'}</small></div></td><td style=\"border-top:hidden;border-bottom:hidden;\"><div align=\"center\"><small>Impact : $?$</small></div></td></tr></table>"
      ],
      "text/plain": [
       "<IPython.core.display.HTML object>"
      ]
     },
     "metadata": {},
     "output_type": "display_data"
    }
   ],
   "source": [
    "bn = gum.fastBN(\"Z1->X->Z2->Y\")\n",
    "d=csl.CausalModel(bn,[(\"L1\",[\"Z1\",\"X\"]),\n",
    "                      (\"L2\",[\"Z1\",\"Z2\"]),\n",
    "                      (\"L3\",[\"Z1\",\"Y\"]),\n",
    "                      (\"L4\",[\"Y\",\"X\"])],\n",
    "                  True)\n",
    "cslnb.showCausalImpact(d,\"Y\",\"X\",values={\"X\":1})"
   ]
  },
  {
   "cell_type": "markdown",
   "metadata": {},
   "source": [
    "# FRONT DOOR EXAMPLE"
   ]
  },
  {
   "cell_type": "code",
   "execution_count": 5,
   "metadata": {
    "ExecuteTime": {
     "end_time": "2019-03-30T09:47:34.259441Z",
     "start_time": "2019-03-30T09:47:32.335346Z"
    }
   },
   "outputs": [
    {
     "data": {
      "image/svg+xml": [
       "<svg xmlns=\"http://www.w3.org/2000/svg\" xmlns:xlink=\"http://www.w3.org/1999/xlink\" width=\"148pt\" height=\"228pt\" viewBox=\"0.00 0.00 147.89 227.60\">\n",
       "<g id=\"graph0\" class=\"graph\" transform=\"scale(1 1) rotate(0) translate(4 223.6)\">\n",
       "<title>G</title>\n",
       "<!-- Genotype -->\n",
       "<g id=\"node1\" class=\"node\">\n",
       "<title>Genotype</title>\n",
       "<ellipse fill=\"#404040\" stroke=\"#4a4a4a\" cx=\"90.35\" cy=\"-217.8\" rx=\"1.8\" ry=\"1.8\"/>\n",
       "</g>\n",
       "<!-- Smoking -->\n",
       "<g id=\"node2\" class=\"node\">\n",
       "<title>Smoking</title>\n",
       "<ellipse fill=\"#404040\" stroke=\"#4a4a4a\" cx=\"51.35\" cy=\"-162\" rx=\"51.19\" ry=\"18\"/>\n",
       "<text text-anchor=\"middle\" x=\"51.35\" y=\"-158.3\" font-family=\"Times,serif\" font-size=\"14.00\" fill=\"white\">Smoking</text>\n",
       "</g>\n",
       "<!-- Genotype&#45;&gt;Smoking -->\n",
       "<g id=\"edge4\" class=\"edge\">\n",
       "<title>Genotype-&gt;Smoking</title>\n",
       "<path fill=\"none\" stroke=\"#4a4a4a\" stroke-dasharray=\"5,2\" d=\"M89.67,-215.87C87.15,-212.4 78.04,-199.83 69.34,-187.82\"/>\n",
       "<polygon fill=\"#4a4a4a\" stroke=\"#4a4a4a\" points=\"72.16,-185.76 63.46,-179.71 66.5,-189.86 72.16,-185.76\"/>\n",
       "</g>\n",
       "<!-- Cancer -->\n",
       "<g id=\"node3\" class=\"node\">\n",
       "<title>Cancer</title>\n",
       "<ellipse fill=\"#404040\" stroke=\"#4a4a4a\" cx=\"96.35\" cy=\"-18\" rx=\"43.59\" ry=\"18\"/>\n",
       "<text text-anchor=\"middle\" x=\"96.35\" y=\"-14.3\" font-family=\"Times,serif\" font-size=\"14.00\" fill=\"white\">Cancer</text>\n",
       "</g>\n",
       "<!-- Genotype&#45;&gt;Cancer -->\n",
       "<g id=\"edge1\" class=\"edge\">\n",
       "<title>Genotype-&gt;Cancer</title>\n",
       "<path fill=\"none\" stroke=\"#4a4a4a\" stroke-dasharray=\"5,2\" d=\"M91.05,-215.97C94.21,-212.16 107.12,-195.93 111.35,-180 123.56,-133.97 113,-78.25 104.48,-45.89\"/>\n",
       "<polygon fill=\"#4a4a4a\" stroke=\"#4a4a4a\" points=\"107.86,-44.96 101.82,-36.25 101.11,-46.82 107.86,-44.96\"/>\n",
       "</g>\n",
       "<!-- Tar -->\n",
       "<g id=\"node4\" class=\"node\">\n",
       "<title>Tar</title>\n",
       "<ellipse fill=\"#404040\" stroke=\"#4a4a4a\" cx=\"63.35\" cy=\"-90\" rx=\"27\" ry=\"18\"/>\n",
       "<text text-anchor=\"middle\" x=\"63.35\" y=\"-86.3\" font-family=\"Times,serif\" font-size=\"14.00\" fill=\"white\">Tar</text>\n",
       "</g>\n",
       "<!-- Smoking&#45;&gt;Tar -->\n",
       "<g id=\"edge2\" class=\"edge\">\n",
       "<title>Smoking-&gt;Tar</title>\n",
       "<path fill=\"none\" stroke=\"#4a4a4a\" d=\"M53.33,-143.53C54.65,-135.81 56.24,-126.54 57.71,-117.94\"/>\n",
       "<path fill=\"none\" stroke=\"#4a4a4a\" d=\"M55.3,-143.87C56.62,-136.15 58.21,-126.88 59.68,-118.28\"/>\n",
       "<polygon fill=\"#4a4a4a\" stroke=\"#4a4a4a\" points=\"62.17,-118.55 60.41,-108.1 55.27,-117.37 62.17,-118.55\"/>\n",
       "</g>\n",
       "<!-- Tar&#45;&gt;Cancer -->\n",
       "<g id=\"edge3\" class=\"edge\">\n",
       "<title>Tar-&gt;Cancer</title>\n",
       "<path fill=\"none\" stroke=\"#4a4a4a\" d=\"M70.26,-71.98C74.11,-63.82 78.84,-53.79 83.15,-44.64\"/>\n",
       "<path fill=\"none\" stroke=\"#4a4a4a\" d=\"M72.07,-72.84C75.92,-64.68 80.65,-54.65 84.96,-45.49\"/>\n",
       "<polygon fill=\"#4a4a4a\" stroke=\"#4a4a4a\" points=\"87.25,-46.49 88.35,-35.96 80.92,-43.51 87.25,-46.49\"/>\n",
       "</g>\n",
       "</g>\n",
       "</svg>"
      ],
      "text/plain": [
       "<IPython.core.display.SVG object>"
      ]
     },
     "metadata": {},
     "output_type": "display_data"
    }
   ],
   "source": [
    "modele4 = gum.BayesNet()\n",
    "modele4.add(gum.LabelizedVariable(\"Smoking\"))\n",
    "modele4.add(gum.LabelizedVariable(\"Cancer\"))\n",
    "modele4.add(gum.LabelizedVariable(\"Tar\"))\n",
    "\n",
    "modele4.addArc(0,2)\n",
    "modele4.addArc(2,1)\n",
    "modele4.addArc(0,1)\n",
    "\n",
    "#Smoking\n",
    "modele4.cpt(0)[:]=[0.5, 0.5]\n",
    "\n",
    "#Tar\n",
    "modele4.cpt(2)[{\"Smoking\":0}] = [0.4, 0.6]\n",
    "modele4.cpt(2)[{\"Smoking\":1}] = [0.3, 0.6]\n",
    "\n",
    "#Cancer\n",
    "modele4.cpt(1)[{'Smoking':0,'Tar':0}]=[0.1,0.9] #No Drug, Male -> healed in 0.8 of cases\n",
    "modele4.cpt(1)[{'Smoking':0,'Tar':1}]=[0.15,0.85] #No Drug, Female -> healed in 0.4 of cases\n",
    "modele4.cpt(1)[{'Smoking':1,'Tar':0}]=[0.2,0.8] #Drug, Male -> healed 0.7 of cases \n",
    "modele4.cpt(1)[{'Smoking':1,'Tar':1}]=[0.25,0.75]\n",
    "\n",
    "d4 = csl.CausalModel(modele4, [(\"Genotype\", [\"Smoking\",\"Cancer\"])],False)\n",
    "cslnb.showCausalModel(d4)"
   ]
  },
  {
   "cell_type": "code",
   "execution_count": 6,
   "metadata": {
    "ExecuteTime": {
     "end_time": "2019-03-30T09:47:34.266672Z",
     "start_time": "2019-03-30T09:47:34.261668Z"
    }
   },
   "outputs": [],
   "source": [
    "try: \n",
    "    a = csl.doCalculusWithObservation (d4,\"Cancer\", {\"Smoking\"})\n",
    "except csl.HedgeException as h: \n",
    "    print (h.message)"
   ]
  },
  {
   "cell_type": "code",
   "execution_count": 7,
   "metadata": {
    "ExecuteTime": {
     "end_time": "2019-03-30T09:47:34.278604Z",
     "start_time": "2019-03-30T09:47:34.269804Z"
    }
   },
   "outputs": [
    {
     "data": {
      "text/latex": [
       "$\\displaystyle P( Cancer \\mid \\hookrightarrow\\mkern-6.5muSmoking) = \\sum_{Tar}{P\\left(Tar\\mid Smoking\\right) \\cdot \\left(\\sum_{Smoking'}{P\\left(Cancer\\mid Smoking',Tar\\right) \\cdot P\\left(Smoking'\\right)}\\right)}$"
      ],
      "text/plain": [
       "<IPython.core.display.Math object>"
      ]
     },
     "metadata": {},
     "output_type": "display_data"
    }
   ],
   "source": [
    "display(Math(a.toLatex()))"
   ]
  },
  {
   "cell_type": "code",
   "execution_count": 8,
   "metadata": {
    "ExecuteTime": {
     "end_time": "2019-03-30T09:47:34.286144Z",
     "start_time": "2019-03-30T09:47:34.281296Z"
    }
   },
   "outputs": [
    {
     "name": "stdout",
     "output_type": "stream",
     "text": [
      "<Cancer:0|Smoking:0> :: 0.177368 /<Cancer:1|Smoking:0> :: 0.822632 /<Cancer:0|Smoking:1> :: 0.162632 /<Cancer:1|Smoking:1> :: 0.737368\n"
     ]
    }
   ],
   "source": [
    "try: \n",
    "    adjj = a.eval()\n",
    "except csl.UnidentifiableException as u: \n",
    "    print (u.message)\n",
    "    \n",
    "print (adjj)\n"
   ]
  },
  {
   "cell_type": "code",
   "execution_count": 9,
   "metadata": {
    "ExecuteTime": {
     "end_time": "2019-03-30T09:47:34.295089Z",
     "start_time": "2019-03-30T09:47:34.288571Z"
    }
   },
   "outputs": [],
   "source": [
    "formula, adj, exp = csl.causalImpact(d4, \"Cancer\", \"Smoking\",values={\"Smoking\":0})"
   ]
  },
  {
   "cell_type": "code",
   "execution_count": 10,
   "metadata": {
    "ExecuteTime": {
     "end_time": "2019-03-30T09:47:34.305804Z",
     "start_time": "2019-03-30T09:47:34.297727Z"
    }
   },
   "outputs": [
    {
     "data": {
      "text/latex": [
       "$\\displaystyle P( Cancer \\mid \\hookrightarrow\\mkern-6.5muSmoking) = \\sum_{Tar}{P\\left(Tar\\mid Smoking\\right) \\cdot \\left(\\sum_{Smoking'}{P\\left(Cancer\\mid Smoking',Tar\\right) \\cdot P\\left(Smoking'\\right)}\\right)}$"
      ],
      "text/plain": [
       "<IPython.core.display.Math object>"
      ]
     },
     "metadata": {},
     "output_type": "display_data"
    },
    {
     "data": {
      "text/html": [
       "<table style=\"border:1px solid black;\">\n",
       "<tr style='border:1px solid black;color:black;background-color:#808080'><th colspan='2'><center>Cancer</center></th></tr>\n",
       "<tr><th style='border:1px solid black;border-bottom-style: double;color:black;background-color:#BBBBBB'><center>0</center></th><th style='border:1px solid black;border-bottom-style: double;color:black;background-color:#BBBBBB'><center>1</center></th></tr>\n",
       "<tr><td style='color:black;background-color:#e89564;text-align:right;'>0.1774</td><td style='color:black;background-color:#95e864;text-align:right;'>0.8226</td></tr>\n",
       "</table>"
      ],
      "text/plain": [
       "(gum::Potential<double>@0x563698fe01f0) <Cancer:0> :: 0.177368 /<Cancer:1> :: 0.822632"
      ]
     },
     "execution_count": 10,
     "metadata": {},
     "output_type": "execute_result"
    }
   ],
   "source": [
    "display(Math(formula.toLatex()))\n",
    "adj"
   ]
  },
  {
   "cell_type": "markdown",
   "metadata": {},
   "source": [
    "  # Last example from R "
   ]
  },
  {
   "cell_type": "code",
   "execution_count": 11,
   "metadata": {
    "ExecuteTime": {
     "end_time": "2019-03-30T09:47:36.642701Z",
     "start_time": "2019-03-30T09:47:34.308047Z"
    }
   },
   "outputs": [
    {
     "data": {
      "image/svg+xml": [
       "<svg xmlns=\"http://www.w3.org/2000/svg\" xmlns:xlink=\"http://www.w3.org/1999/xlink\" width=\"214pt\" height=\"300pt\" viewBox=\"0.00 0.00 214.05 299.60\">\n",
       "<g id=\"graph0\" class=\"graph\" transform=\"scale(1 1) rotate(0) translate(4 295.6)\">\n",
       "<title>G</title>\n",
       "<!-- X&#45;Z2 -->\n",
       "<g id=\"node1\" class=\"node\">\n",
       "<title>X-Z2</title>\n",
       "<ellipse fill=\"#404040\" stroke=\"#4a4a4a\" cx=\"87.05\" cy=\"-289.8\" rx=\"1.8\" ry=\"1.8\"/>\n",
       "</g>\n",
       "<!-- z2 -->\n",
       "<g id=\"node5\" class=\"node\">\n",
       "<title>z2</title>\n",
       "<ellipse fill=\"#404040\" stroke=\"#4a4a4a\" cx=\"61.05\" cy=\"-234\" rx=\"27\" ry=\"18\"/>\n",
       "<text text-anchor=\"middle\" x=\"61.05\" y=\"-230.3\" font-family=\"Times,serif\" font-size=\"14.00\" fill=\"white\">z2</text>\n",
       "</g>\n",
       "<!-- X&#45;Z2&#45;&gt;z2 -->\n",
       "<g id=\"edge14\" class=\"edge\">\n",
       "<title>X-Z2-&gt;z2</title>\n",
       "<path fill=\"none\" stroke=\"#4a4a4a\" stroke-dasharray=\"5,2\" d=\"M86.6,-287.87C84.96,-284.48 79.12,-272.39 73.43,-260.63\"/>\n",
       "<polygon fill=\"#4a4a4a\" stroke=\"#4a4a4a\" points=\"76.5,-258.92 68.99,-251.44 70.19,-261.97 76.5,-258.92\"/>\n",
       "</g>\n",
       "<!-- x -->\n",
       "<g id=\"node6\" class=\"node\">\n",
       "<title>x</title>\n",
       "<ellipse fill=\"#404040\" stroke=\"#4a4a4a\" cx=\"107.05\" cy=\"-162\" rx=\"27\" ry=\"18\"/>\n",
       "<text text-anchor=\"middle\" x=\"107.05\" y=\"-158.3\" font-family=\"Times,serif\" font-size=\"14.00\" fill=\"white\">x</text>\n",
       "</g>\n",
       "<!-- X&#45;Z2&#45;&gt;x -->\n",
       "<g id=\"edge7\" class=\"edge\">\n",
       "<title>X-Z2-&gt;x</title>\n",
       "<path fill=\"none\" stroke=\"#4a4a4a\" stroke-dasharray=\"5,2\" d=\"M87.35,-287.9C88.69,-283.82 94.27,-266.57 97.05,-252 100.96,-231.51 103.52,-208.05 105.06,-190.37\"/>\n",
       "<polygon fill=\"#4a4a4a\" stroke=\"#4a4a4a\" points=\"108.57,-190.43 105.9,-180.18 101.59,-189.86 108.57,-190.43\"/>\n",
       "</g>\n",
       "<!-- X&#45;Z3 -->\n",
       "<g id=\"node2\" class=\"node\">\n",
       "<title>X-Z3</title>\n",
       "<ellipse fill=\"#404040\" stroke=\"#4a4a4a\" cx=\"162.05\" cy=\"-234\" rx=\"1.8\" ry=\"1.8\"/>\n",
       "</g>\n",
       "<!-- X&#45;Z3&#45;&gt;x -->\n",
       "<g id=\"edge6\" class=\"edge\">\n",
       "<title>X-Z3-&gt;x</title>\n",
       "<path fill=\"none\" stroke=\"#4a4a4a\" stroke-dasharray=\"5,2\" d=\"M161.43,-232.21C157.89,-227.71 139.82,-204.71 125.47,-186.45\"/>\n",
       "<polygon fill=\"#4a4a4a\" stroke=\"#4a4a4a\" points=\"128.13,-184.17 119.2,-178.47 122.63,-188.5 128.13,-184.17\"/>\n",
       "</g>\n",
       "<!-- z3 -->\n",
       "<g id=\"node9\" class=\"node\">\n",
       "<title>z3</title>\n",
       "<ellipse fill=\"#404040\" stroke=\"#4a4a4a\" cx=\"179.05\" cy=\"-162\" rx=\"27\" ry=\"18\"/>\n",
       "<text text-anchor=\"middle\" x=\"179.05\" y=\"-158.3\" font-family=\"Times,serif\" font-size=\"14.00\" fill=\"white\">z3</text>\n",
       "</g>\n",
       "<!-- X&#45;Z3&#45;&gt;z3 -->\n",
       "<g id=\"edge8\" class=\"edge\">\n",
       "<title>X-Z3-&gt;z3</title>\n",
       "<path fill=\"none\" stroke=\"#4a4a4a\" stroke-dasharray=\"5,2\" d=\"M162.29,-232.01C163.42,-227.34 168.35,-207.03 172.58,-189.64\"/>\n",
       "<polygon fill=\"#4a4a4a\" stroke=\"#4a4a4a\" points=\"175.99,-190.42 174.95,-179.88 169.19,-188.77 175.99,-190.42\"/>\n",
       "</g>\n",
       "<!-- X&#45;Y -->\n",
       "<g id=\"node3\" class=\"node\">\n",
       "<title>X-Y</title>\n",
       "<ellipse fill=\"#404040\" stroke=\"#4a4a4a\" cx=\"14.05\" cy=\"-234\" rx=\"1.8\" ry=\"1.8\"/>\n",
       "</g>\n",
       "<!-- X&#45;Y&#45;&gt;x -->\n",
       "<g id=\"edge3\" class=\"edge\">\n",
       "<title>X-Y-&gt;x</title>\n",
       "<path fill=\"none\" stroke=\"#4a4a4a\" stroke-dasharray=\"5,2\" d=\"M14.52,-231.98C15.85,-229.16 19.87,-221.17 25.05,-216 40.22,-200.83 60.43,-187.71 76.99,-178.31\"/>\n",
       "<polygon fill=\"#4a4a4a\" stroke=\"#4a4a4a\" points=\"78.69,-181.38 85.76,-173.49 75.31,-175.24 78.69,-181.38\"/>\n",
       "</g>\n",
       "<!-- y -->\n",
       "<g id=\"node8\" class=\"node\">\n",
       "<title>y</title>\n",
       "<ellipse fill=\"#404040\" stroke=\"#4a4a4a\" cx=\"41.05\" cy=\"-18\" rx=\"27\" ry=\"18\"/>\n",
       "<text text-anchor=\"middle\" x=\"41.05\" y=\"-14.3\" font-family=\"Times,serif\" font-size=\"14.00\" fill=\"white\">y</text>\n",
       "</g>\n",
       "<!-- X&#45;Y&#45;&gt;y -->\n",
       "<g id=\"edge9\" class=\"edge\">\n",
       "<title>X-Y-&gt;y</title>\n",
       "<path fill=\"none\" stroke=\"#4a4a4a\" stroke-dasharray=\"5,2\" d=\"M14.15,-231.98C15.22,-221.87 24.05,-138.95 33.05,-72 34.18,-63.57 35.52,-54.4 36.78,-46.1\"/>\n",
       "<polygon fill=\"#4a4a4a\" stroke=\"#4a4a4a\" points=\"40.25,-46.58 38.31,-36.17 33.33,-45.52 40.25,-46.58\"/>\n",
       "</g>\n",
       "<!-- Y&#45;Z2 -->\n",
       "<g id=\"node4\" class=\"node\">\n",
       "<title>Y-Z2</title>\n",
       "<ellipse fill=\"#404040\" stroke=\"#4a4a4a\" cx=\"34.05\" cy=\"-289.8\" rx=\"1.8\" ry=\"1.8\"/>\n",
       "</g>\n",
       "<!-- Y&#45;Z2&#45;&gt;z2 -->\n",
       "<g id=\"edge11\" class=\"edge\">\n",
       "<title>Y-Z2-&gt;z2</title>\n",
       "<path fill=\"none\" stroke=\"#4a4a4a\" stroke-dasharray=\"5,2\" d=\"M34.51,-287.87C36.23,-284.45 42.36,-272.23 48.3,-260.4\"/>\n",
       "<polygon fill=\"#4a4a4a\" stroke=\"#4a4a4a\" points=\"51.57,-261.68 52.93,-251.17 45.32,-258.54 51.57,-261.68\"/>\n",
       "</g>\n",
       "<!-- Y&#45;Z2&#45;&gt;y -->\n",
       "<g id=\"edge13\" class=\"edge\">\n",
       "<title>Y-Z2-&gt;y</title>\n",
       "<path fill=\"none\" stroke=\"#4a4a4a\" stroke-dasharray=\"5,2\" d=\"M33.02,-288.04C28.38,-284.57 9.46,-269.58 3.05,-252 -2.44,-236.97 1.83,-231.95 3.05,-216 7.95,-151.44 10.77,-135.15 25.05,-72 27.01,-63.34 29.64,-54.02 32.2,-45.65\"/>\n",
       "<polygon fill=\"#4a4a4a\" stroke=\"#4a4a4a\" points=\"35.56,-46.61 35.24,-36.02 28.89,-44.5 35.56,-46.61\"/>\n",
       "</g>\n",
       "<!-- z2&#45;&gt;x -->\n",
       "<g id=\"edge1\" class=\"edge\">\n",
       "<title>z2-&gt;x</title>\n",
       "<path fill=\"none\" stroke=\"#4a4a4a\" d=\"M70.65,-216.57C76.41,-207.8 83.69,-196.71 90.17,-186.87\"/>\n",
       "<path fill=\"none\" stroke=\"#4a4a4a\" d=\"M72.32,-217.67C78.08,-208.89 85.37,-197.81 91.84,-187.97\"/>\n",
       "<polygon fill=\"#4a4a4a\" stroke=\"#4a4a4a\" points=\"94.08,-189.1 96.65,-178.82 88.23,-185.26 94.08,-189.1\"/>\n",
       "</g>\n",
       "<!-- z1 -->\n",
       "<g id=\"node7\" class=\"node\">\n",
       "<title>z1</title>\n",
       "<ellipse fill=\"#404040\" stroke=\"#4a4a4a\" cx=\"69.05\" cy=\"-90\" rx=\"27\" ry=\"18\"/>\n",
       "<text text-anchor=\"middle\" x=\"69.05\" y=\"-86.3\" font-family=\"Times,serif\" font-size=\"14.00\" fill=\"white\">z1</text>\n",
       "</g>\n",
       "<!-- z2&#45;&gt;z1 -->\n",
       "<g id=\"edge12\" class=\"edge\">\n",
       "<title>z2-&gt;z1</title>\n",
       "<path fill=\"none\" stroke=\"#4a4a4a\" d=\"M61.01,-215.82C62.38,-191.61 64.88,-147.15 66.5,-118.34\"/>\n",
       "<path fill=\"none\" stroke=\"#4a4a4a\" d=\"M63.01,-215.93C64.37,-191.73 66.88,-147.27 68.5,-118.45\"/>\n",
       "<polygon fill=\"#4a4a4a\" stroke=\"#4a4a4a\" points=\"71.01,-118.37 68.08,-108.19 64.02,-117.98 71.01,-118.37\"/>\n",
       "</g>\n",
       "<!-- z2&#45;&gt;z3 -->\n",
       "<g id=\"edge4\" class=\"edge\">\n",
       "<title>z2-&gt;z3</title>\n",
       "<path fill=\"none\" stroke=\"#4a4a4a\" d=\"M80.02,-220.58C99.15,-209.23 128.54,-191.8 150.24,-178.92\"/>\n",
       "<path fill=\"none\" stroke=\"#4a4a4a\" d=\"M81.04,-222.3C100.17,-210.95 129.56,-193.52 151.26,-180.64\"/>\n",
       "<polygon fill=\"#4a4a4a\" stroke=\"#4a4a4a\" points=\"152.72,-182.69 159.53,-174.58 149.15,-176.67 152.72,-182.69\"/>\n",
       "</g>\n",
       "<!-- x&#45;&gt;z1 -->\n",
       "<g id=\"edge2\" class=\"edge\">\n",
       "<title>x-&gt;z1</title>\n",
       "<path fill=\"none\" stroke=\"#4a4a4a\" d=\"M97.35,-145.24C92.75,-136.76 87.01,-126.19 81.85,-116.67\"/>\n",
       "<path fill=\"none\" stroke=\"#4a4a4a\" d=\"M99.11,-144.29C94.51,-135.81 88.77,-125.24 83.6,-115.72\"/>\n",
       "<polygon fill=\"#4a4a4a\" stroke=\"#4a4a4a\" points=\"85.66,-114.27 77.81,-107.15 79.51,-117.61 85.66,-114.27\"/>\n",
       "</g>\n",
       "<!-- z1&#45;&gt;y -->\n",
       "<g id=\"edge10\" class=\"edge\">\n",
       "<title>z1-&gt;y</title>\n",
       "<path fill=\"none\" stroke=\"#4a4a4a\" d=\"M61.48,-72.78C58.2,-64.59 54.17,-54.51 50.5,-45.33\"/>\n",
       "<path fill=\"none\" stroke=\"#4a4a4a\" d=\"M63.34,-72.04C60.06,-63.85 56.03,-53.77 52.36,-44.58\"/>\n",
       "<polygon fill=\"#4a4a4a\" stroke=\"#4a4a4a\" points=\"54.6,-43.45 47.63,-35.47 48.1,-46.05 54.6,-43.45\"/>\n",
       "</g>\n",
       "<!-- z3&#45;&gt;y -->\n",
       "<g id=\"edge5\" class=\"edge\">\n",
       "<title>z3-&gt;y</title>\n",
       "<path fill=\"none\" stroke=\"#4a4a4a\" d=\"M166.75,-146.07C152.85,-127.71 128.3,-96.61 104.34,-72.71 92.37,-60.76 77.86,-48.58 65.72,-38.95\"/>\n",
       "<path fill=\"none\" stroke=\"#4a4a4a\" d=\"M168.34,-144.86C154.42,-126.47 129.87,-95.37 105.75,-71.29 93.66,-59.23 79.15,-47.05 66.96,-37.38\"/>\n",
       "<polygon fill=\"#4a4a4a\" stroke=\"#4a4a4a\" points=\"68.39,-35.32 58.36,-31.92 64.08,-40.83 68.39,-35.32\"/>\n",
       "</g>\n",
       "</g>\n",
       "</svg>"
      ],
      "text/plain": [
       "<IPython.core.display.SVG object>"
      ]
     },
     "metadata": {},
     "output_type": "display_data"
    }
   ],
   "source": [
    "m = gum.fastBN(\"z2->x->z1->y;z2->z1;z2->z3->y\")\n",
    "\n",
    "m.cpt(\"z2\") [:] = [0.5, 0.5]\n",
    "m.cpt(\"x\") [:] = [[0.4,0.6], #z2=0\n",
    "                  [0.4,0.6]] #z2=1\n",
    "m.cpt(\"z3\") [:] = [[0.3,0.7], #z2=0\n",
    "                   [0.3,0.7]] #z2=1\n",
    "m.cpt(\"z1\")[{\"z2\":0, \"x\":0}]= [0.2, 0.8]\n",
    "m.cpt(\"z1\")[{\"z2\":0, \"x\":1}]= [0.25, 0.75]\n",
    "m.cpt(\"z1\")[{\"z2\":1, \"x\":0}]= [0.1, 0.9]\n",
    "m.cpt(\"z1\")[{\"z2\":1, \"x\":1}]= [0.15, 0.85]\n",
    "\n",
    "m.cpt(\"y\")[{\"z1\":0,\"z3\":0}]= [0.5,0.5]\n",
    "m.cpt(\"y\")[{\"z1\":0,\"z3\":1}]= [0.45,0.55]\n",
    "m.cpt(\"y\")[{\"z1\":1,\"z3\":0}]= [0.4,0.6]\n",
    "m.cpt(\"y\")[{\"z1\":1,\"z3\":1}]= [0.35,0.65]\n",
    "\n",
    "\n",
    "d = csl.CausalModel(m, [(\"X-Z2\",[\"x\",\"z2\"]), \n",
    "                        (\"X-Z3\",[\"x\",\"z3\"]), \n",
    "                        (\"X-Y\",[\"x\",\"y\"]), \n",
    "                        (\"Y-Z2\",[\"y\",\"z2\"])],\n",
    "                    True)\n",
    "\n",
    "cslnb.showCausalModel(d)"
   ]
  },
  {
   "cell_type": "code",
   "execution_count": 12,
   "metadata": {
    "ExecuteTime": {
     "end_time": "2019-03-30T09:47:36.674695Z",
     "start_time": "2019-03-30T09:47:36.647288Z"
    }
   },
   "outputs": [
    {
     "name": "stdout",
     "output_type": "stream",
     "text": [
      "Do-calculus computations\n"
     ]
    },
    {
     "data": {
      "text/latex": [
       "$\\displaystyle P( z1,z3,y,z2 \\mid \\hookrightarrow\\mkern-6.5mux) = P\\left(z3\\mid z2\\right) \\cdot P\\left(z1\\mid x,z2\\right) \\cdot  \\frac {\\sum_{x'}{P\\left(z3\\mid x',z2\\right) \\cdot P\\left(x'\\mid z2\\right) \\cdot P\\left(y\\mid x',z1,z2,z3\\right) \\cdot P\\left(z2\\right)}}{\\sum_{x',y'}{P\\left(z3\\mid x',z2\\right) \\cdot P\\left(x'\\mid z2\\right) \\cdot P\\left(y'\\mid x',z1,z2,z3\\right) \\cdot P\\left(z2\\right)}} \\cdot P\\left(z2\\right)$"
      ],
      "text/plain": [
       "<IPython.core.display.Math object>"
      ]
     },
     "metadata": {},
     "output_type": "display_data"
    }
   ],
   "source": [
    "try:\n",
    "    formula,result,msg = csl.causalImpact(d,on={\"y\",\"z2\",\"z1\",\"z3\"},doing={\"x\"})\n",
    "except csl.HedgeException as h:\n",
    "    print (h.message)\n",
    "    \n",
    "print(msg)\n",
    "display(Math(formula.toLatex()))"
   ]
  },
  {
   "cell_type": "code",
   "execution_count": 13,
   "metadata": {
    "ExecuteTime": {
     "end_time": "2019-03-30T09:47:36.683790Z",
     "start_time": "2019-03-30T09:47:36.676831Z"
    }
   },
   "outputs": [],
   "source": [
    "# computation for this formula directly in pyAgrum\n",
    "f1=m.cpt(\"x\")*m.cpt(\"z2\")*m.cpt(\"z3\")*m.cpt(\"y\")\n",
    "f2=f1.margSumOut([\"x\"])\n",
    "f3=f1.margSumOut([\"x\",\"y\"])\n",
    "f4=f2/f3\n",
    "pyResult=m.cpt(\"z3\")*m.cpt(\"z1\")*m.cpt(\"z2\")*f4"
   ]
  },
  {
   "cell_type": "code",
   "execution_count": 14,
   "metadata": {
    "ExecuteTime": {
     "end_time": "2019-03-30T09:47:36.694555Z",
     "start_time": "2019-03-30T09:47:36.685828Z"
    }
   },
   "outputs": [
    {
     "name": "stdout",
     "output_type": "stream",
     "text": [
      "According to [ref], the result should be :\n"
     ]
    },
    {
     "data": {
      "text/latex": [
       "$\\displaystyle P\\left(z1\\mid x,z2\\right) \\cdot \\left(\\sum_{x}{P\\left(y,z3\\mid z1,z2\\right) \\cdot P\\left(x,z2\\right)}\\right)$"
      ],
      "text/plain": [
       "<IPython.core.display.Math object>"
      ]
     },
     "metadata": {},
     "output_type": "display_data"
    }
   ],
   "source": [
    "# computation for this formula directly by creating the causal AST\n",
    "a = csl.ASTposteriorProba(m,{\"z1\"},{\"x\",\"z2\"})\n",
    "b= csl.ASTposteriorProba(m,{\"y\",\"z3\"},{\"x\",\"z1\",\"z2\"})\n",
    "c = csl.ASTjointProba([\"x\",\"z2\"])\n",
    "correct = csl.ASTmult(a,csl.ASTsum([\"x\"],csl.ASTmult(b,c)))\n",
    "\n",
    "print(\"According to [ref], the result should be :\")\n",
    "display(Math(correct.toLatex()))"
   ]
  },
  {
   "cell_type": "code",
   "execution_count": 15,
   "metadata": {
    "ExecuteTime": {
     "end_time": "2019-03-30T09:47:36.704823Z",
     "start_time": "2019-03-30T09:47:36.697245Z"
    }
   },
   "outputs": [],
   "source": [
    "# computation for that formula\n",
    "ie=gum.LazyPropagation(m)\n",
    "refResult=(ie.evidenceJointImpact([\"y\",\"z3\"],[\"x\",\"z1\",\"z2\"])*\n",
    "     ie.evidenceJointImpact([\"x\",\"z2\"],[])\n",
    "    ).margSumOut([\"x\"])* m.cpt(\"z1\")\n"
   ]
  },
  {
   "cell_type": "code",
   "execution_count": 16,
   "metadata": {
    "ExecuteTime": {
     "end_time": "2019-03-30T09:47:36.712720Z",
     "start_time": "2019-03-30T09:47:36.707153Z"
    }
   },
   "outputs": [
    {
     "name": "stdout",
     "output_type": "stream",
     "text": [
      "Maximum error between these 3 versions : 5.551115123125783e-17\n"
     ]
    }
   ],
   "source": [
    "print(\"Maximum error between these 3 versions : {}\".format(max((refResult-pyResult).abs().max(),\n",
    "                                                               (refResult-result).abs().max(),\n",
    "                                                               (pyResult-result).abs().max())))"
   ]
  },
  {
   "cell_type": "markdown",
   "metadata": {},
   "source": [
    "# Unidentifiabilty\n"
   ]
  },
  {
   "cell_type": "code",
   "execution_count": 17,
   "metadata": {
    "ExecuteTime": {
     "end_time": "2019-03-30T09:47:38.846042Z",
     "start_time": "2019-03-30T09:47:36.715078Z"
    }
   },
   "outputs": [
    {
     "data": {
      "image/svg+xml": [
       "<svg xmlns=\"http://www.w3.org/2000/svg\" xmlns:xlink=\"http://www.w3.org/1999/xlink\" width=\"155pt\" height=\"300pt\" viewBox=\"0.00 0.00 154.80 299.60\">\n",
       "<g id=\"graph0\" class=\"graph\" transform=\"scale(1 1) rotate(0) translate(4 295.6)\">\n",
       "<title>G</title>\n",
       "<!-- Z1−X -->\n",
       "<g id=\"node1\" class=\"node\">\n",
       "<title>Z1−X</title>\n",
       "<ellipse fill=\"#404040\" stroke=\"#4a4a4a\" cx=\"88\" cy=\"-289.8\" rx=\"1.8\" ry=\"1.8\"/>\n",
       "</g>\n",
       "<!-- z1 -->\n",
       "<g id=\"node5\" class=\"node\">\n",
       "<title>z1</title>\n",
       "<ellipse fill=\"#404040\" stroke=\"#4a4a4a\" cx=\"70\" cy=\"-234\" rx=\"27\" ry=\"18\"/>\n",
       "<text text-anchor=\"middle\" x=\"70\" y=\"-230.3\" font-family=\"Times,serif\" font-size=\"14.00\" fill=\"white\">z1</text>\n",
       "</g>\n",
       "<!-- Z1−X&#45;&gt;z1 -->\n",
       "<g id=\"edge5\" class=\"edge\">\n",
       "<title>Z1−X-&gt;z1</title>\n",
       "<path fill=\"none\" stroke=\"#4a4a4a\" stroke-dasharray=\"5,2\" d=\"M87.69,-287.87C86.57,-284.53 82.64,-272.78 78.77,-261.21\"/>\n",
       "<polygon fill=\"#4a4a4a\" stroke=\"#4a4a4a\" points=\"82.08,-260.09 75.59,-251.71 75.45,-262.31 82.08,-260.09\"/>\n",
       "</g>\n",
       "<!-- x -->\n",
       "<g id=\"node6\" class=\"node\">\n",
       "<title>x</title>\n",
       "<ellipse fill=\"#404040\" stroke=\"#4a4a4a\" cx=\"82\" cy=\"-162\" rx=\"27\" ry=\"18\"/>\n",
       "<text text-anchor=\"middle\" x=\"82\" y=\"-158.3\" font-family=\"Times,serif\" font-size=\"14.00\" fill=\"white\">x</text>\n",
       "</g>\n",
       "<!-- Z1−X&#45;&gt;x -->\n",
       "<g id=\"edge11\" class=\"edge\">\n",
       "<title>Z1−X-&gt;x</title>\n",
       "<path fill=\"none\" stroke=\"#4a4a4a\" stroke-dasharray=\"5,2\" d=\"M88.61,-287.95C91.32,-284.06 102.41,-267.52 106,-252 109.61,-236.41 109.38,-231.64 106,-216 103.96,-206.53 100.08,-196.72 96.02,-188.15\"/>\n",
       "<polygon fill=\"#4a4a4a\" stroke=\"#4a4a4a\" points=\"99.08,-186.44 91.46,-179.08 92.83,-189.59 99.08,-186.44\"/>\n",
       "</g>\n",
       "<!-- Z1&#45;Y -->\n",
       "<g id=\"node2\" class=\"node\">\n",
       "<title>Z1-Y</title>\n",
       "<ellipse fill=\"#404040\" stroke=\"#4a4a4a\" cx=\"39\" cy=\"-289.8\" rx=\"1.8\" ry=\"1.8\"/>\n",
       "</g>\n",
       "<!-- Z1&#45;Y&#45;&gt;z1 -->\n",
       "<g id=\"edge8\" class=\"edge\">\n",
       "<title>Z1-Y-&gt;z1</title>\n",
       "<path fill=\"none\" stroke=\"#4a4a4a\" stroke-dasharray=\"5,2\" d=\"M39.54,-287.87C41.52,-284.42 48.69,-271.99 55.56,-260.05\"/>\n",
       "<polygon fill=\"#4a4a4a\" stroke=\"#4a4a4a\" points=\"58.72,-261.59 60.68,-251.17 52.66,-258.09 58.72,-261.59\"/>\n",
       "</g>\n",
       "<!-- y -->\n",
       "<g id=\"node8\" class=\"node\">\n",
       "<title>y</title>\n",
       "<ellipse fill=\"#404040\" stroke=\"#4a4a4a\" cx=\"27\" cy=\"-18\" rx=\"27\" ry=\"18\"/>\n",
       "<text text-anchor=\"middle\" x=\"27\" y=\"-14.3\" font-family=\"Times,serif\" font-size=\"14.00\" fill=\"white\">y</text>\n",
       "</g>\n",
       "<!-- Z1&#45;Y&#45;&gt;y -->\n",
       "<g id=\"edge10\" class=\"edge\">\n",
       "<title>Z1-Y-&gt;y</title>\n",
       "<path fill=\"none\" stroke=\"#4a4a4a\" stroke-dasharray=\"5,2\" d=\"M38.1,-288.01C34.05,-284.39 17.52,-268.87 12,-252 -11.48,-180.32 7.1,-89.74 19,-45.61\"/>\n",
       "<polygon fill=\"#4a4a4a\" stroke=\"#4a4a4a\" points=\"22.39,-46.49 21.71,-35.92 15.65,-44.61 22.39,-46.49\"/>\n",
       "</g>\n",
       "<!-- Z1&#45;Z1 -->\n",
       "<g id=\"node3\" class=\"node\">\n",
       "<title>Z1-Z1</title>\n",
       "<ellipse fill=\"#404040\" stroke=\"#4a4a4a\" cx=\"145\" cy=\"-289.8\" rx=\"1.8\" ry=\"1.8\"/>\n",
       "</g>\n",
       "<!-- Z1&#45;Z1&#45;&gt;z1 -->\n",
       "<g id=\"edge9\" class=\"edge\">\n",
       "<title>Z1-Z1-&gt;z1</title>\n",
       "<path fill=\"none\" stroke=\"#4a4a4a\" stroke-dasharray=\"5,2\" d=\"M144.16,-288.2C139.39,-284.78 115.32,-267.51 95.88,-253.57\"/>\n",
       "<polygon fill=\"#4a4a4a\" stroke=\"#4a4a4a\" points=\"97.8,-250.63 87.63,-247.65 93.72,-256.32 97.8,-250.63\"/>\n",
       "</g>\n",
       "<!-- z2 -->\n",
       "<g id=\"node7\" class=\"node\">\n",
       "<title>z2</title>\n",
       "<ellipse fill=\"#404040\" stroke=\"#4a4a4a\" cx=\"82\" cy=\"-90\" rx=\"27\" ry=\"18\"/>\n",
       "<text text-anchor=\"middle\" x=\"82\" y=\"-86.3\" font-family=\"Times,serif\" font-size=\"14.00\" fill=\"white\">z2</text>\n",
       "</g>\n",
       "<!-- Z1&#45;Z1&#45;&gt;z2 -->\n",
       "<g id=\"edge2\" class=\"edge\">\n",
       "<title>Z1-Z1-&gt;z2</title>\n",
       "<path fill=\"none\" stroke=\"#4a4a4a\" stroke-dasharray=\"5,2\" d=\"M144.97,-287.84C144.65,-278.36 141.36,-200.75 118,-144 113.74,-133.66 107.28,-123.27 101,-114.47\"/>\n",
       "<polygon fill=\"#4a4a4a\" stroke=\"#4a4a4a\" points=\"103.65,-112.17 94.87,-106.25 98.04,-116.36 103.65,-112.17\"/>\n",
       "</g>\n",
       "<!-- X−Y -->\n",
       "<g id=\"node4\" class=\"node\">\n",
       "<title>X−Y</title>\n",
       "<ellipse fill=\"#404040\" stroke=\"#4a4a4a\" cx=\"23\" cy=\"-234\" rx=\"1.8\" ry=\"1.8\"/>\n",
       "</g>\n",
       "<!-- X−Y&#45;&gt;x -->\n",
       "<g id=\"edge4\" class=\"edge\">\n",
       "<title>X−Y-&gt;x</title>\n",
       "<path fill=\"none\" stroke=\"#4a4a4a\" stroke-dasharray=\"5,2\" d=\"M23.55,-232.04C25.07,-229.4 29.55,-221.8 34,-216 42.15,-205.39 51.95,-194.31 60.57,-185.05\"/>\n",
       "<polygon fill=\"#4a4a4a\" stroke=\"#4a4a4a\" points=\"63.14,-187.42 67.46,-177.74 58.05,-182.61 63.14,-187.42\"/>\n",
       "</g>\n",
       "<!-- X−Y&#45;&gt;y -->\n",
       "<g id=\"edge6\" class=\"edge\">\n",
       "<title>X−Y-&gt;y</title>\n",
       "<path fill=\"none\" stroke=\"#4a4a4a\" stroke-dasharray=\"5,2\" d=\"M23.02,-232.05C23.24,-220.2 25.46,-101.13 26.49,-46.33\"/>\n",
       "<polygon fill=\"#4a4a4a\" stroke=\"#4a4a4a\" points=\"29.99,-46.35 26.68,-36.28 22.99,-46.22 29.99,-46.35\"/>\n",
       "</g>\n",
       "<!-- z1&#45;&gt;x -->\n",
       "<g id=\"edge1\" class=\"edge\">\n",
       "<title>z1-&gt;x</title>\n",
       "<path fill=\"none\" stroke=\"#4a4a4a\" d=\"M71.92,-215.89C73.24,-208.18 74.84,-198.86 76.32,-190.2\"/>\n",
       "<path fill=\"none\" stroke=\"#4a4a4a\" d=\"M73.89,-216.22C75.21,-208.51 76.81,-199.2 78.29,-190.53\"/>\n",
       "<polygon fill=\"#4a4a4a\" stroke=\"#4a4a4a\" points=\"80.8,-190.72 79.04,-180.28 73.9,-189.54 80.8,-190.72\"/>\n",
       "</g>\n",
       "<!-- x&#45;&gt;z2 -->\n",
       "<g id=\"edge3\" class=\"edge\">\n",
       "<title>x-&gt;z2</title>\n",
       "<path fill=\"none\" stroke=\"#4a4a4a\" d=\"M81,-143.7C81,-135.98 81,-126.71 81,-118.11\"/>\n",
       "<path fill=\"none\" stroke=\"#4a4a4a\" d=\"M83,-143.7C83,-135.98 83,-126.71 83,-118.11\"/>\n",
       "<polygon fill=\"#4a4a4a\" stroke=\"#4a4a4a\" points=\"85.5,-118.1 82,-108.1 78.5,-118.1 85.5,-118.1\"/>\n",
       "</g>\n",
       "<!-- z2&#45;&gt;y -->\n",
       "<g id=\"edge7\" class=\"edge\">\n",
       "<title>z2-&gt;y</title>\n",
       "<path fill=\"none\" stroke=\"#4a4a4a\" d=\"M69.28,-74.43C62,-65.16 52.55,-53.14 44.36,-42.71\"/>\n",
       "<path fill=\"none\" stroke=\"#4a4a4a\" d=\"M70.85,-73.19C63.57,-63.93 54.12,-51.9 45.93,-41.48\"/>\n",
       "<polygon fill=\"#4a4a4a\" stroke=\"#4a4a4a\" points=\"47.84,-39.86 38.91,-34.16 42.34,-44.18 47.84,-39.86\"/>\n",
       "</g>\n",
       "</g>\n",
       "</svg>"
      ],
      "text/plain": [
       "<IPython.core.display.SVG object>"
      ]
     },
     "metadata": {},
     "output_type": "display_data"
    }
   ],
   "source": [
    "m1 = gum.fastBN(\"z1->x->z2->y\")\n",
    "\n",
    "cdg = csl.CausalModel(m1, [(\"Z1−X\",[\"z1\",\"x\"]),\n",
    "                           (\"Z1-Y\",[\"z1\",\"y\"]),\n",
    "                           (\"Z1-Z1\",[\"z1\",\"z2\"]), \n",
    "                           (\"X−Y\",[\"x\",\"y\"])\n",
    "                          ], True )\n",
    "cslnb.showCausalModel(cdg)"
   ]
  },
  {
   "cell_type": "code",
   "execution_count": 18,
   "metadata": {
    "ExecuteTime": {
     "end_time": "2019-03-30T09:47:40.741542Z",
     "start_time": "2019-03-30T09:47:38.848489Z"
    }
   },
   "outputs": [
    {
     "data": {
      "text/html": [
       "<table style=\"border-style: hidden; border-collapse: collapse;\" width=\"100%\"><tr><td style=\"border-top:hidden;border-bottom:hidden;\"><div align=\"center\" style=\"\"><svg xmlns=\"http://www.w3.org/2000/svg\" xmlns:xlink=\"http://www.w3.org/1999/xlink\" width=\"155pt\" height=\"300pt\" viewBox=\"0.00 0.00 154.80 299.60\">\n",
       "<g id=\"graph0\" class=\"graph\" transform=\"scale(1 1) rotate(0) translate(4 295.6)\">\n",
       "<title>G</title>\n",
       "<!-- Z1−X -->\n",
       "<g id=\"node1\" class=\"node\">\n",
       "<title>Z1−X</title>\n",
       "<ellipse fill=\"#404040\" stroke=\"#4a4a4a\" cx=\"88\" cy=\"-289.8\" rx=\"1.8\" ry=\"1.8\"/>\n",
       "</g>\n",
       "<!-- z1 -->\n",
       "<g id=\"node5\" class=\"node\">\n",
       "<title>z1</title>\n",
       "<ellipse fill=\"#404040\" stroke=\"#4a4a4a\" cx=\"70\" cy=\"-234\" rx=\"27\" ry=\"18\"/>\n",
       "<text text-anchor=\"middle\" x=\"70\" y=\"-230.3\" font-family=\"Times,serif\" font-size=\"14.00\" fill=\"white\">z1</text>\n",
       "</g>\n",
       "<!-- Z1−X&#45;&gt;z1 -->\n",
       "<g id=\"edge5\" class=\"edge\">\n",
       "<title>Z1−X-&gt;z1</title>\n",
       "<path fill=\"none\" stroke=\"#4a4a4a\" stroke-dasharray=\"5,2\" d=\"M87.69,-287.87C86.57,-284.53 82.64,-272.78 78.77,-261.21\"/>\n",
       "<polygon fill=\"#4a4a4a\" stroke=\"#4a4a4a\" points=\"82.08,-260.09 75.59,-251.71 75.45,-262.31 82.08,-260.09\"/>\n",
       "</g>\n",
       "<!-- x -->\n",
       "<g id=\"node6\" class=\"node\">\n",
       "<title>x</title>\n",
       "<ellipse fill=\"#404040\" stroke=\"#4a4a4a\" cx=\"82\" cy=\"-162\" rx=\"27\" ry=\"18\"/>\n",
       "<text text-anchor=\"middle\" x=\"82\" y=\"-158.3\" font-family=\"Times,serif\" font-size=\"14.00\" fill=\"white\">x</text>\n",
       "</g>\n",
       "<!-- Z1−X&#45;&gt;x -->\n",
       "<g id=\"edge11\" class=\"edge\">\n",
       "<title>Z1−X-&gt;x</title>\n",
       "<path fill=\"none\" stroke=\"#4a4a4a\" stroke-dasharray=\"5,2\" d=\"M88.61,-287.95C91.32,-284.06 102.41,-267.52 106,-252 109.61,-236.41 109.38,-231.64 106,-216 103.96,-206.53 100.08,-196.72 96.02,-188.15\"/>\n",
       "<polygon fill=\"#4a4a4a\" stroke=\"#4a4a4a\" points=\"99.08,-186.44 91.46,-179.08 92.83,-189.59 99.08,-186.44\"/>\n",
       "</g>\n",
       "<!-- Z1&#45;Y -->\n",
       "<g id=\"node2\" class=\"node\">\n",
       "<title>Z1-Y</title>\n",
       "<ellipse fill=\"#404040\" stroke=\"#4a4a4a\" cx=\"39\" cy=\"-289.8\" rx=\"1.8\" ry=\"1.8\"/>\n",
       "</g>\n",
       "<!-- Z1&#45;Y&#45;&gt;z1 -->\n",
       "<g id=\"edge8\" class=\"edge\">\n",
       "<title>Z1-Y-&gt;z1</title>\n",
       "<path fill=\"none\" stroke=\"#4a4a4a\" stroke-dasharray=\"5,2\" d=\"M39.54,-287.87C41.52,-284.42 48.69,-271.99 55.56,-260.05\"/>\n",
       "<polygon fill=\"#4a4a4a\" stroke=\"#4a4a4a\" points=\"58.72,-261.59 60.68,-251.17 52.66,-258.09 58.72,-261.59\"/>\n",
       "</g>\n",
       "<!-- y -->\n",
       "<g id=\"node8\" class=\"node\">\n",
       "<title>y</title>\n",
       "<ellipse fill=\"#404040\" stroke=\"#4a4a4a\" cx=\"27\" cy=\"-18\" rx=\"27\" ry=\"18\"/>\n",
       "<text text-anchor=\"middle\" x=\"27\" y=\"-14.3\" font-family=\"Times,serif\" font-size=\"14.00\" fill=\"white\">y</text>\n",
       "</g>\n",
       "<!-- Z1&#45;Y&#45;&gt;y -->\n",
       "<g id=\"edge10\" class=\"edge\">\n",
       "<title>Z1-Y-&gt;y</title>\n",
       "<path fill=\"none\" stroke=\"#4a4a4a\" stroke-dasharray=\"5,2\" d=\"M38.1,-288.01C34.05,-284.39 17.52,-268.87 12,-252 -11.48,-180.32 7.1,-89.74 19,-45.61\"/>\n",
       "<polygon fill=\"#4a4a4a\" stroke=\"#4a4a4a\" points=\"22.39,-46.49 21.71,-35.92 15.65,-44.61 22.39,-46.49\"/>\n",
       "</g>\n",
       "<!-- Z1&#45;Z1 -->\n",
       "<g id=\"node3\" class=\"node\">\n",
       "<title>Z1-Z1</title>\n",
       "<ellipse fill=\"#404040\" stroke=\"#4a4a4a\" cx=\"145\" cy=\"-289.8\" rx=\"1.8\" ry=\"1.8\"/>\n",
       "</g>\n",
       "<!-- Z1&#45;Z1&#45;&gt;z1 -->\n",
       "<g id=\"edge9\" class=\"edge\">\n",
       "<title>Z1-Z1-&gt;z1</title>\n",
       "<path fill=\"none\" stroke=\"#4a4a4a\" stroke-dasharray=\"5,2\" d=\"M144.16,-288.2C139.39,-284.78 115.32,-267.51 95.88,-253.57\"/>\n",
       "<polygon fill=\"#4a4a4a\" stroke=\"#4a4a4a\" points=\"97.8,-250.63 87.63,-247.65 93.72,-256.32 97.8,-250.63\"/>\n",
       "</g>\n",
       "<!-- z2 -->\n",
       "<g id=\"node7\" class=\"node\">\n",
       "<title>z2</title>\n",
       "<ellipse fill=\"#404040\" stroke=\"#4a4a4a\" cx=\"82\" cy=\"-90\" rx=\"27\" ry=\"18\"/>\n",
       "<text text-anchor=\"middle\" x=\"82\" y=\"-86.3\" font-family=\"Times,serif\" font-size=\"14.00\" fill=\"white\">z2</text>\n",
       "</g>\n",
       "<!-- Z1&#45;Z1&#45;&gt;z2 -->\n",
       "<g id=\"edge2\" class=\"edge\">\n",
       "<title>Z1-Z1-&gt;z2</title>\n",
       "<path fill=\"none\" stroke=\"#4a4a4a\" stroke-dasharray=\"5,2\" d=\"M144.97,-287.84C144.65,-278.36 141.36,-200.75 118,-144 113.74,-133.66 107.28,-123.27 101,-114.47\"/>\n",
       "<polygon fill=\"#4a4a4a\" stroke=\"#4a4a4a\" points=\"103.65,-112.17 94.87,-106.25 98.04,-116.36 103.65,-112.17\"/>\n",
       "</g>\n",
       "<!-- X−Y -->\n",
       "<g id=\"node4\" class=\"node\">\n",
       "<title>X−Y</title>\n",
       "<ellipse fill=\"#404040\" stroke=\"#4a4a4a\" cx=\"23\" cy=\"-234\" rx=\"1.8\" ry=\"1.8\"/>\n",
       "</g>\n",
       "<!-- X−Y&#45;&gt;x -->\n",
       "<g id=\"edge4\" class=\"edge\">\n",
       "<title>X−Y-&gt;x</title>\n",
       "<path fill=\"none\" stroke=\"#4a4a4a\" stroke-dasharray=\"5,2\" d=\"M23.55,-232.04C25.07,-229.4 29.55,-221.8 34,-216 42.15,-205.39 51.95,-194.31 60.57,-185.05\"/>\n",
       "<polygon fill=\"#4a4a4a\" stroke=\"#4a4a4a\" points=\"63.14,-187.42 67.46,-177.74 58.05,-182.61 63.14,-187.42\"/>\n",
       "</g>\n",
       "<!-- X−Y&#45;&gt;y -->\n",
       "<g id=\"edge6\" class=\"edge\">\n",
       "<title>X−Y-&gt;y</title>\n",
       "<path fill=\"none\" stroke=\"#4a4a4a\" stroke-dasharray=\"5,2\" d=\"M23.02,-232.05C23.24,-220.2 25.46,-101.13 26.49,-46.33\"/>\n",
       "<polygon fill=\"#4a4a4a\" stroke=\"#4a4a4a\" points=\"29.99,-46.35 26.68,-36.28 22.99,-46.22 29.99,-46.35\"/>\n",
       "</g>\n",
       "<!-- z1&#45;&gt;x -->\n",
       "<g id=\"edge1\" class=\"edge\">\n",
       "<title>z1-&gt;x</title>\n",
       "<path fill=\"none\" stroke=\"#4a4a4a\" d=\"M71.92,-215.89C73.24,-208.18 74.84,-198.86 76.32,-190.2\"/>\n",
       "<path fill=\"none\" stroke=\"#4a4a4a\" d=\"M73.89,-216.22C75.21,-208.51 76.81,-199.2 78.29,-190.53\"/>\n",
       "<polygon fill=\"#4a4a4a\" stroke=\"#4a4a4a\" points=\"80.8,-190.72 79.04,-180.28 73.9,-189.54 80.8,-190.72\"/>\n",
       "</g>\n",
       "<!-- x&#45;&gt;z2 -->\n",
       "<g id=\"edge3\" class=\"edge\">\n",
       "<title>x-&gt;z2</title>\n",
       "<path fill=\"none\" stroke=\"#4a4a4a\" d=\"M81,-143.7C81,-135.98 81,-126.71 81,-118.11\"/>\n",
       "<path fill=\"none\" stroke=\"#4a4a4a\" d=\"M83,-143.7C83,-135.98 83,-126.71 83,-118.11\"/>\n",
       "<polygon fill=\"#4a4a4a\" stroke=\"#4a4a4a\" points=\"85.5,-118.1 82,-108.1 78.5,-118.1 85.5,-118.1\"/>\n",
       "</g>\n",
       "<!-- z2&#45;&gt;y -->\n",
       "<g id=\"edge7\" class=\"edge\">\n",
       "<title>z2-&gt;y</title>\n",
       "<path fill=\"none\" stroke=\"#4a4a4a\" d=\"M69.28,-74.43C62,-65.16 52.55,-53.14 44.36,-42.71\"/>\n",
       "<path fill=\"none\" stroke=\"#4a4a4a\" d=\"M70.85,-73.19C63.57,-63.93 54.12,-51.9 45.93,-41.48\"/>\n",
       "<polygon fill=\"#4a4a4a\" stroke=\"#4a4a4a\" points=\"47.84,-39.86 38.91,-34.16 42.34,-44.18 47.84,-39.86\"/>\n",
       "</g>\n",
       "</g>\n",
       "</svg></div></td><td style=\"border-top:hidden;border-bottom:hidden;\"><div align=\"center\" style=\"\">?</div></td><td style=\"border-top:hidden;border-bottom:hidden;\"><div align=\"center\" style=\"\">No result</div></td></tr><tr><td style=\"border-top:hidden;border-bottom:hidden;\"><div align=\"center\"><small>Causal Model</small></div></td><td style=\"border-top:hidden;border-bottom:hidden;\"><div align=\"center\"><small>Explanation : Hedge Error: G={'z1', 'x', 'z2'}, G[S]={'z2'}</small></div></td><td style=\"border-top:hidden;border-bottom:hidden;\"><div align=\"center\"><small>Impact : $?$</small></div></td></tr></table>"
      ],
      "text/plain": [
       "<IPython.core.display.HTML object>"
      ]
     },
     "metadata": {},
     "output_type": "display_data"
    }
   ],
   "source": [
    "err = cslnb.showCausalImpact(cdg,\"y\",\"x\",values={\"x\":0})\n"
   ]
  },
  {
   "cell_type": "markdown",
   "metadata": {},
   "source": [
    "## another one"
   ]
  },
  {
   "cell_type": "code",
   "execution_count": 19,
   "metadata": {
    "ExecuteTime": {
     "end_time": "2019-03-30T09:47:43.001646Z",
     "start_time": "2019-03-30T09:47:40.743915Z"
    }
   },
   "outputs": [
    {
     "data": {
      "image/svg+xml": [
       "<svg xmlns=\"http://www.w3.org/2000/svg\" xmlns:xlink=\"http://www.w3.org/1999/xlink\" width=\"144pt\" height=\"260pt\" viewBox=\"0.00 0.00 144.00 260.00\">\n",
       "<g id=\"graph0\" class=\"graph\" transform=\"scale(1 1) rotate(0) translate(4 256)\">\n",
       "<title>G</title>\n",
       "<!-- x -->\n",
       "<g id=\"node1\" class=\"node\">\n",
       "<title>x</title>\n",
       "<g id=\"a_node1\"><a xlink:title=\"(0) x\">\n",
       "<ellipse fill=\"#404040\" stroke=\"black\" cx=\"109\" cy=\"-90\" rx=\"27\" ry=\"18\"/>\n",
       "<text text-anchor=\"middle\" x=\"109\" y=\"-86.3\" font-family=\"Times,serif\" font-size=\"14.00\" fill=\"white\">x</text>\n",
       "</a>\n",
       "</g>\n",
       "</g>\n",
       "<!-- y -->\n",
       "<g id=\"node2\" class=\"node\">\n",
       "<title>y</title>\n",
       "<g id=\"a_node2\"><a xlink:title=\"(1) y\">\n",
       "<ellipse fill=\"#404040\" stroke=\"black\" cx=\"54\" cy=\"-18\" rx=\"27\" ry=\"18\"/>\n",
       "<text text-anchor=\"middle\" x=\"54\" y=\"-14.3\" font-family=\"Times,serif\" font-size=\"14.00\" fill=\"white\">y</text>\n",
       "</a>\n",
       "</g>\n",
       "</g>\n",
       "<!-- x&#45;&gt;y -->\n",
       "<g id=\"edge1\" class=\"edge\">\n",
       "<title>x-&gt;y</title>\n",
       "<g id=\"a_edge1\"><a xlink:title=\"(0, 1) : \">\n",
       "<path fill=\"none\" stroke=\"#4a4a4a\" d=\"M97.07,-73.81C89.79,-64.55 80.34,-52.52 72.15,-42.09\"/>\n",
       "<polygon fill=\"#4a4a4a\" stroke=\"#4a4a4a\" points=\"74.84,-39.86 65.91,-34.16 69.34,-44.18 74.84,-39.86\"/>\n",
       "</a>\n",
       "</g>\n",
       "</g>\n",
       "<!-- z1 -->\n",
       "<g id=\"node3\" class=\"node\">\n",
       "<title>z1</title>\n",
       "<g id=\"a_node3\"><a xlink:title=\"(2) z1\">\n",
       "<ellipse fill=\"#404040\" stroke=\"black\" cx=\"108\" cy=\"-234\" rx=\"27\" ry=\"18\"/>\n",
       "<text text-anchor=\"middle\" x=\"108\" y=\"-230.3\" font-family=\"Times,serif\" font-size=\"14.00\" fill=\"white\">z1</text>\n",
       "</a>\n",
       "</g>\n",
       "</g>\n",
       "<!-- z1&#45;&gt;x -->\n",
       "<g id=\"edge6\" class=\"edge\">\n",
       "<title>z1-&gt;x</title>\n",
       "<g id=\"a_edge6\"><a xlink:title=\"(2, 0) : \">\n",
       "<path fill=\"none\" stroke=\"#4a4a4a\" d=\"M108.12,-215.87C108.29,-191.67 108.6,-147.21 108.81,-118.39\"/>\n",
       "<polygon fill=\"#4a4a4a\" stroke=\"#4a4a4a\" points=\"112.31,-118.21 108.88,-108.19 105.31,-118.16 112.31,-118.21\"/>\n",
       "</a>\n",
       "</g>\n",
       "</g>\n",
       "<!-- z3 -->\n",
       "<g id=\"node5\" class=\"node\">\n",
       "<title>z3</title>\n",
       "<g id=\"a_node5\"><a xlink:title=\"(4) z3\">\n",
       "<ellipse fill=\"#404040\" stroke=\"black\" cx=\"63\" cy=\"-162\" rx=\"27\" ry=\"18\"/>\n",
       "<text text-anchor=\"middle\" x=\"63\" y=\"-158.3\" font-family=\"Times,serif\" font-size=\"14.00\" fill=\"white\">z3</text>\n",
       "</a>\n",
       "</g>\n",
       "</g>\n",
       "<!-- z1&#45;&gt;z3 -->\n",
       "<g id=\"edge2\" class=\"edge\">\n",
       "<title>z1-&gt;z3</title>\n",
       "<g id=\"a_edge2\"><a xlink:title=\"(2, 4) : \">\n",
       "<path fill=\"none\" stroke=\"#4a4a4a\" d=\"M97.79,-217.12C92.15,-208.34 85.03,-197.26 78.7,-187.42\"/>\n",
       "<polygon fill=\"#4a4a4a\" stroke=\"#4a4a4a\" points=\"81.52,-185.34 73.17,-178.82 75.63,-189.13 81.52,-185.34\"/>\n",
       "</a>\n",
       "</g>\n",
       "</g>\n",
       "<!-- z2 -->\n",
       "<g id=\"node4\" class=\"node\">\n",
       "<title>z2</title>\n",
       "<g id=\"a_node4\"><a xlink:title=\"(3) z2\">\n",
       "<ellipse fill=\"#404040\" stroke=\"black\" cx=\"27\" cy=\"-234\" rx=\"27\" ry=\"18\"/>\n",
       "<text text-anchor=\"middle\" x=\"27\" y=\"-230.3\" font-family=\"Times,serif\" font-size=\"14.00\" fill=\"white\">z2</text>\n",
       "</a>\n",
       "</g>\n",
       "</g>\n",
       "<!-- z2&#45;&gt;y -->\n",
       "<g id=\"edge5\" class=\"edge\">\n",
       "<title>z2-&gt;y</title>\n",
       "<g id=\"a_edge5\"><a xlink:title=\"(3, 1) : \">\n",
       "<path fill=\"none\" stroke=\"#4a4a4a\" d=\"M25.93,-215.88C25.05,-197.92 24.34,-168.89 27,-144 30.67,-109.62 39.87,-70.8 46.51,-45.68\"/>\n",
       "<polygon fill=\"#4a4a4a\" stroke=\"#4a4a4a\" points=\"49.95,-46.36 49.18,-35.8 43.19,-44.54 49.95,-46.36\"/>\n",
       "</a>\n",
       "</g>\n",
       "</g>\n",
       "<!-- z2&#45;&gt;z3 -->\n",
       "<g id=\"edge4\" class=\"edge\">\n",
       "<title>z2-&gt;z3</title>\n",
       "<g id=\"a_edge4\"><a xlink:title=\"(3, 4) : \">\n",
       "<path fill=\"none\" stroke=\"#4a4a4a\" d=\"M35.35,-216.76C39.71,-208.28 45.15,-197.71 50.04,-188.2\"/>\n",
       "<polygon fill=\"#4a4a4a\" stroke=\"#4a4a4a\" points=\"53.23,-189.64 54.7,-179.15 47.01,-186.44 53.23,-189.64\"/>\n",
       "</a>\n",
       "</g>\n",
       "</g>\n",
       "<!-- z3&#45;&gt;x -->\n",
       "<g id=\"edge3\" class=\"edge\">\n",
       "<title>z3-&gt;x</title>\n",
       "<g id=\"a_edge3\"><a xlink:title=\"(4, 0) : \">\n",
       "<path fill=\"none\" stroke=\"#4a4a4a\" d=\"M73.44,-145.12C79.2,-136.34 86.48,-125.26 92.96,-115.42\"/>\n",
       "<polygon fill=\"#4a4a4a\" stroke=\"#4a4a4a\" points=\"96.04,-117.1 98.6,-106.82 90.19,-113.26 96.04,-117.1\"/>\n",
       "</a>\n",
       "</g>\n",
       "</g>\n",
       "<!-- z3&#45;&gt;y -->\n",
       "<g id=\"edge7\" class=\"edge\">\n",
       "<title>z3-&gt;y</title>\n",
       "<g id=\"a_edge7\"><a xlink:title=\"(4, 1) : \">\n",
       "<path fill=\"none\" stroke=\"#4a4a4a\" d=\"M61.91,-143.87C60.38,-119.67 57.56,-75.21 55.74,-46.39\"/>\n",
       "<polygon fill=\"#4a4a4a\" stroke=\"#4a4a4a\" points=\"59.22,-45.95 55.09,-36.19 52.23,-46.39 59.22,-45.95\"/>\n",
       "</a>\n",
       "</g>\n",
       "</g>\n",
       "</g>\n",
       "</svg>"
      ],
      "text/plain": [
       "<IPython.core.display.SVG object>"
      ]
     },
     "metadata": {},
     "output_type": "display_data"
    }
   ],
   "source": [
    "# EXEMPLE PAGE 17 : http://ftp.cs.ucla.edu/pub/stat_ser/r350.pdf\n",
    "\n",
    "\n",
    "m1 = gum.BayesNet()\n",
    "m1.add(gum.LabelizedVariable(\"x\"))\n",
    "m1.add(gum.LabelizedVariable(\"y\"))\n",
    "m1.add(gum.LabelizedVariable(\"z1\"))\n",
    "m1.add(gum.LabelizedVariable(\"z2\"))\n",
    "m1.add(gum.LabelizedVariable(\"z3\"))\n",
    "\n",
    "m1.addArc(2,4)\n",
    "m1.addArc(2,0)\n",
    "m1.addArc(3,4)\n",
    "m1.addArc(3,1)\n",
    "m1.addArc(4,1)\n",
    "m1.addArc(4,0)\n",
    "m1.addArc(0,1)\n",
    "\n",
    "gnb.showBN(m1)\n",
    "d = csl.CausalModel(m1)"
   ]
  },
  {
   "cell_type": "code",
   "execution_count": 20,
   "metadata": {
    "ExecuteTime": {
     "end_time": "2019-03-30T09:47:43.010201Z",
     "start_time": "2019-03-30T09:47:43.004428Z"
    }
   },
   "outputs": [
    {
     "data": {
      "text/latex": [
       "$\\displaystyle P\\left(z3\\mid z1,z2\\right) \\cdot P\\left(z2\\right) \\cdot P\\left(z1\\right) \\cdot P\\left(y\\mid x,z2,z3\\right)$"
      ],
      "text/plain": [
       "<IPython.core.display.Math object>"
      ]
     },
     "metadata": {},
     "output_type": "display_data"
    }
   ],
   "source": [
    "display(Math(csl.identifyingIntervention (d,{\"z1\",\"z2\",\"z3\",\"y\"}, {\"x\"}).toLatex()))"
   ]
  },
  {
   "cell_type": "code",
   "execution_count": 21,
   "metadata": {
    "ExecuteTime": {
     "end_time": "2019-03-30T09:47:43.018992Z",
     "start_time": "2019-03-30T09:47:43.011836Z"
    }
   },
   "outputs": [
    {
     "data": {
      "text/latex": [
       "$\\displaystyle \\sum_{z1,z2,z3}{P\\left(z3\\mid z1,z2\\right) \\cdot P\\left(z2\\right) \\cdot P\\left(z1\\right) \\cdot P\\left(y\\mid x,z2,z3\\right)}$"
      ],
      "text/plain": [
       "<IPython.core.display.Math object>"
      ]
     },
     "metadata": {},
     "output_type": "display_data"
    }
   ],
   "source": [
    "display(Math(csl.identifyingIntervention(d,{\"y\"}, {\"x\"}).toLatex()))"
   ]
  },
  {
   "cell_type": "code",
   "execution_count": 22,
   "metadata": {
    "ExecuteTime": {
     "end_time": "2019-03-30T09:47:43.025483Z",
     "start_time": "2019-03-30T09:47:43.020669Z"
    }
   },
   "outputs": [
    {
     "data": {
      "text/latex": [
       "$\\displaystyle P\\left(z3\\mid z1,z2\\right) \\cdot P\\left(z1\\right) \\cdot P\\left(y\\mid x,z2,z3\\right)$"
      ],
      "text/plain": [
       "<IPython.core.display.Math object>"
      ]
     },
     "metadata": {},
     "output_type": "display_data"
    }
   ],
   "source": [
    "display(Math(csl.identifyingIntervention(d,{\"z1\",\"z3\",\"y\"}, {\"x\",\"z2\"}).toLatex()))"
   ]
  },
  {
   "cell_type": "code",
   "execution_count": 23,
   "metadata": {
    "ExecuteTime": {
     "end_time": "2019-03-30T09:47:43.033600Z",
     "start_time": "2019-03-30T09:47:43.028772Z"
    }
   },
   "outputs": [
    {
     "data": {
      "text/latex": [
       "$\\displaystyle \\sum_{z1,z3}{P\\left(z3\\mid z1,z2\\right) \\cdot P\\left(z1\\right) \\cdot P\\left(y\\mid x,z2,z3\\right)}$"
      ],
      "text/plain": [
       "<IPython.core.display.Math object>"
      ]
     },
     "metadata": {},
     "output_type": "display_data"
    }
   ],
   "source": [
    "display(Math(csl.identifyingIntervention(d,{\"y\"}, {\"x\",\"z2\"}).toLatex()))"
   ]
  },
  {
   "cell_type": "markdown",
   "metadata": {},
   "source": [
    "## another"
   ]
  },
  {
   "cell_type": "code",
   "execution_count": 24,
   "metadata": {
    "ExecuteTime": {
     "end_time": "2019-03-30T09:47:45.111304Z",
     "start_time": "2019-03-30T09:47:43.035453Z"
    }
   },
   "outputs": [
    {
     "data": {
      "image/svg+xml": [
       "<svg xmlns=\"http://www.w3.org/2000/svg\" xmlns:xlink=\"http://www.w3.org/1999/xlink\" width=\"127pt\" height=\"260pt\" viewBox=\"0.00 0.00 127.00 260.00\">\n",
       "<g id=\"graph0\" class=\"graph\" transform=\"scale(1 1) rotate(0) translate(4 256)\">\n",
       "<title>G</title>\n",
       "<!-- a -->\n",
       "<g id=\"node1\" class=\"node\">\n",
       "<title>a</title>\n",
       "<g id=\"a_node1\"><a xlink:title=\"(0) a\">\n",
       "<ellipse fill=\"#404040\" stroke=\"black\" cx=\"92\" cy=\"-234\" rx=\"27\" ry=\"18\"/>\n",
       "<text text-anchor=\"middle\" x=\"92\" y=\"-230.3\" font-family=\"Times,serif\" font-size=\"14.00\" fill=\"white\">a</text>\n",
       "</a>\n",
       "</g>\n",
       "</g>\n",
       "<!-- p -->\n",
       "<g id=\"node2\" class=\"node\">\n",
       "<title>p</title>\n",
       "<g id=\"a_node2\"><a xlink:title=\"(1) p\">\n",
       "<ellipse fill=\"#404040\" stroke=\"black\" cx=\"65\" cy=\"-162\" rx=\"27\" ry=\"18\"/>\n",
       "<text text-anchor=\"middle\" x=\"65\" y=\"-158.3\" font-family=\"Times,serif\" font-size=\"14.00\" fill=\"white\">p</text>\n",
       "</a>\n",
       "</g>\n",
       "</g>\n",
       "<!-- a&#45;&gt;p -->\n",
       "<g id=\"edge1\" class=\"edge\">\n",
       "<title>a-&gt;p</title>\n",
       "<g id=\"a_edge1\"><a xlink:title=\"(0, 1) : \">\n",
       "<path fill=\"none\" stroke=\"#4a4a4a\" d=\"M85.6,-216.41C82.49,-208.34 78.67,-198.43 75.17,-189.35\"/>\n",
       "<polygon fill=\"#4a4a4a\" stroke=\"#4a4a4a\" points=\"78.4,-188.03 71.54,-179.96 71.87,-190.55 78.4,-188.03\"/>\n",
       "</a>\n",
       "</g>\n",
       "</g>\n",
       "<!-- y -->\n",
       "<g id=\"node4\" class=\"node\">\n",
       "<title>y</title>\n",
       "<g id=\"a_node4\"><a xlink:title=\"(3) y\">\n",
       "<ellipse fill=\"#404040\" stroke=\"black\" cx=\"82\" cy=\"-18\" rx=\"27\" ry=\"18\"/>\n",
       "<text text-anchor=\"middle\" x=\"82\" y=\"-14.3\" font-family=\"Times,serif\" font-size=\"14.00\" fill=\"white\">y</text>\n",
       "</a>\n",
       "</g>\n",
       "</g>\n",
       "<!-- a&#45;&gt;y -->\n",
       "<g id=\"edge3\" class=\"edge\">\n",
       "<title>a-&gt;y</title>\n",
       "<g id=\"a_edge3\"><a xlink:title=\"(0, 3) : \">\n",
       "<path fill=\"none\" stroke=\"#4a4a4a\" d=\"M95.65,-215.91C97.68,-205.57 99.98,-192.09 101,-180 104.99,-132.63 95.45,-77.68 88.49,-45.78\"/>\n",
       "<polygon fill=\"#4a4a4a\" stroke=\"#4a4a4a\" points=\"91.87,-44.87 86.25,-35.88 85.04,-46.41 91.87,-44.87\"/>\n",
       "</a>\n",
       "</g>\n",
       "</g>\n",
       "<!-- b -->\n",
       "<g id=\"node3\" class=\"node\">\n",
       "<title>b</title>\n",
       "<g id=\"a_node3\"><a xlink:title=\"(2) b\">\n",
       "<ellipse fill=\"#404040\" stroke=\"black\" cx=\"27\" cy=\"-90\" rx=\"27\" ry=\"18\"/>\n",
       "<text text-anchor=\"middle\" x=\"27\" y=\"-86.3\" font-family=\"Times,serif\" font-size=\"14.00\" fill=\"white\">b</text>\n",
       "</a>\n",
       "</g>\n",
       "</g>\n",
       "<!-- p&#45;&gt;b -->\n",
       "<g id=\"edge2\" class=\"edge\">\n",
       "<title>p-&gt;b</title>\n",
       "<g id=\"a_edge2\"><a xlink:title=\"(1, 2) : \">\n",
       "<path fill=\"none\" stroke=\"#4a4a4a\" d=\"M56.19,-144.76C51.58,-136.28 45.84,-125.71 40.68,-116.2\"/>\n",
       "<polygon fill=\"#4a4a4a\" stroke=\"#4a4a4a\" points=\"43.61,-114.27 35.77,-107.15 37.46,-117.61 43.61,-114.27\"/>\n",
       "</a>\n",
       "</g>\n",
       "</g>\n",
       "<!-- p&#45;&gt;y -->\n",
       "<g id=\"edge5\" class=\"edge\">\n",
       "<title>p-&gt;y</title>\n",
       "<g id=\"a_edge5\"><a xlink:title=\"(1, 3) : \">\n",
       "<path fill=\"none\" stroke=\"#4a4a4a\" d=\"M67.05,-143.87C69.95,-119.67 75.27,-75.21 78.72,-46.39\"/>\n",
       "<polygon fill=\"#4a4a4a\" stroke=\"#4a4a4a\" points=\"82.23,-46.53 79.94,-36.19 75.28,-45.7 82.23,-46.53\"/>\n",
       "</a>\n",
       "</g>\n",
       "</g>\n",
       "<!-- b&#45;&gt;y -->\n",
       "<g id=\"edge4\" class=\"edge\">\n",
       "<title>b-&gt;y</title>\n",
       "<g id=\"a_edge4\"><a xlink:title=\"(2, 3) : \">\n",
       "<path fill=\"none\" stroke=\"#4a4a4a\" d=\"M38.93,-73.81C46.21,-64.55 55.66,-52.52 63.85,-42.09\"/>\n",
       "<polygon fill=\"#4a4a4a\" stroke=\"#4a4a4a\" points=\"66.66,-44.18 70.09,-34.16 61.16,-39.86 66.66,-44.18\"/>\n",
       "</a>\n",
       "</g>\n",
       "</g>\n",
       "</g>\n",
       "</svg>"
      ],
      "text/plain": [
       "<IPython.core.display.SVG object>"
      ]
     },
     "metadata": {},
     "output_type": "display_data"
    }
   ],
   "source": [
    "#http://www.stats.ox.ac.uk/~lienart/gml15_causalinference.html\n",
    "\n",
    "m1 = gum.BayesNet()\n",
    "m1.add(gum.LabelizedVariable(\"a\"))\n",
    "m1.add(gum.LabelizedVariable(\"p\"))\n",
    "m1.add(gum.LabelizedVariable(\"b\"))\n",
    "m1.add(gum.LabelizedVariable(\"y\"))\n",
    "\n",
    "m1.addArc(0,1)\n",
    "m1.addArc(1,2)\n",
    "m1.addArc(0,3)\n",
    "m1.addArc(1,3)\n",
    "m1.addArc(2,3)\n",
    "gnb.showBN(m1)\n",
    "d = csl.CausalModel(m1)"
   ]
  },
  {
   "cell_type": "code",
   "execution_count": 25,
   "metadata": {
    "ExecuteTime": {
     "end_time": "2019-03-30T09:47:45.120857Z",
     "start_time": "2019-03-30T09:47:45.114350Z"
    }
   },
   "outputs": [
    {
     "data": {
      "text/latex": [
       "$\\displaystyle \\sum_{p}{P\\left(y\\mid a,b,p\\right) \\cdot P\\left(p\\mid a\\right)}$"
      ],
      "text/plain": [
       "<IPython.core.display.Math object>"
      ]
     },
     "metadata": {},
     "output_type": "display_data"
    }
   ],
   "source": [
    "display(Math(csl.identifyingIntervention(d,{\"y\"}, {\"a\",\"b\"}).toLatex()))"
   ]
  },
  {
   "cell_type": "markdown",
   "metadata": {},
   "source": [
    "## example f"
   ]
  },
  {
   "cell_type": "code",
   "execution_count": 26,
   "metadata": {
    "ExecuteTime": {
     "end_time": "2019-03-30T09:47:47.074252Z",
     "start_time": "2019-03-30T09:47:45.123670Z"
    }
   },
   "outputs": [
    {
     "data": {
      "image/svg+xml": [
       "<svg xmlns=\"http://www.w3.org/2000/svg\" xmlns:xlink=\"http://www.w3.org/1999/xlink\" width=\"163pt\" height=\"300pt\" viewBox=\"0.00 0.00 163.12 299.60\">\n",
       "<g id=\"graph0\" class=\"graph\" transform=\"scale(1 1) rotate(0) translate(4 295.6)\">\n",
       "<title>G</title>\n",
       "<!-- l1 -->\n",
       "<g id=\"node1\" class=\"node\">\n",
       "<title>l1</title>\n",
       "<ellipse fill=\"#404040\" stroke=\"#4a4a4a\" cx=\"54\" cy=\"-289.8\" rx=\"1.8\" ry=\"1.8\"/>\n",
       "</g>\n",
       "<!-- X -->\n",
       "<g id=\"node3\" class=\"node\">\n",
       "<title>X</title>\n",
       "<ellipse fill=\"#404040\" stroke=\"#4a4a4a\" cx=\"27\" cy=\"-234\" rx=\"27\" ry=\"18\"/>\n",
       "<text text-anchor=\"middle\" x=\"27\" y=\"-230.3\" font-family=\"Times,serif\" font-size=\"14.00\" fill=\"white\">X</text>\n",
       "</g>\n",
       "<!-- l1&#45;&gt;X -->\n",
       "<g id=\"edge2\" class=\"edge\">\n",
       "<title>l1-&gt;X</title>\n",
       "<path fill=\"none\" stroke=\"#4a4a4a\" stroke-dasharray=\"5,2\" d=\"M53.53,-287.87C51.82,-284.45 45.69,-272.23 39.75,-260.4\"/>\n",
       "<polygon fill=\"#4a4a4a\" stroke=\"#4a4a4a\" points=\"42.73,-258.54 35.12,-251.17 36.47,-261.68 42.73,-258.54\"/>\n",
       "</g>\n",
       "<!-- Z1 -->\n",
       "<g id=\"node5\" class=\"node\">\n",
       "<title>Z1</title>\n",
       "<ellipse fill=\"#404040\" stroke=\"#4a4a4a\" cx=\"82\" cy=\"-162\" rx=\"27\" ry=\"18\"/>\n",
       "<text text-anchor=\"middle\" x=\"82\" y=\"-158.3\" font-family=\"Times,serif\" font-size=\"14.00\" fill=\"white\">Z1</text>\n",
       "</g>\n",
       "<!-- l1&#45;&gt;Z1 -->\n",
       "<g id=\"edge6\" class=\"edge\">\n",
       "<title>l1-&gt;Z1</title>\n",
       "<path fill=\"none\" stroke=\"#4a4a4a\" stroke-dasharray=\"5,2\" d=\"M54.23,-287.89C55.29,-283.77 59.71,-266.36 63,-252 67.73,-231.34 72.72,-207.89 76.4,-190.25\"/>\n",
       "<polygon fill=\"#4a4a4a\" stroke=\"#4a4a4a\" points=\"79.9,-190.6 78.51,-180.09 73.05,-189.18 79.9,-190.6\"/>\n",
       "</g>\n",
       "<!-- l2 -->\n",
       "<g id=\"node2\" class=\"node\">\n",
       "<title>l2</title>\n",
       "<ellipse fill=\"#404040\" stroke=\"#4a4a4a\" cx=\"143\" cy=\"-234\" rx=\"1.8\" ry=\"1.8\"/>\n",
       "</g>\n",
       "<!-- Y -->\n",
       "<g id=\"node4\" class=\"node\">\n",
       "<title>Y</title>\n",
       "<ellipse fill=\"#404040\" stroke=\"#4a4a4a\" cx=\"76\" cy=\"-18\" rx=\"27\" ry=\"18\"/>\n",
       "<text text-anchor=\"middle\" x=\"76\" y=\"-14.3\" font-family=\"Times,serif\" font-size=\"14.00\" fill=\"white\">Y</text>\n",
       "</g>\n",
       "<!-- l2&#45;&gt;Y -->\n",
       "<g id=\"edge5\" class=\"edge\">\n",
       "<title>l2-&gt;Y</title>\n",
       "<path fill=\"none\" stroke=\"#4a4a4a\" stroke-dasharray=\"5,2\" d=\"M143.31,-231.9C146.28,-221.06 169.12,-132.45 140,-72 132.68,-56.79 118.68,-44.42 105.64,-35.46\"/>\n",
       "<polygon fill=\"#4a4a4a\" stroke=\"#4a4a4a\" points=\"107.16,-32.28 96.85,-29.81 103.37,-38.16 107.16,-32.28\"/>\n",
       "</g>\n",
       "<!-- l2&#45;&gt;Z1 -->\n",
       "<g id=\"edge9\" class=\"edge\">\n",
       "<title>l2-&gt;Z1</title>\n",
       "<path fill=\"none\" stroke=\"#4a4a4a\" stroke-dasharray=\"5,2\" d=\"M142.31,-232.21C138.34,-227.65 117.88,-204.18 101.88,-185.81\"/>\n",
       "<polygon fill=\"#4a4a4a\" stroke=\"#4a4a4a\" points=\"104.13,-183.06 94.92,-177.82 98.85,-187.66 104.13,-183.06\"/>\n",
       "</g>\n",
       "<!-- X&#45;&gt;Y -->\n",
       "<g id=\"edge1\" class=\"edge\">\n",
       "<title>X-&gt;Y</title>\n",
       "<path fill=\"none\" stroke=\"#4a4a4a\" d=\"M29.43,-215.82C35.4,-186.39 48.32,-124.05 61.03,-71.76 63.09,-63.3 65.46,-54.12 67.66,-45.82\"/>\n",
       "<path fill=\"none\" stroke=\"#4a4a4a\" d=\"M31.39,-216.22C37.36,-186.79 50.28,-124.46 62.97,-72.24 65.02,-63.8 67.4,-54.62 69.59,-46.33\"/>\n",
       "<polygon fill=\"#4a4a4a\" stroke=\"#4a4a4a\" points=\"72.08,-46.71 71.29,-36.14 65.32,-44.9 72.08,-46.71\"/>\n",
       "</g>\n",
       "<!-- X&#45;&gt;Z1 -->\n",
       "<g id=\"edge8\" class=\"edge\">\n",
       "<title>X-&gt;Z1</title>\n",
       "<path fill=\"none\" stroke=\"#4a4a4a\" d=\"M38.15,-217.19C45.43,-207.93 54.88,-195.9 63.07,-185.48\"/>\n",
       "<path fill=\"none\" stroke=\"#4a4a4a\" d=\"M39.72,-218.43C47,-209.16 56.45,-197.14 64.64,-186.71\"/>\n",
       "<polygon fill=\"#4a4a4a\" stroke=\"#4a4a4a\" points=\"66.66,-188.18 70.09,-178.16 61.16,-183.86 66.66,-188.18\"/>\n",
       "</g>\n",
       "<!-- Z1&#45;&gt;Y -->\n",
       "<g id=\"edge3\" class=\"edge\">\n",
       "<title>Z1-&gt;Y</title>\n",
       "<path fill=\"none\" stroke=\"#4a4a4a\" d=\"M75.37,-144.33C72.21,-134 68.63,-120.53 67.01,-108.13 64.32,-87.26 66.65,-63.81 69.48,-46.11\"/>\n",
       "<path fill=\"none\" stroke=\"#4a4a4a\" d=\"M77.28,-143.75C74.14,-133.49 70.56,-120.01 68.99,-107.87 66.32,-87.46 68.64,-64.01 71.45,-46.42\"/>\n",
       "<polygon fill=\"#4a4a4a\" stroke=\"#4a4a4a\" points=\"73.97,-46.56 72.25,-36.11 67.07,-45.35 73.97,-46.56\"/>\n",
       "</g>\n",
       "<!-- Z2 -->\n",
       "<g id=\"node6\" class=\"node\">\n",
       "<title>Z2</title>\n",
       "<ellipse fill=\"#404040\" stroke=\"#4a4a4a\" cx=\"104\" cy=\"-90\" rx=\"27\" ry=\"18\"/>\n",
       "<text text-anchor=\"middle\" x=\"104\" y=\"-86.3\" font-family=\"Times,serif\" font-size=\"14.00\" fill=\"white\">Z2</text>\n",
       "</g>\n",
       "<!-- Z1&#45;&gt;Z2 -->\n",
       "<g id=\"edge7\" class=\"edge\">\n",
       "<title>Z1-&gt;Z2</title>\n",
       "<path fill=\"none\" stroke=\"#4a4a4a\" d=\"M86.37,-143.76C88.88,-135.76 91.94,-126.03 94.75,-117.1\"/>\n",
       "<path fill=\"none\" stroke=\"#4a4a4a\" d=\"M88.28,-144.35C90.79,-136.36 93.85,-126.63 96.66,-117.7\"/>\n",
       "<polygon fill=\"#4a4a4a\" stroke=\"#4a4a4a\" points=\"99.06,-118.38 98.72,-107.79 92.39,-116.28 99.06,-118.38\"/>\n",
       "</g>\n",
       "<!-- Z2&#45;&gt;Y -->\n",
       "<g id=\"edge4\" class=\"edge\">\n",
       "<title>Z2-&gt;Y</title>\n",
       "<path fill=\"none\" stroke=\"#4a4a4a\" d=\"M96.44,-72.78C93.16,-64.59 89.13,-54.51 85.45,-45.33\"/>\n",
       "<path fill=\"none\" stroke=\"#4a4a4a\" d=\"M98.29,-72.04C95.02,-63.85 90.98,-53.77 87.31,-44.58\"/>\n",
       "<polygon fill=\"#4a4a4a\" stroke=\"#4a4a4a\" points=\"89.55,-43.45 82.59,-35.47 83.05,-46.05 89.55,-43.45\"/>\n",
       "</g>\n",
       "</g>\n",
       "</svg>"
      ],
      "text/plain": [
       "<IPython.core.display.SVG object>"
      ]
     },
     "metadata": {},
     "output_type": "display_data"
    }
   ],
   "source": [
    "#https://cse.sc.edu/~mgv/talks/AIM2010.ppt , example (f)\n",
    "\n",
    "m1 = gum.BayesNet()\n",
    "m1.add(gum.LabelizedVariable(\"X\"))\n",
    "m1.add(gum.LabelizedVariable(\"Y\"))\n",
    "m1.add(gum.LabelizedVariable(\"Z1\"))\n",
    "m1.add(gum.LabelizedVariable(\"Z2\"))\n",
    "\n",
    "m1.addArc(0,1)\n",
    "m1.addArc(0,2)\n",
    "m1.addArc(2,3)\n",
    "m1.addArc(3,1)\n",
    "m1.addArc(2,1)\n",
    "d = csl.CausalModel(m1, [(\"l1\",[\"X\",\"Z1\"]) ,(\"l2\",[\"Y\",\"Z1\"])],True)\n",
    "cslnb.showCausalModel(d)"
   ]
  },
  {
   "cell_type": "code",
   "execution_count": 27,
   "metadata": {
    "ExecuteTime": {
     "end_time": "2019-03-30T09:47:47.084796Z",
     "start_time": "2019-03-30T09:47:47.078258Z"
    }
   },
   "outputs": [
    {
     "name": "stdout",
     "output_type": "stream",
     "text": [
      "Hedge exception : (\"Hedge Error: G={'Z1', 'Y', 'X'}, G[S]={'Y', 'Z1'}\", {'Z1', 'Y', 'X'}, {'Y', 'Z1'})\n"
     ]
    }
   ],
   "source": [
    "try:\n",
    "    display(Math(csl.identifyingIntervention (d,{\"Y\"}, {\"X\"}).toLatex()))\n",
    "except csl.HedgeException as e:\n",
    "    print(\"Hedge exception : {}\".format(e))"
   ]
  },
  {
   "cell_type": "markdown",
   "metadata": {},
   "source": [
    "# Example [Pearl,2009] Causality, p66"
   ]
  },
  {
   "cell_type": "code",
   "execution_count": 28,
   "metadata": {
    "ExecuteTime": {
     "end_time": "2019-03-30T09:48:38.071599Z",
     "start_time": "2019-03-30T09:48:34.411764Z"
    }
   },
   "outputs": [
    {
     "data": {
      "image/svg+xml": [
       "<svg xmlns=\"http://www.w3.org/2000/svg\" xmlns:xlink=\"http://www.w3.org/1999/xlink\" width=\"172pt\" height=\"332pt\" viewBox=\"0.00 0.00 172.00 332.00\">\n",
       "<g id=\"graph0\" class=\"graph\" transform=\"scale(1 1) rotate(0) translate(4 328)\">\n",
       "<title>G</title>\n",
       "<!-- Z1 -->\n",
       "<g id=\"node1\" class=\"node\">\n",
       "<title>Z1</title>\n",
       "<g id=\"a_node1\"><a xlink:title=\"(0) Z1\">\n",
       "<ellipse fill=\"#404040\" stroke=\"black\" cx=\"82\" cy=\"-306\" rx=\"27\" ry=\"18\"/>\n",
       "<text text-anchor=\"middle\" x=\"82\" y=\"-302.3\" font-family=\"Times,serif\" font-size=\"14.00\" fill=\"white\">Z1</text>\n",
       "</a>\n",
       "</g>\n",
       "</g>\n",
       "<!-- Z2 -->\n",
       "<g id=\"node2\" class=\"node\">\n",
       "<title>Z2</title>\n",
       "<g id=\"a_node2\"><a xlink:title=\"(1) Z2\">\n",
       "<ellipse fill=\"#404040\" stroke=\"black\" cx=\"27\" cy=\"-162\" rx=\"27\" ry=\"18\"/>\n",
       "<text text-anchor=\"middle\" x=\"27\" y=\"-158.3\" font-family=\"Times,serif\" font-size=\"14.00\" fill=\"white\">Z2</text>\n",
       "</a>\n",
       "</g>\n",
       "</g>\n",
       "<!-- Z1&#45;&gt;Z2 -->\n",
       "<g id=\"edge1\" class=\"edge\">\n",
       "<title>Z1-&gt;Z2</title>\n",
       "<g id=\"a_edge1\"><a xlink:title=\"(0, 1) : \">\n",
       "<path fill=\"none\" stroke=\"#4a4a4a\" d=\"M75.58,-288.43C66.15,-264.09 48.46,-218.4 37.23,-189.4\"/>\n",
       "<polygon fill=\"#4a4a4a\" stroke=\"#4a4a4a\" points=\"40.42,-187.96 33.55,-179.9 33.89,-190.49 40.42,-187.96\"/>\n",
       "</a>\n",
       "</g>\n",
       "</g>\n",
       "<!-- Z3 -->\n",
       "<g id=\"node3\" class=\"node\">\n",
       "<title>Z3</title>\n",
       "<g id=\"a_node3\"><a xlink:title=\"(2) Z3\">\n",
       "<ellipse fill=\"#404040\" stroke=\"black\" cx=\"82\" cy=\"-90\" rx=\"27\" ry=\"18\"/>\n",
       "<text text-anchor=\"middle\" x=\"82\" y=\"-86.3\" font-family=\"Times,serif\" font-size=\"14.00\" fill=\"white\">Z3</text>\n",
       "</a>\n",
       "</g>\n",
       "</g>\n",
       "<!-- Z1&#45;&gt;Z3 -->\n",
       "<g id=\"edge8\" class=\"edge\">\n",
       "<title>Z1-&gt;Z3</title>\n",
       "<g id=\"a_edge8\"><a xlink:title=\"(0, 2) : \">\n",
       "<path fill=\"none\" stroke=\"#4a4a4a\" d=\"M82,-287.85C82,-250.83 82,-163.18 82,-118.39\"/>\n",
       "<polygon fill=\"#4a4a4a\" stroke=\"#4a4a4a\" points=\"85.5,-118.23 82,-108.23 78.5,-118.23 85.5,-118.23\"/>\n",
       "</a>\n",
       "</g>\n",
       "</g>\n",
       "<!-- X -->\n",
       "<g id=\"node5\" class=\"node\">\n",
       "<title>X</title>\n",
       "<g id=\"a_node5\"><a xlink:title=\"(4) X\">\n",
       "<ellipse fill=\"#404040\" stroke=\"black\" cx=\"137\" cy=\"-234\" rx=\"27\" ry=\"18\"/>\n",
       "<text text-anchor=\"middle\" x=\"137\" y=\"-230.3\" font-family=\"Times,serif\" font-size=\"14.00\" fill=\"white\">X</text>\n",
       "</a>\n",
       "</g>\n",
       "</g>\n",
       "<!-- Z1&#45;&gt;X -->\n",
       "<g id=\"edge3\" class=\"edge\">\n",
       "<title>Z1-&gt;X</title>\n",
       "<g id=\"a_edge3\"><a xlink:title=\"(0, 4) : \">\n",
       "<path fill=\"none\" stroke=\"#4a4a4a\" d=\"M93.93,-289.81C101.21,-280.55 110.66,-268.52 118.85,-258.09\"/>\n",
       "<polygon fill=\"#4a4a4a\" stroke=\"#4a4a4a\" points=\"121.66,-260.18 125.09,-250.16 116.16,-255.86 121.66,-260.18\"/>\n",
       "</a>\n",
       "</g>\n",
       "</g>\n",
       "<!-- Z2&#45;&gt;Z3 -->\n",
       "<g id=\"edge2\" class=\"edge\">\n",
       "<title>Z2-&gt;Z3</title>\n",
       "<g id=\"a_edge2\"><a xlink:title=\"(1, 2) : \">\n",
       "<path fill=\"none\" stroke=\"#4a4a4a\" d=\"M38.93,-145.81C46.21,-136.55 55.66,-124.52 63.85,-114.09\"/>\n",
       "<polygon fill=\"#4a4a4a\" stroke=\"#4a4a4a\" points=\"66.66,-116.18 70.09,-106.16 61.16,-111.86 66.66,-116.18\"/>\n",
       "</a>\n",
       "</g>\n",
       "</g>\n",
       "<!-- Y -->\n",
       "<g id=\"node4\" class=\"node\">\n",
       "<title>Y</title>\n",
       "<g id=\"a_node4\"><a xlink:title=\"(3) Y\">\n",
       "<ellipse fill=\"#404040\" stroke=\"black\" cx=\"82\" cy=\"-18\" rx=\"27\" ry=\"18\"/>\n",
       "<text text-anchor=\"middle\" x=\"82\" y=\"-14.3\" font-family=\"Times,serif\" font-size=\"14.00\" fill=\"white\">Y</text>\n",
       "</a>\n",
       "</g>\n",
       "</g>\n",
       "<!-- Z2&#45;&gt;Y -->\n",
       "<g id=\"edge9\" class=\"edge\">\n",
       "<title>Z2-&gt;Y</title>\n",
       "<g id=\"a_edge9\"><a xlink:title=\"(1, 3) : \">\n",
       "<path fill=\"none\" stroke=\"#4a4a4a\" d=\"M28.66,-144.01C30.89,-125.65 35.83,-95.83 46,-72 50.39,-61.72 56.88,-51.34 63.15,-42.53\"/>\n",
       "<polygon fill=\"#4a4a4a\" stroke=\"#4a4a4a\" points=\"66.11,-44.41 69.25,-34.3 60.48,-40.24 66.11,-44.41\"/>\n",
       "</a>\n",
       "</g>\n",
       "</g>\n",
       "<!-- Z3&#45;&gt;Y -->\n",
       "<g id=\"edge7\" class=\"edge\">\n",
       "<title>Z3-&gt;Y</title>\n",
       "<g id=\"a_edge7\"><a xlink:title=\"(2, 3) : \">\n",
       "<path fill=\"none\" stroke=\"#4a4a4a\" d=\"M82,-71.7C82,-63.98 82,-54.71 82,-46.11\"/>\n",
       "<polygon fill=\"#4a4a4a\" stroke=\"#4a4a4a\" points=\"85.5,-46.1 82,-36.1 78.5,-46.1 85.5,-46.1\"/>\n",
       "</a>\n",
       "</g>\n",
       "</g>\n",
       "<!-- X&#45;&gt;Z2 -->\n",
       "<g id=\"edge4\" class=\"edge\">\n",
       "<title>X-&gt;Z2</title>\n",
       "<g id=\"a_edge4\"><a xlink:title=\"(4, 1) : \">\n",
       "<path fill=\"none\" stroke=\"#4a4a4a\" d=\"M117.84,-220.81C100.33,-209.67 74.24,-193.06 54.51,-180.5\"/>\n",
       "<polygon fill=\"#4a4a4a\" stroke=\"#4a4a4a\" points=\"56.26,-177.47 45.94,-175.05 52.5,-183.37 56.26,-177.47\"/>\n",
       "</a>\n",
       "</g>\n",
       "</g>\n",
       "<!-- X&#45;&gt;Z3 -->\n",
       "<g id=\"edge6\" class=\"edge\">\n",
       "<title>X-&gt;Z3</title>\n",
       "<g id=\"a_edge6\"><a xlink:title=\"(4, 2) : \">\n",
       "<path fill=\"none\" stroke=\"#4a4a4a\" d=\"M130.58,-216.43C121.15,-192.09 103.46,-146.4 92.23,-117.4\"/>\n",
       "<polygon fill=\"#4a4a4a\" stroke=\"#4a4a4a\" points=\"95.42,-115.96 88.55,-107.9 88.89,-118.49 95.42,-115.96\"/>\n",
       "</a>\n",
       "</g>\n",
       "</g>\n",
       "<!-- X&#45;&gt;Y -->\n",
       "<g id=\"edge5\" class=\"edge\">\n",
       "<title>X-&gt;Y</title>\n",
       "<g id=\"a_edge5\"><a xlink:title=\"(4, 3) : \">\n",
       "<path fill=\"none\" stroke=\"#4a4a4a\" d=\"M137.6,-215.93C138.09,-185.84 136.59,-121.84 118,-72 114.09,-61.53 107.7,-51.11 101.39,-42.32\"/>\n",
       "<polygon fill=\"#4a4a4a\" stroke=\"#4a4a4a\" points=\"104.01,-39.98 95.19,-34.12 98.43,-44.21 104.01,-39.98\"/>\n",
       "</a>\n",
       "</g>\n",
       "</g>\n",
       "</g>\n",
       "</svg>"
      ],
      "text/plain": [
       "<IPython.core.display.SVG object>"
      ]
     },
     "metadata": {},
     "output_type": "display_data"
    },
    {
     "data": {
      "text/html": [
       "<table style=\"border-style: hidden; border-collapse: collapse;\" width=\"100%\"><tr><td style=\"border-top:hidden;border-bottom:hidden;\"><div align=\"center\" style=\"\"><svg xmlns=\"http://www.w3.org/2000/svg\" xmlns:xlink=\"http://www.w3.org/1999/xlink\" width=\"168pt\" height=\"300pt\" viewBox=\"0.00 0.00 168.00 299.60\">\n",
       "<g id=\"graph0\" class=\"graph\" transform=\"scale(1 1) rotate(0) translate(4 295.6)\">\n",
       "<title>G</title>\n",
       "<!-- Z0 -->\n",
       "<g id=\"node1\" class=\"node\">\n",
       "<title>Z0</title>\n",
       "<ellipse fill=\"#404040\" stroke=\"#4a4a4a\" cx=\"61\" cy=\"-289.8\" rx=\"1.8\" ry=\"1.8\"/>\n",
       "</g>\n",
       "<!-- Z1 -->\n",
       "<g id=\"node2\" class=\"node\">\n",
       "<title>Z1</title>\n",
       "<ellipse fill=\"#404040\" stroke=\"#4a4a4a\" cx=\"61\" cy=\"-234\" rx=\"27\" ry=\"18\"/>\n",
       "<text text-anchor=\"middle\" x=\"61\" y=\"-230.3\" font-family=\"Times,serif\" font-size=\"14.00\" fill=\"white\">Z1</text>\n",
       "</g>\n",
       "<!-- Z0&#45;&gt;Z1 -->\n",
       "<g id=\"edge7\" class=\"edge\">\n",
       "<title>Z0-&gt;Z1</title>\n",
       "<path fill=\"none\" stroke=\"#4a4a4a\" stroke-dasharray=\"5,2\" d=\"M61,-287.87C61,-284.64 61,-273.55 61,-262.35\"/>\n",
       "<polygon fill=\"#4a4a4a\" stroke=\"#4a4a4a\" points=\"64.5,-262.26 61,-252.26 57.5,-262.26 64.5,-262.26\"/>\n",
       "</g>\n",
       "<!-- Z3 -->\n",
       "<g id=\"node4\" class=\"node\">\n",
       "<title>Z3</title>\n",
       "<ellipse fill=\"#404040\" stroke=\"#4a4a4a\" cx=\"27\" cy=\"-90\" rx=\"27\" ry=\"18\"/>\n",
       "<text text-anchor=\"middle\" x=\"27\" y=\"-86.3\" font-family=\"Times,serif\" font-size=\"14.00\" fill=\"white\">Z3</text>\n",
       "</g>\n",
       "<!-- Z0&#45;&gt;Z3 -->\n",
       "<g id=\"edge9\" class=\"edge\">\n",
       "<title>Z0-&gt;Z3</title>\n",
       "<path fill=\"none\" stroke=\"#4a4a4a\" stroke-dasharray=\"5,2\" d=\"M59.81,-288.09C54.45,-284.81 32.56,-270.54 25,-252 6.9,-207.62 13.94,-150.48 20.57,-117.57\"/>\n",
       "<polygon fill=\"#4a4a4a\" stroke=\"#4a4a4a\" points=\"23.99,-118.29 22.67,-107.78 17.15,-116.82 23.99,-118.29\"/>\n",
       "</g>\n",
       "<!-- X -->\n",
       "<g id=\"node6\" class=\"node\">\n",
       "<title>X</title>\n",
       "<ellipse fill=\"#404040\" stroke=\"#4a4a4a\" cx=\"133\" cy=\"-234\" rx=\"27\" ry=\"18\"/>\n",
       "<text text-anchor=\"middle\" x=\"133\" y=\"-230.3\" font-family=\"Times,serif\" font-size=\"14.00\" fill=\"white\">X</text>\n",
       "</g>\n",
       "<!-- Z0&#45;&gt;X -->\n",
       "<g id=\"edge5\" class=\"edge\">\n",
       "<title>Z0-&gt;X</title>\n",
       "<path fill=\"none\" stroke=\"#4a4a4a\" stroke-dasharray=\"5,2\" d=\"M62.02,-288.04C67,-284.32 89.3,-267.65 107.59,-253.98\"/>\n",
       "<polygon fill=\"#4a4a4a\" stroke=\"#4a4a4a\" points=\"109.72,-256.76 115.64,-247.97 105.53,-251.15 109.72,-256.76\"/>\n",
       "</g>\n",
       "<!-- Z2 -->\n",
       "<g id=\"node3\" class=\"node\">\n",
       "<title>Z2</title>\n",
       "<ellipse fill=\"#404040\" stroke=\"#4a4a4a\" cx=\"69\" cy=\"-162\" rx=\"27\" ry=\"18\"/>\n",
       "<text text-anchor=\"middle\" x=\"69\" y=\"-158.3\" font-family=\"Times,serif\" font-size=\"14.00\" fill=\"white\">Z2</text>\n",
       "</g>\n",
       "<!-- Z1&#45;&gt;Z2 -->\n",
       "<g id=\"edge1\" class=\"edge\">\n",
       "<title>Z1-&gt;Z2</title>\n",
       "<path fill=\"none\" stroke=\"#4a4a4a\" d=\"M61.98,-215.58C62.87,-207.87 63.93,-198.6 64.91,-190\"/>\n",
       "<path fill=\"none\" stroke=\"#4a4a4a\" d=\"M63.97,-215.81C64.85,-208.1 65.91,-198.83 66.89,-190.23\"/>\n",
       "<polygon fill=\"#4a4a4a\" stroke=\"#4a4a4a\" points=\"69.39,-190.44 67.05,-180.1 62.43,-189.64 69.39,-190.44\"/>\n",
       "</g>\n",
       "<!-- Z2&#45;&gt;Z3 -->\n",
       "<g id=\"edge2\" class=\"edge\">\n",
       "<title>Z2-&gt;Z3</title>\n",
       "<path fill=\"none\" stroke=\"#4a4a4a\" d=\"M58.61,-145.63C53.48,-137.07 47.02,-126.31 41.22,-116.65\"/>\n",
       "<path fill=\"none\" stroke=\"#4a4a4a\" d=\"M60.33,-144.6C55.19,-136.04 48.74,-125.28 42.94,-115.62\"/>\n",
       "<polygon fill=\"#4a4a4a\" stroke=\"#4a4a4a\" points=\"44.93,-114.08 36.78,-107.31 38.93,-117.68 44.93,-114.08\"/>\n",
       "</g>\n",
       "<!-- Y -->\n",
       "<g id=\"node5\" class=\"node\">\n",
       "<title>Y</title>\n",
       "<ellipse fill=\"#404040\" stroke=\"#4a4a4a\" cx=\"82\" cy=\"-18\" rx=\"27\" ry=\"18\"/>\n",
       "<text text-anchor=\"middle\" x=\"82\" y=\"-14.3\" font-family=\"Times,serif\" font-size=\"14.00\" fill=\"white\">Y</text>\n",
       "</g>\n",
       "<!-- Z2&#45;&gt;Y -->\n",
       "<g id=\"edge8\" class=\"edge\">\n",
       "<title>Z2-&gt;Y</title>\n",
       "<path fill=\"none\" stroke=\"#4a4a4a\" d=\"M69.57,-143.78C71.79,-119.58 75.86,-75.12 78.5,-46.3\"/>\n",
       "<path fill=\"none\" stroke=\"#4a4a4a\" d=\"M71.56,-143.96C73.78,-119.76 77.85,-75.3 80.49,-46.48\"/>\n",
       "<polygon fill=\"#4a4a4a\" stroke=\"#4a4a4a\" points=\"83,-46.47 80.43,-36.19 76.03,-45.83 83,-46.47\"/>\n",
       "</g>\n",
       "<!-- Z3&#45;&gt;Y -->\n",
       "<g id=\"edge6\" class=\"edge\">\n",
       "<title>Z3-&gt;Y</title>\n",
       "<path fill=\"none\" stroke=\"#4a4a4a\" d=\"M38.15,-73.19C45.43,-63.93 54.88,-51.9 63.07,-41.48\"/>\n",
       "<path fill=\"none\" stroke=\"#4a4a4a\" d=\"M39.72,-74.43C47,-65.16 56.45,-53.14 64.64,-42.71\"/>\n",
       "<polygon fill=\"#4a4a4a\" stroke=\"#4a4a4a\" points=\"66.66,-44.18 70.09,-34.16 61.16,-39.86 66.66,-44.18\"/>\n",
       "</g>\n",
       "<!-- X&#45;&gt;Z2 -->\n",
       "<g id=\"edge3\" class=\"edge\">\n",
       "<title>X-&gt;Z2</title>\n",
       "<path fill=\"none\" stroke=\"#4a4a4a\" d=\"M118.69,-218.83C109.95,-209.27 98.43,-196.67 88.6,-185.92\"/>\n",
       "<path fill=\"none\" stroke=\"#4a4a4a\" d=\"M120.17,-217.48C111.43,-207.92 99.9,-195.32 90.08,-184.57\"/>\n",
       "<polygon fill=\"#4a4a4a\" stroke=\"#4a4a4a\" points=\"91.88,-182.84 82.55,-177.82 86.72,-187.57 91.88,-182.84\"/>\n",
       "</g>\n",
       "<!-- X&#45;&gt;Y -->\n",
       "<g id=\"edge4\" class=\"edge\">\n",
       "<title>X-&gt;Y</title>\n",
       "<path fill=\"none\" stroke=\"#4a4a4a\" d=\"M127.94,-216.08C119.08,-178.89 98.04,-90.61 87.41,-46\"/>\n",
       "<path fill=\"none\" stroke=\"#4a4a4a\" d=\"M129.89,-215.62C121.02,-178.43 99.98,-90.14 89.35,-45.54\"/>\n",
       "<polygon fill=\"#4a4a4a\" stroke=\"#4a4a4a\" points=\"91.76,-44.85 86.04,-35.94 84.95,-46.47 91.76,-44.85\"/>\n",
       "</g>\n",
       "</g>\n",
       "</svg></div></td><td style=\"border-top:hidden;border-bottom:hidden;\"><div align=\"center\" style=\"\">$$\\begin{equation}P( Y \\mid \\hookrightarrow\\mkern-6.5muX) = \\sum_{Z1,Z2,Z3}{P\\left(Y\\mid X,Z2,Z3\\right) \\cdot P\\left(Z2\\mid X,Z1\\right) \\cdot \\left(\\sum_{X'}{P\\left(Z3\\mid X',Z1,Z2\\right) \\cdot P\\left(Z1\\right) \\cdot P\\left(X'\\mid Z1\\right)}\\right)}\\end{equation}$$</div></td><td style=\"border-top:hidden;border-bottom:hidden;\"><div align=\"center\" style=\"\"><table style=\"border:1px solid black;\">\n",
       "<tr><th colspan='1'></th><th colspan='2' style='border:1px solid black;color:black;background-color:#808080;'><center>Y</center></th></tr>\n",
       "<tr><th style='border:1px solid black;color:black;background-color:#808080'><center>X</center></th><th style='border:1px solid black;border-bottom-style: double;color:black;background-color:#BBBBBB'><center>0</center></th><th style='border:1px solid black;border-bottom-style: double;color:black;background-color:#BBBBBB'><center>1</center></th></tr>\n",
       "<tr><th style='border:1px solid black;color:black;background-color:#BBBBBB'><center>0</center></th><td style='color:black;background-color:#a9d464;text-align:right;'>0.6714</td><td style='color:black;background-color:#d4a964;text-align:right;'>0.3286</td></tr>\n",
       "<tr><th style='border:1px solid black;color:black;background-color:#BBBBBB'><center>1</center></th><td style='color:black;background-color:#d5a864;text-align:right;'>0.3266</td><td style='color:black;background-color:#a8d564;text-align:right;'>0.6734</td></tr>\n",
       "</table></div></td></tr><tr><td style=\"border-top:hidden;border-bottom:hidden;\"><div align=\"center\"><small>Causal Model</small></div></td><td style=\"border-top:hidden;border-bottom:hidden;\"><div align=\"center\"><small>Explanation : Do-calculus computations</small></div></td><td style=\"border-top:hidden;border-bottom:hidden;\"><div align=\"center\"><small>Impact : $P( Y \\mid \\hookrightarrow\\mkern-6.5muX)$</small></div></td></tr></table>"
      ],
      "text/plain": [
       "<IPython.core.display.HTML object>"
      ]
     },
     "metadata": {},
     "output_type": "display_data"
    }
   ],
   "source": [
    "bn = gum.fastBN(\"Z1->Z2->Z3->Y<-X->Z2;Z2->Y;Z1->X->Z3<-Z1\")\n",
    "gnb.showBN(bn)\n",
    "c = csl.CausalModel(bn, [(\"Z0\", (\"X\", \"Z1\", \"Z3\"))], False)\n",
    "\n",
    "formula, impact, explanation = csl.causalImpact(c, \"Y\", \"X\")\n",
    "cslnb.showCausalImpact(c,\"Y\",\"X\")"
   ]
  },
  {
   "cell_type": "code",
   "execution_count": null,
   "metadata": {},
   "outputs": [],
   "source": []
  }
 ],
 "metadata": {
  "anaconda-cloud": {},
  "hide_input": false,
  "kernelspec": {
   "display_name": "Python 3",
   "language": "python",
   "name": "python3"
  },
  "language_info": {
   "codemirror_mode": {
    "name": "ipython",
    "version": 3
   },
   "file_extension": ".py",
   "mimetype": "text/x-python",
   "name": "python",
   "nbconvert_exporter": "python",
   "pygments_lexer": "ipython3",
   "version": "3.8.1"
  },
  "toc": {
   "colors": {
    "hover_highlight": "#DAA520",
    "running_highlight": "#FF0000",
    "selected_highlight": "#FFD700"
   },
   "moveMenuLeft": true,
   "nav_menu": {
    "height": "193px",
    "width": "252px"
   },
   "navigate_menu": true,
   "number_sections": true,
   "sideBar": true,
   "threshold": 4,
   "toc_cell": false,
   "toc_section_display": "block",
   "toc_window_display": true,
   "widenNotebook": false
  }
 },
 "nbformat": 4,
 "nbformat_minor": 4
}
