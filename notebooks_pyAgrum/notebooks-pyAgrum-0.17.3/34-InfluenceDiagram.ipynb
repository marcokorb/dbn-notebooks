{
 "cells": [
  {
   "cell_type": "markdown",
   "metadata": {},
   "source": [
    "<a href=\"http://agrum.org\" target=\"blank\"><img src=\"http://agrum.gitlab.io/theme/img/logoAgrum.png\" align=\"left\" style=\"height:100px\"/></a><a rel=\"license\" href=\"http://creativecommons.org/licenses/by-nc/4.0/\"><img alt=\"Creative Commons License\" style=\"border-width:0\" src=\"https://i.creativecommons.org/l/by-nc/4.0/88x31.png\" /></a><br />This pyAgrum's notebook is licensed under a <a rel=\"license\" href=\"http://creativecommons.org/licenses/by-nc/4.0/\">Creative Commons Attribution-NonCommercial 4.0 International License</a>."
   ]
  },
  {
   "cell_type": "code",
   "execution_count": 1,
   "metadata": {
    "ExecuteTime": {
     "end_time": "2019-02-25T17:33:50.568756Z",
     "start_time": "2019-02-25T17:33:50.344887Z"
    }
   },
   "outputs": [],
   "source": [
    "%load_ext autoreload\n",
    "%autoreload 2\n",
    "\n",
    "import os\n",
    "\n",
    "%matplotlib inline\n",
    "from pylab import *\n",
    "import matplotlib.pyplot as plt"
   ]
  },
  {
   "cell_type": "code",
   "execution_count": 2,
   "metadata": {
    "ExecuteTime": {
     "end_time": "2019-02-25T17:33:50.578808Z",
     "start_time": "2019-02-25T17:33:50.571592Z"
    }
   },
   "outputs": [],
   "source": [
    "import pyAgrum as gum\n",
    "import pyAgrum.lib.notebook as gnb\n"
   ]
  },
  {
   "cell_type": "code",
   "execution_count": 3,
   "metadata": {
    "ExecuteTime": {
     "end_time": "2019-02-25T17:33:52.797218Z",
     "start_time": "2019-02-25T17:33:50.581194Z"
    }
   },
   "outputs": [
    {
     "data": {
      "image/svg+xml": [
       "<svg xmlns=\"http://www.w3.org/2000/svg\" xmlns:xlink=\"http://www.w3.org/1999/xlink\" width=\"360pt\" height=\"328pt\" viewBox=\"0.00 0.00 360.00 327.92\">\n",
       "<g id=\"graph0\" class=\"graph\" transform=\"scale(0.69 0.69) rotate(0) translate(4 472)\">\n",
       "<title>G</title>\n",
       "<!-- chanceVar1 -->\n",
       "<g id=\"node1\" class=\"node\">\n",
       "<title>chanceVar1</title>\n",
       "<ellipse fill=\"#504a50\" stroke=\"#4a4a4a\" cx=\"328\" cy=\"-378\" rx=\"64.19\" ry=\"18\"/>\n",
       "<text text-anchor=\"middle\" x=\"328\" y=\"-374.3\" font-family=\"Times,serif\" font-size=\"14.00\" fill=\"white\">chanceVar1</text>\n",
       "</g>\n",
       "<!-- chanceVar2 -->\n",
       "<g id=\"node2\" class=\"node\">\n",
       "<title>chanceVar2</title>\n",
       "<ellipse fill=\"#504a50\" stroke=\"#4a4a4a\" cx=\"282\" cy=\"-306\" rx=\"64.19\" ry=\"18\"/>\n",
       "<text text-anchor=\"middle\" x=\"282\" y=\"-302.3\" font-family=\"Times,serif\" font-size=\"14.00\" fill=\"white\">chanceVar2</text>\n",
       "</g>\n",
       "<!-- chanceVar1&#45;&gt;chanceVar2 -->\n",
       "<g id=\"edge7\" class=\"edge\">\n",
       "<title>chanceVar1-&gt;chanceVar2</title>\n",
       "<path fill=\"none\" stroke=\"#4a4a4a\" d=\"M316.86,-360.05C311.38,-351.71 304.67,-341.49 298.59,-332.25\"/>\n",
       "<polygon fill=\"#4a4a4a\" stroke=\"#4a4a4a\" points=\"301.45,-330.22 293.03,-323.79 295.6,-334.07 301.45,-330.22\"/>\n",
       "</g>\n",
       "<!-- utilityVar1 -->\n",
       "<g id=\"node10\" class=\"node\">\n",
       "<title>utilityVar1</title>\n",
       "<polygon fill=\"#4a5050\" stroke=\"#4a4a4a\" points=\"430,-180 345.38,-162 430,-144 514.62,-162 430,-180\"/>\n",
       "<text text-anchor=\"middle\" x=\"430\" y=\"-158.3\" font-family=\"Times,serif\" font-size=\"14.00\" fill=\"white\">utilityVar1</text>\n",
       "</g>\n",
       "<!-- chanceVar1&#45;&gt;utilityVar1 -->\n",
       "<g id=\"edge6\" class=\"edge\">\n",
       "<title>chanceVar1-&gt;utilityVar1</title>\n",
       "<path fill=\"none\" stroke=\"#4a4a4a\" d=\"M336.91,-359.89C342.25,-349.55 349.12,-336.07 355,-324 378.29,-276.23 404.21,-219.81 418.67,-188.04\"/>\n",
       "<polygon fill=\"#4a4a4a\" stroke=\"#4a4a4a\" points=\"421.99,-189.18 422.94,-178.63 415.62,-186.29 421.99,-189.18\"/>\n",
       "</g>\n",
       "<!-- decisionVar2 -->\n",
       "<g id=\"node7\" class=\"node\">\n",
       "<title>decisionVar2</title>\n",
       "<polygon fill=\"#50504a\" stroke=\"#4a4a4a\" points=\"336,-252 228,-252 228,-216 336,-216 336,-252\"/>\n",
       "<text text-anchor=\"middle\" x=\"282\" y=\"-230.3\" font-family=\"Times,serif\" font-size=\"14.00\" fill=\"white\">decisionVar2</text>\n",
       "</g>\n",
       "<!-- chanceVar2&#45;&gt;decisionVar2 -->\n",
       "<g id=\"edge8\" class=\"edge\">\n",
       "<title>chanceVar2-&gt;decisionVar2</title>\n",
       "<path fill=\"none\" stroke=\"#4a4a4a\" d=\"M282,-287.7C282,-279.98 282,-270.71 282,-262.11\"/>\n",
       "<polygon fill=\"#4a4a4a\" stroke=\"#4a4a4a\" points=\"285.5,-262.1 282,-252.1 278.5,-262.1 285.5,-262.1\"/>\n",
       "</g>\n",
       "<!-- decisionVar3 -->\n",
       "<g id=\"node8\" class=\"node\">\n",
       "<title>decisionVar3</title>\n",
       "<polygon fill=\"#50504a\" stroke=\"#4a4a4a\" points=\"200,-252 92,-252 92,-216 200,-216 200,-252\"/>\n",
       "<text text-anchor=\"middle\" x=\"146\" y=\"-230.3\" font-family=\"Times,serif\" font-size=\"14.00\" fill=\"white\">decisionVar3</text>\n",
       "</g>\n",
       "<!-- chanceVar2&#45;&gt;decisionVar3 -->\n",
       "<g id=\"edge9\" class=\"edge\">\n",
       "<title>chanceVar2-&gt;decisionVar3</title>\n",
       "<path fill=\"none\" stroke=\"#4a4a4a\" d=\"M252.49,-289.81C233.71,-280.14 209.08,-267.47 188.25,-256.74\"/>\n",
       "<polygon fill=\"#4a4a4a\" stroke=\"#4a4a4a\" points=\"189.77,-253.59 179.27,-252.13 186.56,-259.82 189.77,-253.59\"/>\n",
       "</g>\n",
       "<!-- chanceVar3 -->\n",
       "<g id=\"node3\" class=\"node\">\n",
       "<title>chanceVar3</title>\n",
       "<ellipse fill=\"#504a50\" stroke=\"#4a4a4a\" cx=\"116\" cy=\"-162\" rx=\"64.19\" ry=\"18\"/>\n",
       "<text text-anchor=\"middle\" x=\"116\" y=\"-158.3\" font-family=\"Times,serif\" font-size=\"14.00\" fill=\"white\">chanceVar3</text>\n",
       "</g>\n",
       "<!-- chanceVar5 -->\n",
       "<g id=\"node5\" class=\"node\">\n",
       "<title>chanceVar5</title>\n",
       "<ellipse fill=\"#504a50\" stroke=\"#4a4a4a\" cx=\"190\" cy=\"-90\" rx=\"64.19\" ry=\"18\"/>\n",
       "<text text-anchor=\"middle\" x=\"190\" y=\"-86.3\" font-family=\"Times,serif\" font-size=\"14.00\" fill=\"white\">chanceVar5</text>\n",
       "</g>\n",
       "<!-- chanceVar3&#45;&gt;chanceVar5 -->\n",
       "<g id=\"edge10\" class=\"edge\">\n",
       "<title>chanceVar3-&gt;chanceVar5</title>\n",
       "<path fill=\"none\" stroke=\"#4a4a4a\" d=\"M133.54,-144.41C143.03,-135.43 154.91,-124.19 165.32,-114.34\"/>\n",
       "<polygon fill=\"#4a4a4a\" stroke=\"#4a4a4a\" points=\"167.73,-116.88 172.59,-107.47 162.92,-111.8 167.73,-116.88\"/>\n",
       "</g>\n",
       "<!-- chanceVar4 -->\n",
       "<g id=\"node4\" class=\"node\">\n",
       "<title>chanceVar4</title>\n",
       "<ellipse fill=\"#504a50\" stroke=\"#4a4a4a\" cx=\"263\" cy=\"-162\" rx=\"64.19\" ry=\"18\"/>\n",
       "<text text-anchor=\"middle\" x=\"263\" y=\"-158.3\" font-family=\"Times,serif\" font-size=\"14.00\" fill=\"white\">chanceVar4</text>\n",
       "</g>\n",
       "<!-- chanceVar4&#45;&gt;chanceVar5 -->\n",
       "<g id=\"edge11\" class=\"edge\">\n",
       "<title>chanceVar4-&gt;chanceVar5</title>\n",
       "<path fill=\"none\" stroke=\"#4a4a4a\" d=\"M245.7,-144.41C236.43,-135.52 224.84,-124.41 214.64,-114.63\"/>\n",
       "<polygon fill=\"#4a4a4a\" stroke=\"#4a4a4a\" points=\"216.82,-111.86 207.18,-107.47 211.97,-116.92 216.82,-111.86\"/>\n",
       "</g>\n",
       "<!-- utilityVar2 -->\n",
       "<g id=\"node11\" class=\"node\">\n",
       "<title>utilityVar2</title>\n",
       "<polygon fill=\"#4a5050\" stroke=\"#4a4a4a\" points=\"122,-36 37.38,-18 122,0 206.62,-18 122,-36\"/>\n",
       "<text text-anchor=\"middle\" x=\"122\" y=\"-14.3\" font-family=\"Times,serif\" font-size=\"14.00\" fill=\"white\">utilityVar2</text>\n",
       "</g>\n",
       "<!-- chanceVar5&#45;&gt;utilityVar2 -->\n",
       "<g id=\"edge12\" class=\"edge\">\n",
       "<title>chanceVar5-&gt;utilityVar2</title>\n",
       "<path fill=\"none\" stroke=\"#4a4a4a\" d=\"M173.88,-72.41C164.62,-62.87 152.88,-50.79 142.91,-40.53\"/>\n",
       "<polygon fill=\"#4a4a4a\" stroke=\"#4a4a4a\" points=\"145.18,-37.84 135.7,-33.11 140.16,-42.72 145.18,-37.84\"/>\n",
       "</g>\n",
       "<!-- decisionVar1 -->\n",
       "<g id=\"node6\" class=\"node\">\n",
       "<title>decisionVar1</title>\n",
       "<polygon fill=\"#50504a\" stroke=\"#4a4a4a\" points=\"382,-468 274,-468 274,-432 382,-432 382,-468\"/>\n",
       "<text text-anchor=\"middle\" x=\"328\" y=\"-446.3\" font-family=\"Times,serif\" font-size=\"14.00\" fill=\"white\">decisionVar1</text>\n",
       "</g>\n",
       "<!-- decisionVar1&#45;&gt;chanceVar1 -->\n",
       "<g id=\"edge1\" class=\"edge\">\n",
       "<title>decisionVar1-&gt;chanceVar1</title>\n",
       "<path fill=\"none\" stroke=\"#4a4a4a\" d=\"M328,-431.7C328,-423.98 328,-414.71 328,-406.11\"/>\n",
       "<polygon fill=\"#4a4a4a\" stroke=\"#4a4a4a\" points=\"331.5,-406.1 328,-396.1 324.5,-406.1 331.5,-406.1\"/>\n",
       "</g>\n",
       "<!-- decisionVar2&#45;&gt;chanceVar4 -->\n",
       "<g id=\"edge3\" class=\"edge\">\n",
       "<title>decisionVar2-&gt;chanceVar4</title>\n",
       "<path fill=\"none\" stroke=\"#4a4a4a\" d=\"M277.3,-215.7C275.19,-207.9 272.64,-198.51 270.28,-189.83\"/>\n",
       "<polygon fill=\"#4a4a4a\" stroke=\"#4a4a4a\" points=\"273.64,-188.84 267.64,-180.1 266.88,-190.67 273.64,-188.84\"/>\n",
       "</g>\n",
       "<!-- decisionVar2&#45;&gt;utilityVar1 -->\n",
       "<g id=\"edge2\" class=\"edge\">\n",
       "<title>decisionVar2-&gt;utilityVar1</title>\n",
       "<path fill=\"none\" stroke=\"#4a4a4a\" d=\"M318.2,-215.88C341.82,-204.71 372.46,-190.21 395.69,-179.23\"/>\n",
       "<polygon fill=\"#4a4a4a\" stroke=\"#4a4a4a\" points=\"397.29,-182.34 404.83,-174.9 394.29,-176.02 397.29,-182.34\"/>\n",
       "</g>\n",
       "<!-- decisionVar3&#45;&gt;chanceVar3 -->\n",
       "<g id=\"edge4\" class=\"edge\">\n",
       "<title>decisionVar3-&gt;chanceVar3</title>\n",
       "<path fill=\"none\" stroke=\"#4a4a4a\" d=\"M138.58,-215.7C135.21,-207.81 131.13,-198.3 127.38,-189.55\"/>\n",
       "<polygon fill=\"#4a4a4a\" stroke=\"#4a4a4a\" points=\"130.49,-187.92 123.33,-180.1 124.05,-190.67 130.49,-187.92\"/>\n",
       "</g>\n",
       "<!-- decisionVar4 -->\n",
       "<g id=\"node9\" class=\"node\">\n",
       "<title>decisionVar4</title>\n",
       "<polygon fill=\"#50504a\" stroke=\"#4a4a4a\" points=\"108,-108 0,-108 0,-72 108,-72 108,-108\"/>\n",
       "<text text-anchor=\"middle\" x=\"54\" y=\"-86.3\" font-family=\"Times,serif\" font-size=\"14.00\" fill=\"white\">decisionVar4</text>\n",
       "</g>\n",
       "<!-- decisionVar4&#45;&gt;utilityVar2 -->\n",
       "<g id=\"edge5\" class=\"edge\">\n",
       "<title>decisionVar4-&gt;utilityVar2</title>\n",
       "<path fill=\"none\" stroke=\"#4a4a4a\" d=\"M70.81,-71.7C79.96,-62.28 91.37,-50.53 101.09,-40.53\"/>\n",
       "<polygon fill=\"#4a4a4a\" stroke=\"#4a4a4a\" points=\"103.67,-42.89 108.13,-33.28 98.65,-38.01 103.67,-42.89\"/>\n",
       "</g>\n",
       "</g>\n",
       "</svg>"
      ],
      "text/plain": [
       "<IPython.core.display.SVG object>"
      ]
     },
     "metadata": {},
     "output_type": "display_data"
    }
   ],
   "source": [
    "diag=gum.loadID(os.path.join(\"res\",\"diag.bifxml\"))\n",
    "gnb.showInfluenceDiagram(diag)"
   ]
  },
  {
   "cell_type": "code",
   "execution_count": 4,
   "metadata": {
    "ExecuteTime": {
     "end_time": "2019-02-25T17:33:54.946587Z",
     "start_time": "2019-02-25T17:33:52.799259Z"
    }
   },
   "outputs": [
    {
     "data": {
      "image/svg+xml": [
       "<svg xmlns=\"http://www.w3.org/2000/svg\" xmlns:xlink=\"http://www.w3.org/1999/xlink\" width=\"360pt\" height=\"316pt\" viewBox=\"0.00 0.00 360.00 315.83\">\n",
       "<g id=\"graph0\" class=\"graph\" transform=\"scale(0.66 0.66) rotate(0) translate(4 472)\">\n",
       "<title>G</title>\n",
       "<!-- chanceVar1 -->\n",
       "<g id=\"node1\" class=\"node\">\n",
       "<title>chanceVar1</title>\n",
       "<ellipse fill=\"#504a50\" stroke=\"#4a4a4a\" cx=\"284.56\" cy=\"-378\" rx=\"64.19\" ry=\"18\"/>\n",
       "<text text-anchor=\"middle\" x=\"284.56\" y=\"-374.3\" font-family=\"Times,serif\" font-size=\"14.00\" fill=\"white\">chanceVar1</text>\n",
       "</g>\n",
       "<!-- chanceVar2 -->\n",
       "<g id=\"node2\" class=\"node\">\n",
       "<title>chanceVar2</title>\n",
       "<ellipse fill=\"#504a50\" stroke=\"#4a4a4a\" cx=\"284.56\" cy=\"-306\" rx=\"64.19\" ry=\"18\"/>\n",
       "<text text-anchor=\"middle\" x=\"284.56\" y=\"-302.3\" font-family=\"Times,serif\" font-size=\"14.00\" fill=\"white\">chanceVar2</text>\n",
       "</g>\n",
       "<!-- chanceVar1&#45;&gt;chanceVar2 -->\n",
       "<g id=\"edge9\" class=\"edge\">\n",
       "<title>chanceVar1-&gt;chanceVar2</title>\n",
       "<path fill=\"none\" stroke=\"#4a4a4a\" d=\"M284.56,-359.7C284.56,-351.98 284.56,-342.71 284.56,-334.11\"/>\n",
       "<polygon fill=\"#4a4a4a\" stroke=\"#4a4a4a\" points=\"288.06,-334.1 284.56,-324.1 281.06,-334.1 288.06,-334.1\"/>\n",
       "</g>\n",
       "<!-- utilityVar1 -->\n",
       "<g id=\"node11\" class=\"node\">\n",
       "<title>utilityVar1</title>\n",
       "<polygon fill=\"#4a5050\" stroke=\"#4a4a4a\" points=\"84.56,-180 -0.06,-162 84.56,-144 169.19,-162 84.56,-180\"/>\n",
       "<text text-anchor=\"middle\" x=\"84.56\" y=\"-158.3\" font-family=\"Times,serif\" font-size=\"14.00\" fill=\"white\">utilityVar1</text>\n",
       "</g>\n",
       "<!-- chanceVar1&#45;&gt;utilityVar1 -->\n",
       "<g id=\"edge8\" class=\"edge\">\n",
       "<title>chanceVar1-&gt;utilityVar1</title>\n",
       "<path fill=\"none\" stroke=\"#4a4a4a\" d=\"M259.59,-361.37C244.84,-351.55 226.24,-338.11 211.56,-324 166.04,-280.26 122.65,-219.87 100.28,-186.88\"/>\n",
       "<polygon fill=\"#4a4a4a\" stroke=\"#4a4a4a\" points=\"103.02,-184.69 94.54,-178.34 97.21,-188.59 103.02,-184.69\"/>\n",
       "</g>\n",
       "<!-- decisionVar2 -->\n",
       "<g id=\"node8\" class=\"node\">\n",
       "<title>decisionVar2</title>\n",
       "<polygon fill=\"#50504a\" stroke=\"#4a4a4a\" points=\"305.56,-252 197.56,-252 197.56,-216 305.56,-216 305.56,-252\"/>\n",
       "<text text-anchor=\"middle\" x=\"251.56\" y=\"-230.3\" font-family=\"Times,serif\" font-size=\"14.00\" fill=\"white\">decisionVar2</text>\n",
       "</g>\n",
       "<!-- chanceVar2&#45;&gt;decisionVar2 -->\n",
       "<g id=\"edge10\" class=\"edge\">\n",
       "<title>chanceVar2-&gt;decisionVar2</title>\n",
       "<path fill=\"none\" stroke=\"#4a4a4a\" d=\"M276.57,-288.05C272.82,-280.09 268.26,-270.41 264.06,-261.51\"/>\n",
       "<polygon fill=\"#4a4a4a\" stroke=\"#4a4a4a\" points=\"267.14,-259.83 259.71,-252.28 260.8,-262.81 267.14,-259.83\"/>\n",
       "</g>\n",
       "<!-- decisionVar3 -->\n",
       "<g id=\"node9\" class=\"node\">\n",
       "<title>decisionVar3</title>\n",
       "<polygon fill=\"#50504a\" stroke=\"#4a4a4a\" points=\"452.56,-252 344.56,-252 344.56,-216 452.56,-216 452.56,-252\"/>\n",
       "<text text-anchor=\"middle\" x=\"398.56\" y=\"-230.3\" font-family=\"Times,serif\" font-size=\"14.00\" fill=\"white\">decisionVar3</text>\n",
       "</g>\n",
       "<!-- chanceVar2&#45;&gt;decisionVar3 -->\n",
       "<g id=\"edge11\" class=\"edge\">\n",
       "<title>chanceVar2-&gt;decisionVar3</title>\n",
       "<path fill=\"none\" stroke=\"#4a4a4a\" d=\"M310.15,-289.29C325.46,-279.89 345.18,-267.78 362.11,-257.38\"/>\n",
       "<polygon fill=\"#4a4a4a\" stroke=\"#4a4a4a\" points=\"363.98,-260.34 370.67,-252.13 360.32,-254.38 363.98,-260.34\"/>\n",
       "</g>\n",
       "<!-- chanceVar3 -->\n",
       "<g id=\"node3\" class=\"node\">\n",
       "<title>chanceVar3</title>\n",
       "<ellipse fill=\"#504a50\" stroke=\"#4a4a4a\" cx=\"398.56\" cy=\"-162\" rx=\"64.19\" ry=\"18\"/>\n",
       "<text text-anchor=\"middle\" x=\"398.56\" y=\"-158.3\" font-family=\"Times,serif\" font-size=\"14.00\" fill=\"white\">chanceVar3</text>\n",
       "</g>\n",
       "<!-- chanceVar5 -->\n",
       "<g id=\"node5\" class=\"node\">\n",
       "<title>chanceVar5</title>\n",
       "<ellipse fill=\"#504a50\" stroke=\"#4a4a4a\" cx=\"324.56\" cy=\"-90\" rx=\"64.19\" ry=\"18\"/>\n",
       "<text text-anchor=\"middle\" x=\"324.56\" y=\"-86.3\" font-family=\"Times,serif\" font-size=\"14.00\" fill=\"white\">chanceVar5</text>\n",
       "</g>\n",
       "<!-- chanceVar3&#45;&gt;chanceVar5 -->\n",
       "<g id=\"edge12\" class=\"edge\">\n",
       "<title>chanceVar3-&gt;chanceVar5</title>\n",
       "<path fill=\"none\" stroke=\"#4a4a4a\" d=\"M381.03,-144.41C371.53,-135.43 359.65,-124.19 349.24,-114.34\"/>\n",
       "<polygon fill=\"#4a4a4a\" stroke=\"#4a4a4a\" points=\"351.64,-111.8 341.97,-107.47 346.83,-116.88 351.64,-111.8\"/>\n",
       "</g>\n",
       "<!-- chanceVar4 -->\n",
       "<g id=\"node4\" class=\"node\">\n",
       "<title>chanceVar4</title>\n",
       "<ellipse fill=\"#504a50\" stroke=\"#4a4a4a\" cx=\"251.56\" cy=\"-162\" rx=\"64.19\" ry=\"18\"/>\n",
       "<text text-anchor=\"middle\" x=\"251.56\" y=\"-158.3\" font-family=\"Times,serif\" font-size=\"14.00\" fill=\"white\">chanceVar4</text>\n",
       "</g>\n",
       "<!-- chanceVar4&#45;&gt;chanceVar5 -->\n",
       "<g id=\"edge13\" class=\"edge\">\n",
       "<title>chanceVar4-&gt;chanceVar5</title>\n",
       "<path fill=\"none\" stroke=\"#4a4a4a\" d=\"M268.86,-144.41C278.14,-135.52 289.72,-124.41 299.92,-114.63\"/>\n",
       "<polygon fill=\"#4a4a4a\" stroke=\"#4a4a4a\" points=\"302.59,-116.92 307.39,-107.47 297.75,-111.86 302.59,-116.92\"/>\n",
       "</g>\n",
       "<!-- utilityVar2 -->\n",
       "<g id=\"node12\" class=\"node\">\n",
       "<title>utilityVar2</title>\n",
       "<polygon fill=\"#4a5050\" stroke=\"#4a4a4a\" points=\"256.56,-36 171.94,-18 256.56,0 341.19,-18 256.56,-36\"/>\n",
       "<text text-anchor=\"middle\" x=\"256.56\" y=\"-14.3\" font-family=\"Times,serif\" font-size=\"14.00\" fill=\"white\">utilityVar2</text>\n",
       "</g>\n",
       "<!-- chanceVar5&#45;&gt;utilityVar2 -->\n",
       "<g id=\"edge14\" class=\"edge\">\n",
       "<title>chanceVar5-&gt;utilityVar2</title>\n",
       "<path fill=\"none\" stroke=\"#4a4a4a\" d=\"M308.45,-72.41C299.18,-62.87 287.44,-50.79 277.47,-40.53\"/>\n",
       "<polygon fill=\"#4a4a4a\" stroke=\"#4a4a4a\" points=\"279.75,-37.84 270.27,-33.11 274.72,-42.72 279.75,-37.84\"/>\n",
       "</g>\n",
       "<!-- F -->\n",
       "<g id=\"node6\" class=\"node\">\n",
       "<title>F</title>\n",
       "<ellipse fill=\"#504a50\" stroke=\"#4a4a4a\" cx=\"420.56\" cy=\"-306\" rx=\"27\" ry=\"18\"/>\n",
       "<text text-anchor=\"middle\" x=\"420.56\" y=\"-302.3\" font-family=\"Times,serif\" font-size=\"14.00\" fill=\"white\">F</text>\n",
       "</g>\n",
       "<!-- U -->\n",
       "<g id=\"node13\" class=\"node\">\n",
       "<title>U</title>\n",
       "<polygon fill=\"#4a5050\" stroke=\"#4a4a4a\" points=\"507.56,-180 480.56,-162 507.56,-144 534.56,-162 507.56,-180\"/>\n",
       "<text text-anchor=\"middle\" x=\"507.56\" y=\"-158.3\" font-family=\"Times,serif\" font-size=\"14.00\" fill=\"white\">U</text>\n",
       "</g>\n",
       "<!-- F&#45;&gt;U -->\n",
       "<g id=\"edge15\" class=\"edge\">\n",
       "<title>F-&gt;U</title>\n",
       "<path fill=\"none\" stroke=\"#4a4a4a\" d=\"M433.54,-289.77C442.02,-279.46 453.06,-265.34 461.56,-252 475.37,-230.35 488.55,-204.06 497.24,-185.7\"/>\n",
       "<polygon fill=\"#4a4a4a\" stroke=\"#4a4a4a\" points=\"500.53,-186.93 501.58,-176.38 494.18,-183.97 500.53,-186.93\"/>\n",
       "</g>\n",
       "<!-- decisionVar1 -->\n",
       "<g id=\"node7\" class=\"node\">\n",
       "<title>decisionVar1</title>\n",
       "<polygon fill=\"#50504a\" stroke=\"#4a4a4a\" points=\"384.56,-468 276.56,-468 276.56,-432 384.56,-432 384.56,-468\"/>\n",
       "<text text-anchor=\"middle\" x=\"330.56\" y=\"-446.3\" font-family=\"Times,serif\" font-size=\"14.00\" fill=\"white\">decisionVar1</text>\n",
       "</g>\n",
       "<!-- decisionVar1&#45;&gt;chanceVar1 -->\n",
       "<g id=\"edge2\" class=\"edge\">\n",
       "<title>decisionVar1-&gt;chanceVar1</title>\n",
       "<path fill=\"none\" stroke=\"#4a4a4a\" d=\"M319.19,-431.7C313.84,-423.56 307.36,-413.69 301.45,-404.7\"/>\n",
       "<polygon fill=\"#4a4a4a\" stroke=\"#4a4a4a\" points=\"304.22,-402.54 295.8,-396.1 298.37,-406.38 304.22,-402.54\"/>\n",
       "</g>\n",
       "<!-- decisionVar1&#45;&gt;F -->\n",
       "<g id=\"edge1\" class=\"edge\">\n",
       "<title>decisionVar1-&gt;F</title>\n",
       "<path fill=\"none\" stroke=\"#4a4a4a\" d=\"M341.42,-431.87C357.28,-406.84 386.87,-360.15 405.03,-331.5\"/>\n",
       "<polygon fill=\"#4a4a4a\" stroke=\"#4a4a4a\" points=\"408.1,-333.2 410.5,-322.88 402.19,-329.45 408.1,-333.2\"/>\n",
       "</g>\n",
       "<!-- decisionVar2&#45;&gt;chanceVar4 -->\n",
       "<g id=\"edge4\" class=\"edge\">\n",
       "<title>decisionVar2-&gt;chanceVar4</title>\n",
       "<path fill=\"none\" stroke=\"#4a4a4a\" d=\"M251.56,-215.7C251.56,-207.98 251.56,-198.71 251.56,-190.11\"/>\n",
       "<polygon fill=\"#4a4a4a\" stroke=\"#4a4a4a\" points=\"255.06,-190.1 251.56,-180.1 248.06,-190.1 255.06,-190.1\"/>\n",
       "</g>\n",
       "<!-- decisionVar2&#45;&gt;utilityVar1 -->\n",
       "<g id=\"edge3\" class=\"edge\">\n",
       "<title>decisionVar2-&gt;utilityVar1</title>\n",
       "<path fill=\"none\" stroke=\"#4a4a4a\" d=\"M210.71,-215.88C183.28,-204.38 147.45,-189.36 120.98,-178.27\"/>\n",
       "<polygon fill=\"#4a4a4a\" stroke=\"#4a4a4a\" points=\"122.27,-175.01 111.69,-174.37 119.56,-181.47 122.27,-175.01\"/>\n",
       "</g>\n",
       "<!-- decisionVar3&#45;&gt;chanceVar3 -->\n",
       "<g id=\"edge5\" class=\"edge\">\n",
       "<title>decisionVar3-&gt;chanceVar3</title>\n",
       "<path fill=\"none\" stroke=\"#4a4a4a\" d=\"M398.56,-215.7C398.56,-207.98 398.56,-198.71 398.56,-190.11\"/>\n",
       "<polygon fill=\"#4a4a4a\" stroke=\"#4a4a4a\" points=\"402.06,-190.1 398.56,-180.1 395.06,-190.1 402.06,-190.1\"/>\n",
       "</g>\n",
       "<!-- decisionVar3&#45;&gt;U -->\n",
       "<g id=\"edge6\" class=\"edge\">\n",
       "<title>decisionVar3-&gt;U</title>\n",
       "<path fill=\"none\" stroke=\"#4a4a4a\" d=\"M425.23,-215.88C443.73,-203.99 468.09,-188.35 485.5,-177.17\"/>\n",
       "<polygon fill=\"#4a4a4a\" stroke=\"#4a4a4a\" points=\"487.86,-179.81 494.38,-171.46 484.08,-173.92 487.86,-179.81\"/>\n",
       "</g>\n",
       "<!-- decisionVar4 -->\n",
       "<g id=\"node10\" class=\"node\">\n",
       "<title>decisionVar4</title>\n",
       "<polygon fill=\"#50504a\" stroke=\"#4a4a4a\" points=\"242.56,-108 134.56,-108 134.56,-72 242.56,-72 242.56,-108\"/>\n",
       "<text text-anchor=\"middle\" x=\"188.56\" y=\"-86.3\" font-family=\"Times,serif\" font-size=\"14.00\" fill=\"white\">decisionVar4</text>\n",
       "</g>\n",
       "<!-- decisionVar4&#45;&gt;utilityVar2 -->\n",
       "<g id=\"edge7\" class=\"edge\">\n",
       "<title>decisionVar4-&gt;utilityVar2</title>\n",
       "<path fill=\"none\" stroke=\"#4a4a4a\" d=\"M205.37,-71.7C214.52,-62.28 225.93,-50.53 235.65,-40.53\"/>\n",
       "<polygon fill=\"#4a4a4a\" stroke=\"#4a4a4a\" points=\"238.23,-42.89 242.69,-33.28 233.21,-38.01 238.23,-42.89\"/>\n",
       "</g>\n",
       "</g>\n",
       "</svg>"
      ],
      "text/plain": [
       "<IPython.core.display.SVG object>"
      ]
     },
     "metadata": {},
     "output_type": "display_data"
    }
   ],
   "source": [
    "F=diag.addChanceNode(gum.LabelizedVariable(\"F\",\"F\",2))\n",
    "diag.addArc(diag.idFromName(\"decisionVar1\"),F)\n",
    "\n",
    "U=diag.addUtilityNode(gum.LabelizedVariable(\"U\",\"U\",1))\n",
    "diag.addArc(diag.idFromName(\"decisionVar3\"),U)\n",
    "diag.addArc(diag.idFromName(\"F\"),U)\n",
    "gnb.showInfluenceDiagram(diag)"
   ]
  },
  {
   "cell_type": "code",
   "execution_count": 5,
   "metadata": {
    "ExecuteTime": {
     "end_time": "2019-02-25T17:33:54.955130Z",
     "start_time": "2019-02-25T17:33:54.948913Z"
    }
   },
   "outputs": [],
   "source": [
    "diag.cpt(F)[{'decisionVar1':0}]=[0.9,0.1]\n",
    "diag.cpt(F)[{'decisionVar1':1}]=[0.3,0.7]\n",
    "\n",
    "diag.utility(U)[{'F':0,'decisionVar3':0}]=2\n",
    "diag.utility(U)[{'F':0,'decisionVar3':1}]=4\n",
    "diag.utility(U)[{'F':1}]=[[0],[5]]"
   ]
  },
  {
   "cell_type": "code",
   "execution_count": 8,
   "metadata": {
    "ExecuteTime": {
     "end_time": "2019-02-25T17:33:57.089038Z",
     "start_time": "2019-02-25T17:33:54.956871Z"
    }
   },
   "outputs": [
    {
     "data": {
      "image/svg+xml": [
       "<svg xmlns=\"http://www.w3.org/2000/svg\" xmlns:xlink=\"http://www.w3.org/1999/xlink\" width=\"332pt\" height=\"260pt\" viewBox=\"0.00 0.00 332.00 260.00\">\n",
       "<g id=\"graph0\" class=\"graph\" transform=\"scale(1 1) rotate(0) translate(4 256)\">\n",
       "<title>G</title>\n",
       "<!-- S -->\n",
       "<g id=\"node1\" class=\"node\">\n",
       "<title>S</title>\n",
       "<ellipse fill=\"#504a50\" stroke=\"#4a4a4a\" cx=\"72\" cy=\"-234\" rx=\"27\" ry=\"18\"/>\n",
       "<text text-anchor=\"middle\" x=\"72\" y=\"-230.3\" font-family=\"Times,serif\" font-size=\"14.00\" fill=\"white\">S</text>\n",
       "</g>\n",
       "<!-- B -->\n",
       "<g id=\"node2\" class=\"node\">\n",
       "<title>B</title>\n",
       "<ellipse fill=\"#504a50\" stroke=\"#4a4a4a\" cx=\"27\" cy=\"-90\" rx=\"27\" ry=\"18\"/>\n",
       "<text text-anchor=\"middle\" x=\"27\" y=\"-86.3\" font-family=\"Times,serif\" font-size=\"14.00\" fill=\"white\">B</text>\n",
       "</g>\n",
       "<!-- S&#45;&gt;B -->\n",
       "<g id=\"edge5\" class=\"edge\">\n",
       "<title>S-&gt;B</title>\n",
       "<path fill=\"none\" stroke=\"#4a4a4a\" d=\"M66.66,-216.15C58.95,-191.81 44.61,-146.57 35.45,-117.67\"/>\n",
       "<polygon fill=\"#4a4a4a\" stroke=\"#4a4a4a\" points=\"38.69,-116.3 32.33,-107.82 32.02,-118.42 38.69,-116.3\"/>\n",
       "</g>\n",
       "<!-- L -->\n",
       "<g id=\"node3\" class=\"node\">\n",
       "<title>L</title>\n",
       "<ellipse fill=\"#504a50\" stroke=\"#4a4a4a\" cx=\"99\" cy=\"-162\" rx=\"27\" ry=\"18\"/>\n",
       "<text text-anchor=\"middle\" x=\"99\" y=\"-158.3\" font-family=\"Times,serif\" font-size=\"14.00\" fill=\"white\">L</text>\n",
       "</g>\n",
       "<!-- S&#45;&gt;L -->\n",
       "<g id=\"edge6\" class=\"edge\">\n",
       "<title>S-&gt;L</title>\n",
       "<path fill=\"none\" stroke=\"#4a4a4a\" d=\"M78.4,-216.41C81.51,-208.34 85.33,-198.43 88.83,-189.35\"/>\n",
       "<polygon fill=\"#4a4a4a\" stroke=\"#4a4a4a\" points=\"92.13,-190.55 92.46,-179.96 85.6,-188.03 92.13,-190.55\"/>\n",
       "</g>\n",
       "<!-- D -->\n",
       "<g id=\"node5\" class=\"node\">\n",
       "<title>D</title>\n",
       "<ellipse fill=\"#504a50\" stroke=\"#4a4a4a\" cx=\"71\" cy=\"-18\" rx=\"27\" ry=\"18\"/>\n",
       "<text text-anchor=\"middle\" x=\"71\" y=\"-14.3\" font-family=\"Times,serif\" font-size=\"14.00\" fill=\"white\">D</text>\n",
       "</g>\n",
       "<!-- B&#45;&gt;D -->\n",
       "<g id=\"edge7\" class=\"edge\">\n",
       "<title>B-&gt;D</title>\n",
       "<path fill=\"none\" stroke=\"#4a4a4a\" d=\"M36.98,-73.12C42.5,-64.34 49.46,-53.26 55.65,-43.42\"/>\n",
       "<polygon fill=\"#4a4a4a\" stroke=\"#4a4a4a\" points=\"58.7,-45.15 61.06,-34.82 52.77,-41.42 58.7,-45.15\"/>\n",
       "</g>\n",
       "<!-- E -->\n",
       "<g id=\"node4\" class=\"node\">\n",
       "<title>E</title>\n",
       "<ellipse fill=\"#504a50\" stroke=\"#4a4a4a\" cx=\"99\" cy=\"-90\" rx=\"27\" ry=\"18\"/>\n",
       "<text text-anchor=\"middle\" x=\"99\" y=\"-86.3\" font-family=\"Times,serif\" font-size=\"14.00\" fill=\"white\">E</text>\n",
       "</g>\n",
       "<!-- L&#45;&gt;E -->\n",
       "<g id=\"edge8\" class=\"edge\">\n",
       "<title>L-&gt;E</title>\n",
       "<path fill=\"none\" stroke=\"#4a4a4a\" d=\"M99,-143.7C99,-135.98 99,-126.71 99,-118.11\"/>\n",
       "<polygon fill=\"#4a4a4a\" stroke=\"#4a4a4a\" points=\"102.5,-118.1 99,-108.1 95.5,-118.1 102.5,-118.1\"/>\n",
       "</g>\n",
       "<!-- Uh -->\n",
       "<g id=\"node11\" class=\"node\">\n",
       "<title>Uh</title>\n",
       "<polygon fill=\"#4a5050\" stroke=\"#4a4a4a\" points=\"179,-108 144.14,-90 179,-72 213.86,-90 179,-108\"/>\n",
       "<text text-anchor=\"middle\" x=\"179\" y=\"-86.3\" font-family=\"Times,serif\" font-size=\"14.00\" fill=\"white\">Uh</text>\n",
       "</g>\n",
       "<!-- L&#45;&gt;Uh -->\n",
       "<g id=\"edge9\" class=\"edge\">\n",
       "<title>L-&gt;Uh</title>\n",
       "<path fill=\"none\" stroke=\"#4a4a4a\" d=\"M114.81,-147.17C127.4,-136.15 145.12,-120.64 158.75,-108.71\"/>\n",
       "<polygon fill=\"#4a4a4a\" stroke=\"#4a4a4a\" points=\"161.41,-111.04 166.63,-101.82 156.8,-105.77 161.41,-111.04\"/>\n",
       "</g>\n",
       "<!-- E&#45;&gt;D -->\n",
       "<g id=\"edge10\" class=\"edge\">\n",
       "<title>E-&gt;D</title>\n",
       "<path fill=\"none\" stroke=\"#4a4a4a\" d=\"M92.36,-72.41C89.09,-64.22 85.06,-54.14 81.38,-44.95\"/>\n",
       "<polygon fill=\"#4a4a4a\" stroke=\"#4a4a4a\" points=\"84.55,-43.45 77.59,-35.47 78.05,-46.05 84.55,-43.45\"/>\n",
       "</g>\n",
       "<!-- P -->\n",
       "<g id=\"node6\" class=\"node\">\n",
       "<title>P</title>\n",
       "<ellipse fill=\"#504a50\" stroke=\"#4a4a4a\" cx=\"176\" cy=\"-18\" rx=\"27\" ry=\"18\"/>\n",
       "<text text-anchor=\"middle\" x=\"176\" y=\"-14.3\" font-family=\"Times,serif\" font-size=\"14.00\" fill=\"white\">P</text>\n",
       "</g>\n",
       "<!-- E&#45;&gt;P -->\n",
       "<g id=\"edge11\" class=\"edge\">\n",
       "<title>E-&gt;P</title>\n",
       "<path fill=\"none\" stroke=\"#4a4a4a\" d=\"M114.58,-74.83C125.61,-64.81 140.59,-51.19 152.99,-39.92\"/>\n",
       "<polygon fill=\"#4a4a4a\" stroke=\"#4a4a4a\" points=\"155.66,-42.22 160.7,-32.91 150.95,-37.04 155.66,-42.22\"/>\n",
       "</g>\n",
       "<!-- Tu -->\n",
       "<g id=\"node7\" class=\"node\">\n",
       "<title>Tu</title>\n",
       "<ellipse fill=\"#504a50\" stroke=\"#4a4a4a\" cx=\"179\" cy=\"-162\" rx=\"27\" ry=\"18\"/>\n",
       "<text text-anchor=\"middle\" x=\"179\" y=\"-158.3\" font-family=\"Times,serif\" font-size=\"14.00\" fill=\"white\">Tu</text>\n",
       "</g>\n",
       "<!-- Tu&#45;&gt;E -->\n",
       "<g id=\"edge13\" class=\"edge\">\n",
       "<title>Tu-&gt;E</title>\n",
       "<path fill=\"none\" stroke=\"#4a4a4a\" d=\"M163.19,-147.17C151.58,-137.01 135.61,-123.03 122.5,-111.56\"/>\n",
       "<polygon fill=\"#4a4a4a\" stroke=\"#4a4a4a\" points=\"124.6,-108.75 114.77,-104.8 119.99,-114.02 124.6,-108.75\"/>\n",
       "</g>\n",
       "<!-- Tu&#45;&gt;Uh -->\n",
       "<g id=\"edge14\" class=\"edge\">\n",
       "<title>Tu-&gt;Uh</title>\n",
       "<path fill=\"none\" stroke=\"#4a4a4a\" d=\"M179,-143.7C179,-135.98 179,-126.71 179,-118.11\"/>\n",
       "<polygon fill=\"#4a4a4a\" stroke=\"#4a4a4a\" points=\"182.5,-118.1 179,-108.1 175.5,-118.1 182.5,-118.1\"/>\n",
       "</g>\n",
       "<!-- Ut -->\n",
       "<g id=\"node12\" class=\"node\">\n",
       "<title>Ut</title>\n",
       "<polygon fill=\"#4a5050\" stroke=\"#4a4a4a\" points=\"269,-36 236.66,-18 269,0 301.34,-18 269,-36\"/>\n",
       "<text text-anchor=\"middle\" x=\"269\" y=\"-14.3\" font-family=\"Times,serif\" font-size=\"14.00\" fill=\"white\">Ut</text>\n",
       "</g>\n",
       "<!-- Tu&#45;&gt;Ut -->\n",
       "<g id=\"edge12\" class=\"edge\">\n",
       "<title>Tu-&gt;Ut</title>\n",
       "<path fill=\"none\" stroke=\"#4a4a4a\" d=\"M192.62,-146.37C201.81,-136.09 213.89,-121.76 223,-108 237.17,-86.61 250.28,-60.33 258.85,-41.89\"/>\n",
       "<polygon fill=\"#4a4a4a\" stroke=\"#4a4a4a\" points=\"262.04,-43.33 263.01,-32.78 255.67,-40.42 262.04,-43.33\"/>\n",
       "</g>\n",
       "<!-- A -->\n",
       "<g id=\"node8\" class=\"node\">\n",
       "<title>A</title>\n",
       "<ellipse fill=\"#504a50\" stroke=\"#4a4a4a\" cx=\"179\" cy=\"-234\" rx=\"27\" ry=\"18\"/>\n",
       "<text text-anchor=\"middle\" x=\"179\" y=\"-230.3\" font-family=\"Times,serif\" font-size=\"14.00\" fill=\"white\">A</text>\n",
       "</g>\n",
       "<!-- A&#45;&gt;Tu -->\n",
       "<g id=\"edge15\" class=\"edge\">\n",
       "<title>A-&gt;Tu</title>\n",
       "<path fill=\"none\" stroke=\"#4a4a4a\" d=\"M179,-215.7C179,-207.98 179,-198.71 179,-190.11\"/>\n",
       "<polygon fill=\"#4a4a4a\" stroke=\"#4a4a4a\" points=\"182.5,-190.1 179,-180.1 175.5,-190.1 182.5,-190.1\"/>\n",
       "</g>\n",
       "<!-- H -->\n",
       "<g id=\"node9\" class=\"node\">\n",
       "<title>H</title>\n",
       "<polygon fill=\"#50504a\" stroke=\"#4a4a4a\" points=\"301,-180 247,-180 247,-144 301,-144 301,-180\"/>\n",
       "<text text-anchor=\"middle\" x=\"274\" y=\"-158.3\" font-family=\"Times,serif\" font-size=\"14.00\" fill=\"white\">H</text>\n",
       "</g>\n",
       "<!-- Ta -->\n",
       "<g id=\"node10\" class=\"node\">\n",
       "<title>Ta</title>\n",
       "<polygon fill=\"#50504a\" stroke=\"#4a4a4a\" points=\"324,-108 270,-108 270,-72 324,-72 324,-108\"/>\n",
       "<text text-anchor=\"middle\" x=\"297\" y=\"-86.3\" font-family=\"Times,serif\" font-size=\"14.00\" fill=\"white\">Ta</text>\n",
       "</g>\n",
       "<!-- H&#45;&gt;Ta -->\n",
       "<g id=\"edge1\" class=\"edge\">\n",
       "<title>H-&gt;Ta</title>\n",
       "<path fill=\"none\" stroke=\"#4a4a4a\" d=\"M279.69,-143.7C282.25,-135.9 285.33,-126.51 288.18,-117.83\"/>\n",
       "<polygon fill=\"#4a4a4a\" stroke=\"#4a4a4a\" points=\"291.58,-118.7 291.38,-108.1 284.93,-116.51 291.58,-118.7\"/>\n",
       "</g>\n",
       "<!-- H&#45;&gt;Uh -->\n",
       "<g id=\"edge2\" class=\"edge\">\n",
       "<title>H-&gt;Uh</title>\n",
       "<path fill=\"none\" stroke=\"#4a4a4a\" d=\"M250.52,-143.7C235.36,-132.53 215.77,-118.1 200.93,-107.16\"/>\n",
       "<polygon fill=\"#4a4a4a\" stroke=\"#4a4a4a\" points=\"202.94,-104.29 192.81,-101.18 198.79,-109.93 202.94,-104.29\"/>\n",
       "</g>\n",
       "<!-- Ta&#45;&gt;P -->\n",
       "<g id=\"edge4\" class=\"edge\">\n",
       "<title>Ta-&gt;P</title>\n",
       "<path fill=\"none\" stroke=\"#4a4a4a\" d=\"M269.85,-73.29C250.48,-62.09 224.48,-47.04 204.76,-35.64\"/>\n",
       "<polygon fill=\"#4a4a4a\" stroke=\"#4a4a4a\" points=\"206.32,-32.5 195.91,-30.52 202.81,-38.56 206.32,-32.5\"/>\n",
       "</g>\n",
       "<!-- Ta&#45;&gt;Ut -->\n",
       "<g id=\"edge3\" class=\"edge\">\n",
       "<title>Ta-&gt;Ut</title>\n",
       "<path fill=\"none\" stroke=\"#4a4a4a\" d=\"M290.08,-71.7C286.57,-62.92 282.25,-52.13 278.44,-42.61\"/>\n",
       "<polygon fill=\"#4a4a4a\" stroke=\"#4a4a4a\" points=\"281.68,-41.26 274.71,-33.28 275.18,-43.86 281.68,-41.26\"/>\n",
       "</g>\n",
       "</g>\n",
       "</svg>"
      ],
      "text/plain": [
       "<IPython.core.display.SVG object>"
      ]
     },
     "metadata": {},
     "output_type": "display_data"
    }
   ],
   "source": [
    "asia=gum.loadID(os.path.join(\"res\",\"DecAsia.bifxml\"))\n",
    "gnb.showInfluenceDiagram(asia)"
   ]
  },
  {
   "cell_type": "code",
   "execution_count": 9,
   "metadata": {
    "ExecuteTime": {
     "end_time": "2019-02-25T17:33:59.278856Z",
     "start_time": "2019-02-25T17:33:57.091511Z"
    }
   },
   "outputs": [
    {
     "data": {
      "image/svg+xml": [
       "<svg xmlns=\"http://www.w3.org/2000/svg\" xmlns:xlink=\"http://www.w3.org/1999/xlink\" width=\"218pt\" height=\"260pt\" viewBox=\"0.00 0.00 218.17 260.00\">\n",
       "<g id=\"graph0\" class=\"graph\" transform=\"scale(1 1) rotate(0) translate(4 256)\">\n",
       "<title>G</title>\n",
       "<!-- R -->\n",
       "<g id=\"node1\" class=\"node\">\n",
       "<title>R</title>\n",
       "<ellipse fill=\"#504a50\" stroke=\"#4a4a4a\" cx=\"63\" cy=\"-162\" rx=\"27\" ry=\"18\"/>\n",
       "<text text-anchor=\"middle\" x=\"63\" y=\"-158.3\" font-family=\"Times,serif\" font-size=\"14.00\" fill=\"white\">R</text>\n",
       "</g>\n",
       "<!-- D -->\n",
       "<g id=\"node4\" class=\"node\">\n",
       "<title>D</title>\n",
       "<polygon fill=\"#50504a\" stroke=\"#4a4a4a\" points=\"90,-108 36,-108 36,-72 90,-72 90,-108\"/>\n",
       "<text text-anchor=\"middle\" x=\"63\" y=\"-86.3\" font-family=\"Times,serif\" font-size=\"14.00\" fill=\"white\">D</text>\n",
       "</g>\n",
       "<!-- R&#45;&gt;D -->\n",
       "<g id=\"edge5\" class=\"edge\">\n",
       "<title>R-&gt;D</title>\n",
       "<path fill=\"none\" stroke=\"#4a4a4a\" d=\"M63,-143.7C63,-135.98 63,-126.71 63,-118.11\"/>\n",
       "<polygon fill=\"#4a4a4a\" stroke=\"#4a4a4a\" points=\"66.5,-118.1 63,-108.1 59.5,-118.1 66.5,-118.1\"/>\n",
       "</g>\n",
       "<!-- O -->\n",
       "<g id=\"node2\" class=\"node\">\n",
       "<title>O</title>\n",
       "<ellipse fill=\"#504a50\" stroke=\"#4a4a4a\" cx=\"27\" cy=\"-234\" rx=\"27\" ry=\"18\"/>\n",
       "<text text-anchor=\"middle\" x=\"27\" y=\"-230.3\" font-family=\"Times,serif\" font-size=\"14.00\" fill=\"white\">O</text>\n",
       "</g>\n",
       "<!-- O&#45;&gt;R -->\n",
       "<g id=\"edge6\" class=\"edge\">\n",
       "<title>O-&gt;R</title>\n",
       "<path fill=\"none\" stroke=\"#4a4a4a\" d=\"M35.35,-216.76C39.71,-208.28 45.15,-197.71 50.04,-188.2\"/>\n",
       "<polygon fill=\"#4a4a4a\" stroke=\"#4a4a4a\" points=\"53.23,-189.64 54.7,-179.15 47.01,-186.44 53.23,-189.64\"/>\n",
       "</g>\n",
       "<!-- Ud -->\n",
       "<g id=\"node6\" class=\"node\">\n",
       "<title>Ud</title>\n",
       "<polygon fill=\"#4a5050\" stroke=\"#4a4a4a\" points=\"35,-36 0.14,-18 35,0 69.86,-18 35,-36\"/>\n",
       "<text text-anchor=\"middle\" x=\"35\" y=\"-14.3\" font-family=\"Times,serif\" font-size=\"14.00\" fill=\"white\">Ud</text>\n",
       "</g>\n",
       "<!-- O&#45;&gt;Ud -->\n",
       "<g id=\"edge7\" class=\"edge\">\n",
       "<title>O-&gt;Ud</title>\n",
       "<path fill=\"none\" stroke=\"#4a4a4a\" d=\"M26.15,-215.58C24.89,-186 23.09,-124.12 27,-72 27.67,-63.03 28.98,-53.27 30.34,-44.61\"/>\n",
       "<polygon fill=\"#4a4a4a\" stroke=\"#4a4a4a\" points=\"33.8,-45.14 32,-34.7 26.9,-43.99 33.8,-45.14\"/>\n",
       "</g>\n",
       "<!-- T -->\n",
       "<g id=\"node3\" class=\"node\">\n",
       "<title>T</title>\n",
       "<polygon fill=\"#50504a\" stroke=\"#4a4a4a\" points=\"145,-252 91,-252 91,-216 145,-216 145,-252\"/>\n",
       "<text text-anchor=\"middle\" x=\"118\" y=\"-230.3\" font-family=\"Times,serif\" font-size=\"14.00\" fill=\"white\">T</text>\n",
       "</g>\n",
       "<!-- T&#45;&gt;R -->\n",
       "<g id=\"edge3\" class=\"edge\">\n",
       "<title>T-&gt;R</title>\n",
       "<path fill=\"none\" stroke=\"#4a4a4a\" d=\"M104.4,-215.7C97.42,-206.8 88.8,-195.84 81.25,-186.22\"/>\n",
       "<polygon fill=\"#4a4a4a\" stroke=\"#4a4a4a\" points=\"83.88,-183.9 74.94,-178.2 78.37,-188.23 83.88,-183.9\"/>\n",
       "</g>\n",
       "<!-- T&#45;&gt;D -->\n",
       "<g id=\"edge1\" class=\"edge\">\n",
       "<title>T-&gt;D</title>\n",
       "<path fill=\"none\" stroke=\"#4a4a4a\" d=\"M116.3,-215.67C114.05,-197.29 109.11,-167.69 99,-144 94.92,-134.43 89.01,-124.78 83.16,-116.39\"/>\n",
       "<polygon fill=\"#4a4a4a\" stroke=\"#4a4a4a\" points=\"85.88,-114.17 77.16,-108.15 80.22,-118.29 85.88,-114.17\"/>\n",
       "</g>\n",
       "<!-- Ut -->\n",
       "<g id=\"node5\" class=\"node\">\n",
       "<title>Ut</title>\n",
       "<polygon fill=\"#4a5050\" stroke=\"#4a4a4a\" points=\"178,-180 145.66,-162 178,-144 210.34,-162 178,-180\"/>\n",
       "<text text-anchor=\"middle\" x=\"178\" y=\"-158.3\" font-family=\"Times,serif\" font-size=\"14.00\" fill=\"white\">Ut</text>\n",
       "</g>\n",
       "<!-- T&#45;&gt;Ut -->\n",
       "<g id=\"edge2\" class=\"edge\">\n",
       "<title>T-&gt;Ut</title>\n",
       "<path fill=\"none\" stroke=\"#4a4a4a\" d=\"M132.83,-215.7C141.48,-205.6 152.42,-192.84 161.37,-182.41\"/>\n",
       "<polygon fill=\"#4a4a4a\" stroke=\"#4a4a4a\" points=\"164.18,-184.5 168.03,-174.63 158.87,-179.95 164.18,-184.5\"/>\n",
       "</g>\n",
       "<!-- D&#45;&gt;Ud -->\n",
       "<g id=\"edge4\" class=\"edge\">\n",
       "<title>D-&gt;Ud</title>\n",
       "<path fill=\"none\" stroke=\"#4a4a4a\" d=\"M56.08,-71.7C52.57,-62.92 48.25,-52.13 44.44,-42.61\"/>\n",
       "<polygon fill=\"#4a4a4a\" stroke=\"#4a4a4a\" points=\"47.68,-41.26 40.71,-33.28 41.18,-43.86 47.68,-41.26\"/>\n",
       "</g>\n",
       "</g>\n",
       "</svg>"
      ],
      "text/plain": [
       "<IPython.core.display.SVG object>"
      ]
     },
     "metadata": {},
     "output_type": "display_data"
    }
   ],
   "source": [
    "oil=gum.loadID(os.path.join(\"res\",\"OilWildcater.bifxml\"))\n",
    "gnb.showInfluenceDiagram(oil)"
   ]
  },
  {
   "cell_type": "code",
   "execution_count": 10,
   "metadata": {
    "ExecuteTime": {
     "end_time": "2019-02-25T17:33:59.287118Z",
     "start_time": "2019-02-25T17:33:59.283647Z"
    }
   },
   "outputs": [],
   "source": [
    "ie=gum.InfluenceDiagramInference(oil)"
   ]
  },
  {
   "cell_type": "code",
   "execution_count": 11,
   "metadata": {
    "ExecuteTime": {
     "end_time": "2019-02-25T17:33:59.299581Z",
     "start_time": "2019-02-25T17:33:59.289093Z"
    }
   },
   "outputs": [
    {
     "name": "stdout",
     "output_type": "stream",
     "text": [
      "Best decision for T : 1\n",
      "Best decision for D : 1\n",
      "For a maxEU : 60.0\n"
     ]
    }
   ],
   "source": [
    "ie.makeInference()\n",
    "print(\"Best decision for T : {0}\".format(ie.getBestDecisionChoice(oil.idFromName(\"T\"))))\n",
    "print(\"Best decision for D : {0}\".format(ie.getBestDecisionChoice(oil.idFromName(\"D\"))))\n",
    "print(\"For a maxEU : {0}\".format(ie.getMEU()))"
   ]
  },
  {
   "cell_type": "code",
   "execution_count": 12,
   "metadata": {
    "ExecuteTime": {
     "end_time": "2019-02-25T17:33:59.306228Z",
     "start_time": "2019-02-25T17:33:59.301343Z"
    }
   },
   "outputs": [
    {
     "name": "stdout",
     "output_type": "stream",
     "text": [
      "O<Dry,Wet,Soak>\n"
     ]
    }
   ],
   "source": [
    "print(oil.variable(3))"
   ]
  },
  {
   "cell_type": "code",
   "execution_count": 13,
   "metadata": {
    "ExecuteTime": {
     "end_time": "2019-02-25T17:33:59.315173Z",
     "start_time": "2019-02-25T17:33:59.308144Z"
    }
   },
   "outputs": [
    {
     "name": "stdout",
     "output_type": "stream",
     "text": [
      "Best decision for T : 1\n",
      "Best decision for D : 1\n",
      "For a maxEU : 0.0\n"
     ]
    }
   ],
   "source": [
    "ie.eraseAllEvidence()\n",
    "ie.setEvidence({3:0})\n",
    "ie.makeInference()\n",
    "print(\"Best decision for T : {0}\".format(ie.getBestDecisionChoice(oil.idFromName(\"T\"))))\n",
    "print(\"Best decision for D : {0}\".format(ie.getBestDecisionChoice(oil.idFromName(\"D\"))))\n",
    "print(\"For a maxEU : {0}\".format(ie.getMEU()))"
   ]
  },
  {
   "cell_type": "code",
   "execution_count": 14,
   "metadata": {
    "ExecuteTime": {
     "end_time": "2019-02-25T17:33:59.325676Z",
     "start_time": "2019-02-25T17:33:59.316942Z"
    }
   },
   "outputs": [
    {
     "name": "stdout",
     "output_type": "stream",
     "text": [
      "Best decision for T : 1\n",
      "Best decision for D : 0\n",
      "For a maxEU : 60.0\n"
     ]
    }
   ],
   "source": [
    "ie.eraseAllEvidence()\n",
    "ie.setEvidence({3:1})\n",
    "ie.makeInference()\n",
    "print(\"Best decision for T : {0}\".format(ie.getBestDecisionChoice(oil.idFromName(\"T\"))))\n",
    "print(\"Best decision for D : {0}\".format(ie.getBestDecisionChoice(oil.idFromName(\"D\"))))\n",
    "print(\"For a maxEU : {0}\".format(ie.getMEU()))"
   ]
  },
  {
   "cell_type": "code",
   "execution_count": 15,
   "metadata": {
    "ExecuteTime": {
     "end_time": "2019-02-25T17:33:59.336580Z",
     "start_time": "2019-02-25T17:33:59.327720Z"
    }
   },
   "outputs": [
    {
     "name": "stdout",
     "output_type": "stream",
     "text": [
      "Best decision for T : 1\n",
      "Best decision for D : 0\n",
      "For a maxEU : 10.0\n"
     ]
    }
   ],
   "source": [
    "ie.eraseAllEvidence()\n",
    "ie.setEvidence({3:2})\n",
    "ie.makeInference()\n",
    "print(\"Best decision for T : {0}\".format(ie.getBestDecisionChoice(oil.idFromName(\"T\"))))\n",
    "print(\"Best decision for D : {0}\".format(ie.getBestDecisionChoice(oil.idFromName(\"D\"))))\n",
    "print(\"For a maxEU : {0}\".format(ie.getMEU()))"
   ]
  },
  {
   "cell_type": "code",
   "execution_count": 16,
   "metadata": {
    "ExecuteTime": {
     "end_time": "2019-02-25T17:33:59.344389Z",
     "start_time": "2019-02-25T17:33:59.338423Z"
    }
   },
   "outputs": [
    {
     "name": "stdout",
     "output_type": "stream",
     "text": [
      "Best decision for T : 1\n",
      "Best decision for D : 1\n",
      "For a maxEU : 30.0\n"
     ]
    }
   ],
   "source": [
    "ie.eraseAllEvidence()\n",
    "ie.setEvidence({3:[1,0.5,0.1]})\n",
    "ie.makeInference()\n",
    "print(\"Best decision for T : {0}\".format(ie.getBestDecisionChoice(oil.idFromName(\"T\"))))\n",
    "print(\"Best decision for D : {0}\".format(ie.getBestDecisionChoice(oil.idFromName(\"D\"))))\n",
    "print(\"For a maxEU : {0}\".format(ie.getMEU()))"
   ]
  },
  {
   "cell_type": "code",
   "execution_count": null,
   "metadata": {},
   "outputs": [],
   "source": []
  }
 ],
 "metadata": {
  "hide_input": false,
  "kernelspec": {
   "display_name": "Python 3",
   "language": "python",
   "name": "python3"
  },
  "language_info": {
   "codemirror_mode": {
    "name": "ipython",
    "version": 3
   },
   "file_extension": ".py",
   "mimetype": "text/x-python",
   "name": "python",
   "nbconvert_exporter": "python",
   "pygments_lexer": "ipython3",
   "version": "3.8.1"
  }
 },
 "nbformat": 4,
 "nbformat_minor": 4
}
