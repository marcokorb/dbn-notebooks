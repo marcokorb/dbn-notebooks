{
 "cells": [
  {
   "cell_type": "markdown",
   "metadata": {},
   "source": [
    "<a href=\"http://agrum.org\" target=\"blank\"><img src=\"http://agrum.gitlab.io/theme/img/logoAgrum.png\" align=\"left\" style=\"height:100px\"/></a><a rel=\"license\" href=\"http://creativecommons.org/licenses/by-nc/4.0/\"><img alt=\"Creative Commons License\" style=\"border-width:0\" src=\"https://i.creativecommons.org/l/by-nc/4.0/88x31.png\" /></a><br />This pyAgrum's notebook is licensed under a <a rel=\"license\" href=\"http://creativecommons.org/licenses/by-nc/4.0/\">Creative Commons Attribution-NonCommercial 4.0 International License</a>."
   ]
  },
  {
   "cell_type": "code",
   "execution_count": 1,
   "metadata": {
    "ExecuteTime": {
     "end_time": "2019-04-20T13:55:28.004432Z",
     "start_time": "2019-04-20T13:55:27.768067Z"
    }
   },
   "outputs": [],
   "source": [
    "import pyAgrum as gum\n",
    "import pyAgrum.lib.notebook as gnb"
   ]
  },
  {
   "cell_type": "markdown",
   "metadata": {},
   "source": [
    "# Model"
   ]
  },
  {
   "cell_type": "markdown",
   "metadata": {},
   "source": [
    "Let's assume a process $X_1\\rightarrow Y_1$ with a control on $X_1$ by $C_a$ and a parameter $P_b$ on $Y_1$."
   ]
  },
  {
   "cell_type": "code",
   "execution_count": 2,
   "metadata": {
    "ExecuteTime": {
     "end_time": "2019-04-20T13:55:29.719565Z",
     "start_time": "2019-04-20T13:55:28.006817Z"
    }
   },
   "outputs": [
    {
     "data": {
      "text/html": [
       "<table style=\"border-style: hidden; border-collapse: collapse;\" width=\"100%\"><tr><td style=\"border-top:hidden;border-bottom:hidden;\"><div align=\"center\" style=\"\"><svg xmlns=\"http://www.w3.org/2000/svg\" xmlns:xlink=\"http://www.w3.org/1999/xlink\" width=\"134pt\" height=\"188pt\" viewBox=\"0.00 0.00 134.00 188.00\">\n",
       "<g id=\"graph0\" class=\"graph\" transform=\"scale(1 1) rotate(0) translate(4 184)\">\n",
       "<title>G</title>\n",
       "<!-- Ca -->\n",
       "<g id=\"node1\" class=\"node\">\n",
       "<title>Ca</title>\n",
       "<g id=\"a_node1\"><a xlink:title=\"(0) Ca\">\n",
       "<ellipse fill=\"#404040\" stroke=\"black\" cx=\"27\" cy=\"-162\" rx=\"27\" ry=\"18\"/>\n",
       "<text text-anchor=\"middle\" x=\"27\" y=\"-158.3\" font-family=\"Times,serif\" font-size=\"14.00\" fill=\"white\">Ca</text>\n",
       "</a>\n",
       "</g>\n",
       "</g>\n",
       "<!-- X1 -->\n",
       "<g id=\"node2\" class=\"node\">\n",
       "<title>X1</title>\n",
       "<g id=\"a_node2\"><a xlink:title=\"(1) X1\">\n",
       "<ellipse fill=\"#404040\" stroke=\"black\" cx=\"27\" cy=\"-90\" rx=\"27\" ry=\"18\"/>\n",
       "<text text-anchor=\"middle\" x=\"27\" y=\"-86.3\" font-family=\"Times,serif\" font-size=\"14.00\" fill=\"white\">X1</text>\n",
       "</a>\n",
       "</g>\n",
       "</g>\n",
       "<!-- Ca&#45;&gt;X1 -->\n",
       "<g id=\"edge1\" class=\"edge\">\n",
       "<title>Ca-&gt;X1</title>\n",
       "<g id=\"a_edge1\"><a xlink:title=\"(0, 1) : \">\n",
       "<path fill=\"none\" stroke=\"#4a4a4a\" d=\"M27,-143.7C27,-135.98 27,-126.71 27,-118.11\"/>\n",
       "<polygon fill=\"#4a4a4a\" stroke=\"#4a4a4a\" points=\"30.5,-118.1 27,-108.1 23.5,-118.1 30.5,-118.1\"/>\n",
       "</a>\n",
       "</g>\n",
       "</g>\n",
       "<!-- Y1 -->\n",
       "<g id=\"node3\" class=\"node\">\n",
       "<title>Y1</title>\n",
       "<g id=\"a_node3\"><a xlink:title=\"(2) Y1\">\n",
       "<ellipse fill=\"#404040\" stroke=\"black\" cx=\"63\" cy=\"-18\" rx=\"27\" ry=\"18\"/>\n",
       "<text text-anchor=\"middle\" x=\"63\" y=\"-14.3\" font-family=\"Times,serif\" font-size=\"14.00\" fill=\"white\">Y1</text>\n",
       "</a>\n",
       "</g>\n",
       "</g>\n",
       "<!-- X1&#45;&gt;Y1 -->\n",
       "<g id=\"edge3\" class=\"edge\">\n",
       "<title>X1-&gt;Y1</title>\n",
       "<g id=\"a_edge3\"><a xlink:title=\"(1, 2) : \">\n",
       "<path fill=\"none\" stroke=\"#4a4a4a\" d=\"M35.35,-72.76C39.71,-64.28 45.15,-53.71 50.04,-44.2\"/>\n",
       "<polygon fill=\"#4a4a4a\" stroke=\"#4a4a4a\" points=\"53.23,-45.64 54.7,-35.15 47.01,-42.44 53.23,-45.64\"/>\n",
       "</a>\n",
       "</g>\n",
       "</g>\n",
       "<!-- Pb -->\n",
       "<g id=\"node4\" class=\"node\">\n",
       "<title>Pb</title>\n",
       "<g id=\"a_node4\"><a xlink:title=\"(3) Pb\">\n",
       "<ellipse fill=\"#404040\" stroke=\"black\" cx=\"99\" cy=\"-90\" rx=\"27\" ry=\"18\"/>\n",
       "<text text-anchor=\"middle\" x=\"99\" y=\"-86.3\" font-family=\"Times,serif\" font-size=\"14.00\" fill=\"white\">Pb</text>\n",
       "</a>\n",
       "</g>\n",
       "</g>\n",
       "<!-- Pb&#45;&gt;Y1 -->\n",
       "<g id=\"edge2\" class=\"edge\">\n",
       "<title>Pb-&gt;Y1</title>\n",
       "<g id=\"a_edge2\"><a xlink:title=\"(3, 2) : \">\n",
       "<path fill=\"none\" stroke=\"#4a4a4a\" d=\"M90.65,-72.76C86.29,-64.28 80.85,-53.71 75.96,-44.2\"/>\n",
       "<polygon fill=\"#4a4a4a\" stroke=\"#4a4a4a\" points=\"78.99,-42.44 71.3,-35.15 72.77,-45.64 78.99,-42.44\"/>\n",
       "</a>\n",
       "</g>\n",
       "</g>\n",
       "</g>\n",
       "</svg></div></td><td style=\"border-top:hidden;border-bottom:hidden;\"><div align=\"center\" style=\"\"><table style=\"border:1px solid black;\">\n",
       "<tr style='border:1px solid black;color:black;background-color:#808080'><th colspan='2'><center>Ca</center></th></tr>\n",
       "<tr><th style='border:1px solid black;border-bottom-style: double;color:black;background-color:#BBBBBB'><center>0</center></th><th style='border:1px solid black;border-bottom-style: double;color:black;background-color:#BBBBBB'><center>1</center></th></tr>\n",
       "<tr><td style='color:black;background-color:#98e564;text-align:right;'>0.8000</td><td style='color:black;background-color:#e59864;text-align:right;'>0.2000</td></tr>\n",
       "</table></div></td><td style=\"border-top:hidden;border-bottom:hidden;\"><div align=\"center\" style=\"\"><table style=\"border:1px solid black;\">\n",
       "<tr style='border:1px solid black;color:black;background-color:#808080'><th colspan='2'><center>Pb</center></th></tr>\n",
       "<tr><th style='border:1px solid black;border-bottom-style: double;color:black;background-color:#BBBBBB'><center>0</center></th><th style='border:1px solid black;border-bottom-style: double;color:black;background-color:#BBBBBB'><center>1</center></th></tr>\n",
       "<tr><td style='color:black;background-color:#d8a564;text-align:right;'>0.3000</td><td style='color:black;background-color:#a5d864;text-align:right;'>0.7000</td></tr>\n",
       "</table></div></td><td style=\"border-top:hidden;border-bottom:hidden;\"><div align=\"center\" style=\"\"><table style=\"border:1px solid black;\">\n",
       "<tr><th colspan='1'></th><th colspan='2' style='border:1px solid black;color:black;background-color:#808080;'><center>X1</center></th></tr>\n",
       "<tr><th style='border:1px solid black;color:black;background-color:#808080'><center>Ca</center></th><th style='border:1px solid black;border-bottom-style: double;color:black;background-color:#BBBBBB'><center>0</center></th><th style='border:1px solid black;border-bottom-style: double;color:black;background-color:#BBBBBB'><center>1</center></th></tr>\n",
       "<tr><th style='border:1px solid black;color:black;background-color:#BBBBBB'><center>0</center></th><td style='color:black;background-color:#8bf264;text-align:right;'>0.9000</td><td style='color:black;background-color:#f28b64;text-align:right;'>0.1000</td></tr>\n",
       "<tr><th style='border:1px solid black;color:black;background-color:#BBBBBB'><center>1</center></th><td style='color:black;background-color:#f28b64;text-align:right;'>0.1000</td><td style='color:black;background-color:#8bf264;text-align:right;'>0.9000</td></tr>\n",
       "</table></div></td><td style=\"border-top:hidden;border-bottom:hidden;\"><div align=\"center\" style=\"\"><table style=\"border:1px solid black;\">\n",
       "<tr><th colspan='2'></th><th colspan='2' style='border:1px solid black;color:black;background-color:#808080;'><center>Y1</center></th></tr>\n",
       "<tr><th style='border:1px solid black;color:black;background-color:#808080'><center>Pb</center></th><th style='border:1px solid black;color:black;background-color:#808080'><center>X1</center></th><th style='border:1px solid black;border-bottom-style: double;color:black;background-color:#BBBBBB'><center>0</center></th><th style='border:1px solid black;border-bottom-style: double;color:black;background-color:#BBBBBB'><center>1</center></th></tr>\n",
       "<tr><th style='border:1px solid black;color:black;background-color:#BBBBBB;' rowspan = '2'><center>0</center></th><th style='border:1px solid black;color:black;background-color:#BBBBBB'><center>0</center></th><td style='color:black;background-color:#98e564;text-align:right;'>0.8000</td><td style='color:black;background-color:#e59864;text-align:right;'>0.2000</td></tr>\n",
       "<tr><th style='border:1px solid black;color:black;background-color:#BBBBBB'><center>1</center></th><td style='color:black;background-color:#e59864;text-align:right;'>0.2000</td><td style='color:black;background-color:#98e564;text-align:right;'>0.8000</td></tr>\n",
       "<tr><th style='border:1px solid black;color:black;background-color:#BBBBBB;' rowspan = '2'><center>1</center></th><th style='border:1px solid black;color:black;background-color:#BBBBBB'><center>0</center></th><td style='color:black;background-color:#b2cb64;text-align:right;'>0.6000</td><td style='color:black;background-color:#cbb264;text-align:right;'>0.4000</td></tr>\n",
       "<tr><th style='border:1px solid black;color:black;background-color:#BBBBBB'><center>1</center></th><td style='color:black;background-color:#cbb264;text-align:right;'>0.4000</td><td style='color:black;background-color:#b2cb64;text-align:right;'>0.6000</td></tr>\n",
       "</table></div></td></tr></table>"
      ],
      "text/plain": [
       "<IPython.core.display.HTML object>"
      ]
     },
     "metadata": {},
     "output_type": "display_data"
    }
   ],
   "source": [
    "bn=gum.fastBN(\"Ca->X1->Y1<-Pb\")\n",
    "bn.cpt(\"Ca\").fillWith([0.8,0.2])\n",
    "bn.cpt(\"Pb\").fillWith([0.3,0.7])\n",
    "\n",
    "bn.cpt(\"X1\")[:]=[[0.9,0.1],[0.1,0.9]]\n",
    "\n",
    "bn.cpt(\"Y1\")[{\"X1\":0,\"Pb\":0}]=[0.8,0.2]\n",
    "bn.cpt(\"Y1\")[{\"X1\":1,\"Pb\":0}]=[0.2,0.8]\n",
    "bn.cpt(\"Y1\")[{\"X1\":0,\"Pb\":1}]=[0.6,0.4]\n",
    "bn.cpt(\"Y1\")[{\"X1\":1,\"Pb\":1}]=[0.4,0.6]\n",
    "\n",
    "gnb.sideBySide(bn,bn.cpt(\"Ca\"),bn.cpt(\"Pb\"),bn.cpt(\"X1\"),bn.cpt(\"Y1\"))"
   ]
  },
  {
   "cell_type": "markdown",
   "metadata": {},
   "source": [
    "Actually the process is duplicated in the system but the control $C_a$ and the parameter $P_b$ are shared."
   ]
  },
  {
   "cell_type": "code",
   "execution_count": 3,
   "metadata": {
    "ExecuteTime": {
     "end_time": "2019-04-20T13:55:31.587630Z",
     "start_time": "2019-04-20T13:55:29.722118Z"
    }
   },
   "outputs": [
    {
     "data": {
      "text/html": [
       "<table style=\"border-style: hidden; border-collapse: collapse;\" width=\"100%\"><tr><td style=\"border-top:hidden;border-bottom:hidden;\"><div align=\"center\" style=\"\"><svg xmlns=\"http://www.w3.org/2000/svg\" xmlns:xlink=\"http://www.w3.org/1999/xlink\" width=\"206pt\" height=\"188pt\" viewBox=\"0.00 0.00 206.00 188.00\">\n",
       "<g id=\"graph0\" class=\"graph\" transform=\"scale(1 1) rotate(0) translate(4 184)\">\n",
       "<title>G</title>\n",
       "<!-- Ca -->\n",
       "<g id=\"node1\" class=\"node\">\n",
       "<title>Ca</title>\n",
       "<g id=\"a_node1\"><a xlink:title=\"(0) Ca\">\n",
       "<ellipse fill=\"#404040\" stroke=\"black\" cx=\"99\" cy=\"-162\" rx=\"27\" ry=\"18\"/>\n",
       "<text text-anchor=\"middle\" x=\"99\" y=\"-158.3\" font-family=\"Times,serif\" font-size=\"14.00\" fill=\"white\">Ca</text>\n",
       "</a>\n",
       "</g>\n",
       "</g>\n",
       "<!-- X1 -->\n",
       "<g id=\"node2\" class=\"node\">\n",
       "<title>X1</title>\n",
       "<g id=\"a_node2\"><a xlink:title=\"(1) X1\">\n",
       "<ellipse fill=\"#404040\" stroke=\"black\" cx=\"27\" cy=\"-90\" rx=\"27\" ry=\"18\"/>\n",
       "<text text-anchor=\"middle\" x=\"27\" y=\"-86.3\" font-family=\"Times,serif\" font-size=\"14.00\" fill=\"white\">X1</text>\n",
       "</a>\n",
       "</g>\n",
       "</g>\n",
       "<!-- Ca&#45;&gt;X1 -->\n",
       "<g id=\"edge1\" class=\"edge\">\n",
       "<title>Ca-&gt;X1</title>\n",
       "<g id=\"a_edge1\"><a xlink:title=\"(0, 1) : \">\n",
       "<path fill=\"none\" stroke=\"#4a4a4a\" d=\"M84.43,-146.83C74.25,-136.94 60.48,-123.55 48.97,-112.36\"/>\n",
       "<polygon fill=\"#4a4a4a\" stroke=\"#4a4a4a\" points=\"51.41,-109.85 41.8,-105.38 46.53,-114.87 51.41,-109.85\"/>\n",
       "</a>\n",
       "</g>\n",
       "</g>\n",
       "<!-- X2 -->\n",
       "<g id=\"node5\" class=\"node\">\n",
       "<title>X2</title>\n",
       "<g id=\"a_node5\"><a xlink:title=\"(4) X2\">\n",
       "<ellipse fill=\"#404040\" stroke=\"black\" cx=\"171\" cy=\"-90\" rx=\"27\" ry=\"18\"/>\n",
       "<text text-anchor=\"middle\" x=\"171\" y=\"-86.3\" font-family=\"Times,serif\" font-size=\"14.00\" fill=\"white\">X2</text>\n",
       "</a>\n",
       "</g>\n",
       "</g>\n",
       "<!-- Ca&#45;&gt;X2 -->\n",
       "<g id=\"edge3\" class=\"edge\">\n",
       "<title>Ca-&gt;X2</title>\n",
       "<g id=\"a_edge3\"><a xlink:title=\"(0, 4) : \">\n",
       "<path fill=\"none\" stroke=\"#4a4a4a\" d=\"M113.57,-146.83C123.75,-136.94 137.52,-123.55 149.03,-112.36\"/>\n",
       "<polygon fill=\"#4a4a4a\" stroke=\"#4a4a4a\" points=\"151.47,-114.87 156.2,-105.38 146.59,-109.85 151.47,-114.87\"/>\n",
       "</a>\n",
       "</g>\n",
       "</g>\n",
       "<!-- Y1 -->\n",
       "<g id=\"node3\" class=\"node\">\n",
       "<title>Y1</title>\n",
       "<g id=\"a_node3\"><a xlink:title=\"(2) Y1\">\n",
       "<ellipse fill=\"#404040\" stroke=\"black\" cx=\"45\" cy=\"-18\" rx=\"27\" ry=\"18\"/>\n",
       "<text text-anchor=\"middle\" x=\"45\" y=\"-14.3\" font-family=\"Times,serif\" font-size=\"14.00\" fill=\"white\">Y1</text>\n",
       "</a>\n",
       "</g>\n",
       "</g>\n",
       "<!-- X1&#45;&gt;Y1 -->\n",
       "<g id=\"edge2\" class=\"edge\">\n",
       "<title>X1-&gt;Y1</title>\n",
       "<g id=\"a_edge2\"><a xlink:title=\"(1, 2) : \">\n",
       "<path fill=\"none\" stroke=\"#4a4a4a\" d=\"M31.36,-72.05C33.39,-64.14 35.86,-54.54 38.14,-45.69\"/>\n",
       "<polygon fill=\"#4a4a4a\" stroke=\"#4a4a4a\" points=\"41.58,-46.35 40.68,-35.79 34.8,-44.6 41.58,-46.35\"/>\n",
       "</a>\n",
       "</g>\n",
       "</g>\n",
       "<!-- Pb -->\n",
       "<g id=\"node4\" class=\"node\">\n",
       "<title>Pb</title>\n",
       "<g id=\"a_node4\"><a xlink:title=\"(3) Pb\">\n",
       "<ellipse fill=\"#404040\" stroke=\"black\" cx=\"99\" cy=\"-90\" rx=\"27\" ry=\"18\"/>\n",
       "<text text-anchor=\"middle\" x=\"99\" y=\"-86.3\" font-family=\"Times,serif\" font-size=\"14.00\" fill=\"white\">Pb</text>\n",
       "</a>\n",
       "</g>\n",
       "</g>\n",
       "<!-- Pb&#45;&gt;Y1 -->\n",
       "<g id=\"edge5\" class=\"edge\">\n",
       "<title>Pb-&gt;Y1</title>\n",
       "<g id=\"a_edge5\"><a xlink:title=\"(3, 2) : \">\n",
       "<path fill=\"none\" stroke=\"#4a4a4a\" d=\"M87.02,-73.46C80.02,-64.4 71.06,-52.79 63.21,-42.61\"/>\n",
       "<polygon fill=\"#4a4a4a\" stroke=\"#4a4a4a\" points=\"65.83,-40.27 56.95,-34.49 60.29,-44.55 65.83,-40.27\"/>\n",
       "</a>\n",
       "</g>\n",
       "</g>\n",
       "<!-- Y2 -->\n",
       "<g id=\"node6\" class=\"node\">\n",
       "<title>Y2</title>\n",
       "<g id=\"a_node6\"><a xlink:title=\"(5) Y2\">\n",
       "<ellipse fill=\"#404040\" stroke=\"black\" cx=\"153\" cy=\"-18\" rx=\"27\" ry=\"18\"/>\n",
       "<text text-anchor=\"middle\" x=\"153\" y=\"-14.3\" font-family=\"Times,serif\" font-size=\"14.00\" fill=\"white\">Y2</text>\n",
       "</a>\n",
       "</g>\n",
       "</g>\n",
       "<!-- Pb&#45;&gt;Y2 -->\n",
       "<g id=\"edge6\" class=\"edge\">\n",
       "<title>Pb-&gt;Y2</title>\n",
       "<g id=\"a_edge6\"><a xlink:title=\"(3, 5) : \">\n",
       "<path fill=\"none\" stroke=\"#4a4a4a\" d=\"M110.98,-73.46C117.98,-64.4 126.94,-52.79 134.79,-42.61\"/>\n",
       "<polygon fill=\"#4a4a4a\" stroke=\"#4a4a4a\" points=\"137.71,-44.55 141.05,-34.49 132.17,-40.27 137.71,-44.55\"/>\n",
       "</a>\n",
       "</g>\n",
       "</g>\n",
       "<!-- X2&#45;&gt;Y2 -->\n",
       "<g id=\"edge4\" class=\"edge\">\n",
       "<title>X2-&gt;Y2</title>\n",
       "<g id=\"a_edge4\"><a xlink:title=\"(4, 5) : \">\n",
       "<path fill=\"none\" stroke=\"#4a4a4a\" d=\"M166.64,-72.05C164.61,-64.14 162.14,-54.54 159.86,-45.69\"/>\n",
       "<polygon fill=\"#4a4a4a\" stroke=\"#4a4a4a\" points=\"163.2,-44.6 157.32,-35.79 156.42,-46.35 163.2,-44.6\"/>\n",
       "</a>\n",
       "</g>\n",
       "</g>\n",
       "</g>\n",
       "</svg></div></td><td style=\"border-top:hidden;border-bottom:hidden;\"><div align=\"center\" style=\"\"><table style=\"border:1px solid black;\">\n",
       "<tr><th colspan='1'></th><th colspan='2' style='border:1px solid black;color:black;background-color:#808080;'><center>X2</center></th></tr>\n",
       "<tr><th style='border:1px solid black;color:black;background-color:#808080'><center>Ca</center></th><th style='border:1px solid black;border-bottom-style: double;color:black;background-color:#BBBBBB'><center>0</center></th><th style='border:1px solid black;border-bottom-style: double;color:black;background-color:#BBBBBB'><center>1</center></th></tr>\n",
       "<tr><th style='border:1px solid black;color:black;background-color:#BBBBBB'><center>0</center></th><td style='color:black;background-color:#8bf264;text-align:right;'>0.9000</td><td style='color:black;background-color:#f28b64;text-align:right;'>0.1000</td></tr>\n",
       "<tr><th style='border:1px solid black;color:black;background-color:#BBBBBB'><center>1</center></th><td style='color:black;background-color:#f28b64;text-align:right;'>0.1000</td><td style='color:black;background-color:#8bf264;text-align:right;'>0.9000</td></tr>\n",
       "</table></div></td><td style=\"border-top:hidden;border-bottom:hidden;\"><div align=\"center\" style=\"\"><table style=\"border:1px solid black;\">\n",
       "<tr><th colspan='2'></th><th colspan='2' style='border:1px solid black;color:black;background-color:#808080;'><center>Y2</center></th></tr>\n",
       "<tr><th style='border:1px solid black;color:black;background-color:#808080'><center>Pb</center></th><th style='border:1px solid black;color:black;background-color:#808080'><center>X2</center></th><th style='border:1px solid black;border-bottom-style: double;color:black;background-color:#BBBBBB'><center>0</center></th><th style='border:1px solid black;border-bottom-style: double;color:black;background-color:#BBBBBB'><center>1</center></th></tr>\n",
       "<tr><th style='border:1px solid black;color:black;background-color:#BBBBBB;' rowspan = '2'><center>0</center></th><th style='border:1px solid black;color:black;background-color:#BBBBBB'><center>0</center></th><td style='color:black;background-color:#98e564;text-align:right;'>0.8000</td><td style='color:black;background-color:#e59864;text-align:right;'>0.2000</td></tr>\n",
       "<tr><th style='border:1px solid black;color:black;background-color:#BBBBBB'><center>1</center></th><td style='color:black;background-color:#e59864;text-align:right;'>0.2000</td><td style='color:black;background-color:#98e564;text-align:right;'>0.8000</td></tr>\n",
       "<tr><th style='border:1px solid black;color:black;background-color:#BBBBBB;' rowspan = '2'><center>1</center></th><th style='border:1px solid black;color:black;background-color:#BBBBBB'><center>0</center></th><td style='color:black;background-color:#b2cb64;text-align:right;'>0.6000</td><td style='color:black;background-color:#cbb264;text-align:right;'>0.4000</td></tr>\n",
       "<tr><th style='border:1px solid black;color:black;background-color:#BBBBBB'><center>1</center></th><td style='color:black;background-color:#cbb264;text-align:right;'>0.4000</td><td style='color:black;background-color:#b2cb64;text-align:right;'>0.6000</td></tr>\n",
       "</table></div></td></tr></table>"
      ],
      "text/plain": [
       "<IPython.core.display.HTML object>"
      ]
     },
     "metadata": {},
     "output_type": "display_data"
    }
   ],
   "source": [
    "bn.add(\"X2\",2)\n",
    "bn.add(\"Y2\",2)\n",
    "bn.addArc(\"X2\",\"Y2\")\n",
    "bn.addArc(\"Ca\",\"X2\")\n",
    "bn.addArc(\"Pb\",\"Y2\")\n",
    "\n",
    "bn.cpt(\"X2\").fillWith(bn.cpt(\"X1\"),[\"X1\",\"Ca\"]) # copy cpt(X1) with the translation X2<-X1,Ca<-Ca\n",
    "bn.cpt(\"Y2\").fillWith(bn.cpt(\"Y1\"),[\"Y1\",\"X1\",\"Pb\"]) # copy cpt(Y1) with translation Y2<-Y1,X2<-X1,Pb<-Pb\n",
    "\n",
    "gnb.sideBySide(bn,bn.cpt(\"X2\"),bn.cpt(\"Y2\"))"
   ]
  },
  {
   "cell_type": "markdown",
   "metadata": {},
   "source": [
    "# Simulation of the data"
   ]
  },
  {
   "cell_type": "markdown",
   "metadata": {},
   "source": [
    "The process is partially observed : the control has been taken into account. However the parameter has not been identified and therefore is not collected. "
   ]
  },
  {
   "cell_type": "code",
   "execution_count": 4,
   "metadata": {
    "ExecuteTime": {
     "end_time": "2019-04-20T13:56:02.196696Z",
     "start_time": "2019-04-20T13:56:02.029209Z"
    }
   },
   "outputs": [],
   "source": [
    "#the base will be saved in completeData=\"out/complete_data.csv\", observedData=\"out/observed_data.csv\"\n",
    "import os\n",
    "completeData=os.path.join(\"out\",\"complete_data.csv\")\n",
    "observedData=os.path.join(\"out\",\"observed_data.csv\")\n",
    "fixedObsData=os.path.join(\"res\",\"fixed_observed_data.csv\")\n",
    "\n",
    "# generating complete date with pyAgrum\n",
    "size=35000\n",
    "#gum.generateCSV(bn,\"data.csv\",5000,random_order=True)\n",
    "generator=gum.BNDatabaseGenerator(bn)\n",
    "generator.setRandomVarOrder()\n",
    "generator.drawSamples(size)\n",
    "generator.toCSV(completeData)"
   ]
  },
  {
   "cell_type": "code",
   "execution_count": 5,
   "metadata": {
    "ExecuteTime": {
     "end_time": "2019-04-20T13:56:02.983558Z",
     "start_time": "2019-04-20T13:56:02.724915Z"
    }
   },
   "outputs": [],
   "source": [
    "# selecting some variables using pandas\n",
    "import pandas as pd\n",
    "f=pd.read_csv(completeData)\n",
    "keep_col = [\"X1\",\"Y1\",\"X2\",\"Y2\",\"Ca\"] # Pb is removed\n",
    "new_f = f[keep_col]\n",
    "new_f.to_csv(observedData, index=False)"
   ]
  },
  {
   "cell_type": "markdown",
   "metadata": {},
   "source": [
    "In order to have fixed results, we will use now a database <tt>fixed_observed_data.csv</tt> generated with the process above. "
   ]
  },
  {
   "cell_type": "markdown",
   "metadata": {},
   "source": [
    "# statistical learning \n",
    "\n",
    "Using a classical statistical learning method, one can approximate a model from the observed data."
   ]
  },
  {
   "cell_type": "code",
   "execution_count": 6,
   "metadata": {
    "ExecuteTime": {
     "end_time": "2019-04-20T13:56:03.831239Z",
     "start_time": "2019-04-20T13:56:03.756837Z"
    }
   },
   "outputs": [],
   "source": [
    "learner=gum.BNLearner(fixedObsData)\n",
    "learner.useGreedyHillClimbing()\n",
    "bn2=learner.learnBN()"
   ]
  },
  {
   "cell_type": "code",
   "execution_count": 7,
   "metadata": {
    "ExecuteTime": {
     "end_time": "2019-04-20T13:56:08.217471Z",
     "start_time": "2019-04-20T13:56:04.297924Z"
    }
   },
   "outputs": [
    {
     "data": {
      "text/html": [
       "<table style=\"border-style: hidden; border-collapse: collapse;\" width=\"100%\"><tr><td style=\"border-top:hidden;border-bottom:hidden;\"><div align=\"center\" style=\"\"><svg xmlns=\"http://www.w3.org/2000/svg\" xmlns:xlink=\"http://www.w3.org/1999/xlink\" width=\"206pt\" height=\"188pt\" viewBox=\"0.00 0.00 206.00 188.00\">\n",
       "<g id=\"graph0\" class=\"graph\" transform=\"scale(1 1) rotate(0) translate(4 184)\">\n",
       "<title>G</title>\n",
       "<!-- Ca -->\n",
       "<g id=\"node1\" class=\"node\">\n",
       "<title>Ca</title>\n",
       "<g id=\"a_node1\"><a xlink:title=\"(0) Ca\">\n",
       "<ellipse fill=\"#404040\" stroke=\"black\" cx=\"99\" cy=\"-162\" rx=\"27\" ry=\"18\"/>\n",
       "<text text-anchor=\"middle\" x=\"99\" y=\"-158.3\" font-family=\"Times,serif\" font-size=\"14.00\" fill=\"white\">Ca</text>\n",
       "</a>\n",
       "</g>\n",
       "</g>\n",
       "<!-- X1 -->\n",
       "<g id=\"node2\" class=\"node\">\n",
       "<title>X1</title>\n",
       "<g id=\"a_node2\"><a xlink:title=\"(1) X1\">\n",
       "<ellipse fill=\"#404040\" stroke=\"black\" cx=\"27\" cy=\"-90\" rx=\"27\" ry=\"18\"/>\n",
       "<text text-anchor=\"middle\" x=\"27\" y=\"-86.3\" font-family=\"Times,serif\" font-size=\"14.00\" fill=\"white\">X1</text>\n",
       "</a>\n",
       "</g>\n",
       "</g>\n",
       "<!-- Ca&#45;&gt;X1 -->\n",
       "<g id=\"edge1\" class=\"edge\">\n",
       "<title>Ca-&gt;X1</title>\n",
       "<g id=\"a_edge1\"><a xlink:title=\"(0, 1) : \">\n",
       "<path fill=\"none\" stroke=\"#4a4a4a\" d=\"M84.43,-146.83C74.25,-136.94 60.48,-123.55 48.97,-112.36\"/>\n",
       "<polygon fill=\"#4a4a4a\" stroke=\"#4a4a4a\" points=\"51.41,-109.85 41.8,-105.38 46.53,-114.87 51.41,-109.85\"/>\n",
       "</a>\n",
       "</g>\n",
       "</g>\n",
       "<!-- X2 -->\n",
       "<g id=\"node5\" class=\"node\">\n",
       "<title>X2</title>\n",
       "<g id=\"a_node5\"><a xlink:title=\"(4) X2\">\n",
       "<ellipse fill=\"#404040\" stroke=\"black\" cx=\"171\" cy=\"-90\" rx=\"27\" ry=\"18\"/>\n",
       "<text text-anchor=\"middle\" x=\"171\" y=\"-86.3\" font-family=\"Times,serif\" font-size=\"14.00\" fill=\"white\">X2</text>\n",
       "</a>\n",
       "</g>\n",
       "</g>\n",
       "<!-- Ca&#45;&gt;X2 -->\n",
       "<g id=\"edge3\" class=\"edge\">\n",
       "<title>Ca-&gt;X2</title>\n",
       "<g id=\"a_edge3\"><a xlink:title=\"(0, 4) : \">\n",
       "<path fill=\"none\" stroke=\"#4a4a4a\" d=\"M113.57,-146.83C123.75,-136.94 137.52,-123.55 149.03,-112.36\"/>\n",
       "<polygon fill=\"#4a4a4a\" stroke=\"#4a4a4a\" points=\"151.47,-114.87 156.2,-105.38 146.59,-109.85 151.47,-114.87\"/>\n",
       "</a>\n",
       "</g>\n",
       "</g>\n",
       "<!-- Y1 -->\n",
       "<g id=\"node3\" class=\"node\">\n",
       "<title>Y1</title>\n",
       "<g id=\"a_node3\"><a xlink:title=\"(2) Y1\">\n",
       "<ellipse fill=\"#404040\" stroke=\"black\" cx=\"45\" cy=\"-18\" rx=\"27\" ry=\"18\"/>\n",
       "<text text-anchor=\"middle\" x=\"45\" y=\"-14.3\" font-family=\"Times,serif\" font-size=\"14.00\" fill=\"white\">Y1</text>\n",
       "</a>\n",
       "</g>\n",
       "</g>\n",
       "<!-- X1&#45;&gt;Y1 -->\n",
       "<g id=\"edge2\" class=\"edge\">\n",
       "<title>X1-&gt;Y1</title>\n",
       "<g id=\"a_edge2\"><a xlink:title=\"(1, 2) : \">\n",
       "<path fill=\"none\" stroke=\"#4a4a4a\" d=\"M31.36,-72.05C33.39,-64.14 35.86,-54.54 38.14,-45.69\"/>\n",
       "<polygon fill=\"#4a4a4a\" stroke=\"#4a4a4a\" points=\"41.58,-46.35 40.68,-35.79 34.8,-44.6 41.58,-46.35\"/>\n",
       "</a>\n",
       "</g>\n",
       "</g>\n",
       "<!-- Pb -->\n",
       "<g id=\"node4\" class=\"node\">\n",
       "<title>Pb</title>\n",
       "<g id=\"a_node4\"><a xlink:title=\"(3) Pb\">\n",
       "<ellipse fill=\"#404040\" stroke=\"black\" cx=\"99\" cy=\"-90\" rx=\"27\" ry=\"18\"/>\n",
       "<text text-anchor=\"middle\" x=\"99\" y=\"-86.3\" font-family=\"Times,serif\" font-size=\"14.00\" fill=\"white\">Pb</text>\n",
       "</a>\n",
       "</g>\n",
       "</g>\n",
       "<!-- Pb&#45;&gt;Y1 -->\n",
       "<g id=\"edge5\" class=\"edge\">\n",
       "<title>Pb-&gt;Y1</title>\n",
       "<g id=\"a_edge5\"><a xlink:title=\"(3, 2) : \">\n",
       "<path fill=\"none\" stroke=\"#4a4a4a\" d=\"M87.02,-73.46C80.02,-64.4 71.06,-52.79 63.21,-42.61\"/>\n",
       "<polygon fill=\"#4a4a4a\" stroke=\"#4a4a4a\" points=\"65.83,-40.27 56.95,-34.49 60.29,-44.55 65.83,-40.27\"/>\n",
       "</a>\n",
       "</g>\n",
       "</g>\n",
       "<!-- Y2 -->\n",
       "<g id=\"node6\" class=\"node\">\n",
       "<title>Y2</title>\n",
       "<g id=\"a_node6\"><a xlink:title=\"(5) Y2\">\n",
       "<ellipse fill=\"#404040\" stroke=\"black\" cx=\"153\" cy=\"-18\" rx=\"27\" ry=\"18\"/>\n",
       "<text text-anchor=\"middle\" x=\"153\" y=\"-14.3\" font-family=\"Times,serif\" font-size=\"14.00\" fill=\"white\">Y2</text>\n",
       "</a>\n",
       "</g>\n",
       "</g>\n",
       "<!-- Pb&#45;&gt;Y2 -->\n",
       "<g id=\"edge6\" class=\"edge\">\n",
       "<title>Pb-&gt;Y2</title>\n",
       "<g id=\"a_edge6\"><a xlink:title=\"(3, 5) : \">\n",
       "<path fill=\"none\" stroke=\"#4a4a4a\" d=\"M110.98,-73.46C117.98,-64.4 126.94,-52.79 134.79,-42.61\"/>\n",
       "<polygon fill=\"#4a4a4a\" stroke=\"#4a4a4a\" points=\"137.71,-44.55 141.05,-34.49 132.17,-40.27 137.71,-44.55\"/>\n",
       "</a>\n",
       "</g>\n",
       "</g>\n",
       "<!-- X2&#45;&gt;Y2 -->\n",
       "<g id=\"edge4\" class=\"edge\">\n",
       "<title>X2-&gt;Y2</title>\n",
       "<g id=\"a_edge4\"><a xlink:title=\"(4, 5) : \">\n",
       "<path fill=\"none\" stroke=\"#4a4a4a\" d=\"M166.64,-72.05C164.61,-64.14 162.14,-54.54 159.86,-45.69\"/>\n",
       "<polygon fill=\"#4a4a4a\" stroke=\"#4a4a4a\" points=\"163.2,-44.6 157.32,-35.79 156.42,-46.35 163.2,-44.6\"/>\n",
       "</a>\n",
       "</g>\n",
       "</g>\n",
       "</g>\n",
       "</svg></div></td><td style=\"border-top:hidden;border-bottom:hidden;\"><div align=\"center\" style=\"\"><svg xmlns=\"http://www.w3.org/2000/svg\" xmlns:xlink=\"http://www.w3.org/1999/xlink\" width=\"134pt\" height=\"260pt\" viewBox=\"0.00 0.00 134.00 260.00\">\n",
       "<g id=\"graph0\" class=\"graph\" transform=\"scale(1 1) rotate(0) translate(4 256)\">\n",
       "<title>G</title>\n",
       "<!-- X1 -->\n",
       "<g id=\"node1\" class=\"node\">\n",
       "<title>X1</title>\n",
       "<g id=\"a_node1\"><a xlink:title=\"(0) X1\">\n",
       "<ellipse fill=\"#404040\" stroke=\"black\" cx=\"27\" cy=\"-90\" rx=\"27\" ry=\"18\"/>\n",
       "<text text-anchor=\"middle\" x=\"27\" y=\"-86.3\" font-family=\"Times,serif\" font-size=\"14.00\" fill=\"white\">X1</text>\n",
       "</a>\n",
       "</g>\n",
       "</g>\n",
       "<!-- Y1 -->\n",
       "<g id=\"node2\" class=\"node\">\n",
       "<title>Y1</title>\n",
       "<g id=\"a_node2\"><a xlink:title=\"(1) Y1\">\n",
       "<ellipse fill=\"#404040\" stroke=\"black\" cx=\"63\" cy=\"-18\" rx=\"27\" ry=\"18\"/>\n",
       "<text text-anchor=\"middle\" x=\"63\" y=\"-14.3\" font-family=\"Times,serif\" font-size=\"14.00\" fill=\"white\">Y1</text>\n",
       "</a>\n",
       "</g>\n",
       "</g>\n",
       "<!-- X1&#45;&gt;Y1 -->\n",
       "<g id=\"edge1\" class=\"edge\">\n",
       "<title>X1-&gt;Y1</title>\n",
       "<g id=\"a_edge1\"><a xlink:title=\"(0, 1) : \">\n",
       "<path fill=\"none\" stroke=\"#4a4a4a\" d=\"M35.35,-72.76C39.71,-64.28 45.15,-53.71 50.04,-44.2\"/>\n",
       "<polygon fill=\"#4a4a4a\" stroke=\"#4a4a4a\" points=\"53.23,-45.64 54.7,-35.15 47.01,-42.44 53.23,-45.64\"/>\n",
       "</a>\n",
       "</g>\n",
       "</g>\n",
       "<!-- X2 -->\n",
       "<g id=\"node3\" class=\"node\">\n",
       "<title>X2</title>\n",
       "<g id=\"a_node3\"><a xlink:title=\"(2) X2\">\n",
       "<ellipse fill=\"#404040\" stroke=\"black\" cx=\"94\" cy=\"-162\" rx=\"27\" ry=\"18\"/>\n",
       "<text text-anchor=\"middle\" x=\"94\" y=\"-158.3\" font-family=\"Times,serif\" font-size=\"14.00\" fill=\"white\">X2</text>\n",
       "</a>\n",
       "</g>\n",
       "</g>\n",
       "<!-- Y2 -->\n",
       "<g id=\"node4\" class=\"node\">\n",
       "<title>Y2</title>\n",
       "<g id=\"a_node4\"><a xlink:title=\"(3) Y2\">\n",
       "<ellipse fill=\"#404040\" stroke=\"black\" cx=\"99\" cy=\"-90\" rx=\"27\" ry=\"18\"/>\n",
       "<text text-anchor=\"middle\" x=\"99\" y=\"-86.3\" font-family=\"Times,serif\" font-size=\"14.00\" fill=\"white\">Y2</text>\n",
       "</a>\n",
       "</g>\n",
       "</g>\n",
       "<!-- X2&#45;&gt;Y2 -->\n",
       "<g id=\"edge5\" class=\"edge\">\n",
       "<title>X2-&gt;Y2</title>\n",
       "<g id=\"a_edge5\"><a xlink:title=\"(2, 3) : \">\n",
       "<path fill=\"none\" stroke=\"#4a4a4a\" d=\"M95.24,-143.7C95.79,-135.98 96.45,-126.71 97.06,-118.11\"/>\n",
       "<polygon fill=\"#4a4a4a\" stroke=\"#4a4a4a\" points=\"100.56,-118.33 97.78,-108.1 93.57,-117.83 100.56,-118.33\"/>\n",
       "</a>\n",
       "</g>\n",
       "</g>\n",
       "<!-- Y2&#45;&gt;Y1 -->\n",
       "<g id=\"edge3\" class=\"edge\">\n",
       "<title>Y2-&gt;Y1</title>\n",
       "<g id=\"a_edge3\"><a xlink:title=\"(3, 1) : \">\n",
       "<path fill=\"none\" stroke=\"#4a4a4a\" d=\"M90.65,-72.76C86.29,-64.28 80.85,-53.71 75.96,-44.2\"/>\n",
       "<polygon fill=\"#4a4a4a\" stroke=\"#4a4a4a\" points=\"78.99,-42.44 71.3,-35.15 72.77,-45.64 78.99,-42.44\"/>\n",
       "</a>\n",
       "</g>\n",
       "</g>\n",
       "<!-- Ca -->\n",
       "<g id=\"node5\" class=\"node\">\n",
       "<title>Ca</title>\n",
       "<g id=\"a_node5\"><a xlink:title=\"(4) Ca\">\n",
       "<ellipse fill=\"#404040\" stroke=\"black\" cx=\"62\" cy=\"-234\" rx=\"27\" ry=\"18\"/>\n",
       "<text text-anchor=\"middle\" x=\"62\" y=\"-230.3\" font-family=\"Times,serif\" font-size=\"14.00\" fill=\"white\">Ca</text>\n",
       "</a>\n",
       "</g>\n",
       "</g>\n",
       "<!-- Ca&#45;&gt;X1 -->\n",
       "<g id=\"edge2\" class=\"edge\">\n",
       "<title>Ca-&gt;X1</title>\n",
       "<g id=\"a_edge2\"><a xlink:title=\"(4, 0) : \">\n",
       "<path fill=\"none\" stroke=\"#4a4a4a\" d=\"M57.85,-216.15C51.85,-191.81 40.7,-146.57 33.57,-117.67\"/>\n",
       "<polygon fill=\"#4a4a4a\" stroke=\"#4a4a4a\" points=\"36.94,-116.7 31.15,-107.82 30.14,-118.37 36.94,-116.7\"/>\n",
       "</a>\n",
       "</g>\n",
       "</g>\n",
       "<!-- Ca&#45;&gt;X2 -->\n",
       "<g id=\"edge4\" class=\"edge\">\n",
       "<title>Ca-&gt;X2</title>\n",
       "<g id=\"a_edge4\"><a xlink:title=\"(4, 2) : \">\n",
       "<path fill=\"none\" stroke=\"#4a4a4a\" d=\"M69.58,-216.41C73.37,-208.13 78.03,-197.92 82.27,-188.66\"/>\n",
       "<polygon fill=\"#4a4a4a\" stroke=\"#4a4a4a\" points=\"85.5,-190.02 86.47,-179.47 79.13,-187.11 85.5,-190.02\"/>\n",
       "</a>\n",
       "</g>\n",
       "</g>\n",
       "</g>\n",
       "</svg></div></td></tr><tr><td style=\"border-top:hidden;border-bottom:hidden;\"><div align=\"center\"><small>Original model</small></div></td><td style=\"border-top:hidden;border-bottom:hidden;\"><div align=\"center\"><small>Learned model (with no $P_b$ in the base)</small></div></td></tr></table>"
      ],
      "text/plain": [
       "<IPython.core.display.HTML object>"
      ]
     },
     "metadata": {},
     "output_type": "display_data"
    }
   ],
   "source": [
    "gnb.sideBySide(bn,bn2,\n",
    "               captions=['Original model','Learned model (with no $P_b$ in the base)'])"
   ]
  },
  {
   "cell_type": "markdown",
   "metadata": {},
   "source": [
    "# Evaluating the impact of $X2$ on $Y1$\n",
    "\n",
    "Using the database, a question for the user is to evaluate the impact of the value of $X2$ on $Y1$."
   ]
  },
  {
   "cell_type": "code",
   "execution_count": 8,
   "metadata": {
    "ExecuteTime": {
     "end_time": "2019-04-20T13:56:08.229619Z",
     "start_time": "2019-04-20T13:56:08.219921Z"
    },
    "scrolled": true
   },
   "outputs": [
    {
     "data": {
      "text/html": [
       "<table style=\"border-style: hidden; border-collapse: collapse;\" width=\"100%\"><tr><td style=\"border-top:hidden;border-bottom:hidden;\"><div align=\"center\" style=\"\"><table style=\"border:1px solid black;\">\n",
       "<tr><th colspan='1'></th><th colspan='2' style='border:1px solid black;color:black;background-color:#808080;'><center>Y1</center></th></tr>\n",
       "<tr><th style='border:1px solid black;color:black;background-color:#808080'><center>X2</center></th><th style='border:1px solid black;border-bottom-style: double;color:black;background-color:#BBBBBB'><center>0</center></th><th style='border:1px solid black;border-bottom-style: double;color:black;background-color:#BBBBBB'><center>1</center></th></tr>\n",
       "<tr><th style='border:1px solid black;color:black;background-color:#BBBBBB'><center>0</center></th><td style='color:black;background-color:#afce64;text-align:right;'>0.6211</td><td style='color:black;background-color:#ceaf64;text-align:right;'>0.3789</td></tr>\n",
       "<tr><th style='border:1px solid black;color:black;background-color:#BBBBBB'><center>1</center></th><td style='color:black;background-color:#c5b864;text-align:right;'>0.4508</td><td style='color:black;background-color:#b8c564;text-align:right;'>0.5492</td></tr>\n",
       "</table></div></td><td style=\"border-top:hidden;border-bottom:hidden;\"><div align=\"center\" style=\"\"><table style=\"border:1px solid black;\">\n",
       "<tr><th colspan='1'></th><th colspan='2' style='border:1px solid black;color:black;background-color:#808080;'><center>Y1</center></th></tr>\n",
       "<tr><th style='border:1px solid black;color:black;background-color:#808080'><center>X2</center></th><th style='border:1px solid black;border-bottom-style: double;color:black;background-color:#BBBBBB'><center>0</center></th><th style='border:1px solid black;border-bottom-style: double;color:black;background-color:#BBBBBB'><center>1</center></th></tr>\n",
       "<tr><th style='border:1px solid black;color:black;background-color:#BBBBBB'><center>0</center></th><td style='color:black;background-color:#afce64;text-align:right;'>0.6183</td><td style='color:black;background-color:#ceaf64;text-align:right;'>0.3817</td></tr>\n",
       "<tr><th style='border:1px solid black;color:black;background-color:#BBBBBB'><center>1</center></th><td style='color:black;background-color:#c6b764;text-align:right;'>0.4415</td><td style='color:black;background-color:#b7c664;text-align:right;'>0.5585</td></tr>\n",
       "</table></div></td><td style=\"border-top:hidden;border-bottom:hidden;\"><div align=\"center\" style=\"\"><table style=\"border:1px solid black;\">\n",
       "<tr><th colspan='1'></th><th colspan='2' style='border:1px solid black;color:black;background-color:#808080;'><center>Y1</center></th></tr>\n",
       "<tr><th style='border:1px solid black;color:black;background-color:#808080'><center>X2</center></th><th style='border:1px solid black;border-bottom-style: double;color:black;background-color:#BBBBBB'><center>0</center></th><th style='border:1px solid black;border-bottom-style: double;color:black;background-color:#BBBBBB'><center>1</center></th></tr>\n",
       "<tr><th style='border:1px solid black;color:black;background-color:#BBBBBB'><center>0</center></th><td style='text-align:right;'>0.4422</td><td style='text-align:right;'>-0.7249</td></tr>\n",
       "<tr><th style='border:1px solid black;color:black;background-color:#BBBBBB'><center>1</center></th><td style='text-align:right;'>2.0453</td><td style='text-align:right;'>-1.6787</td></tr>\n",
       "</table></div></td><td style=\"border-top:hidden;border-bottom:hidden;\"><div align=\"center\" style=\"\">7.722258840106097</div></td></tr><tr><td style=\"border-top:hidden;border-bottom:hidden;\"><div align=\"center\"><small>in original model</small></div></td><td style=\"border-top:hidden;border-bottom:hidden;\"><div align=\"center\"><small>in learned model</small></div></td><td style=\"border-top:hidden;border-bottom:hidden;\"><div align=\"center\"><small>relative errors</small></div></td><td style=\"border-top:hidden;border-bottom:hidden;\"><div align=\"center\"><small>quadratic error</small></div></td></tr></table>"
      ],
      "text/plain": [
       "<IPython.core.display.HTML object>"
      ]
     },
     "metadata": {},
     "output_type": "display_data"
    }
   ],
   "source": [
    "target=\"Y1\"\n",
    "evs=\"X2\"\n",
    "ie=gum.LazyPropagation(bn)\n",
    "ie2=gum.LazyPropagation(bn2)\n",
    "p1=ie.evidenceImpact(target,[evs])\n",
    "p2=gum.Potential(p1).fillWith(ie2.evidenceImpact(target,[evs]),[target,evs])\n",
    "errs=((p1-p2)/p1).scale(100)\n",
    "quaderr=(errs*errs).sum()\n",
    "gnb.sideBySide(p1,p2,errs,quaderr,\n",
    "              captions=['in original model','in learned model','relative errors','quadratic error'])\n"
   ]
  },
  {
   "cell_type": "markdown",
   "metadata": {},
   "source": [
    "# Evaluating the causal impact of $X2$ on $Y1$ with the learned model\n",
    "\n",
    "The statistician notes that the change wanted by the user to apply on $X_2$ is not an observation but rather an intervention. "
   ]
  },
  {
   "cell_type": "code",
   "execution_count": 9,
   "metadata": {
    "ExecuteTime": {
     "end_time": "2019-04-20T13:56:12.043753Z",
     "start_time": "2019-04-20T13:56:08.231799Z"
    }
   },
   "outputs": [
    {
     "data": {
      "text/html": [
       "<table style=\"border-style: hidden; border-collapse: collapse;\" width=\"100%\"><tr><td style=\"border-top:hidden;border-bottom:hidden;\"><div align=\"center\" style=\"\"><svg xmlns=\"http://www.w3.org/2000/svg\" xmlns:xlink=\"http://www.w3.org/1999/xlink\" width=\"206pt\" height=\"188pt\" viewBox=\"0.00 0.00 206.00 188.00\">\n",
       "<g id=\"graph0\" class=\"graph\" transform=\"scale(1 1) rotate(0) translate(4 184)\">\n",
       "<title>G</title>\n",
       "<!-- Ca -->\n",
       "<g id=\"node1\" class=\"node\">\n",
       "<title>Ca</title>\n",
       "<ellipse fill=\"#404040\" stroke=\"#4a4a4a\" cx=\"99\" cy=\"-162\" rx=\"27\" ry=\"18\"/>\n",
       "<text text-anchor=\"middle\" x=\"99\" y=\"-158.3\" font-family=\"Times,serif\" font-size=\"14.00\" fill=\"white\">Ca</text>\n",
       "</g>\n",
       "<!-- X1 -->\n",
       "<g id=\"node2\" class=\"node\">\n",
       "<title>X1</title>\n",
       "<ellipse fill=\"#404040\" stroke=\"#4a4a4a\" cx=\"27\" cy=\"-90\" rx=\"27\" ry=\"18\"/>\n",
       "<text text-anchor=\"middle\" x=\"27\" y=\"-86.3\" font-family=\"Times,serif\" font-size=\"14.00\" fill=\"white\">X1</text>\n",
       "</g>\n",
       "<!-- Ca&#45;&gt;X1 -->\n",
       "<g id=\"edge1\" class=\"edge\">\n",
       "<title>Ca-&gt;X1</title>\n",
       "<path fill=\"none\" stroke=\"#4a4a4a\" d=\"M83.73,-147.55C73.55,-137.65 59.78,-124.26 48.27,-113.08\"/>\n",
       "<path fill=\"none\" stroke=\"#4a4a4a\" d=\"M85.13,-146.12C74.95,-136.22 61.17,-122.83 49.67,-111.64\"/>\n",
       "<polygon fill=\"#4a4a4a\" stroke=\"#4a4a4a\" points=\"51.41,-109.85 41.8,-105.38 46.53,-114.87 51.41,-109.85\"/>\n",
       "</g>\n",
       "<!-- X2 -->\n",
       "<g id=\"node5\" class=\"node\">\n",
       "<title>X2</title>\n",
       "<ellipse fill=\"#404040\" stroke=\"#4a4a4a\" cx=\"171\" cy=\"-90\" rx=\"27\" ry=\"18\"/>\n",
       "<text text-anchor=\"middle\" x=\"171\" y=\"-86.3\" font-family=\"Times,serif\" font-size=\"14.00\" fill=\"white\">X2</text>\n",
       "</g>\n",
       "<!-- Ca&#45;&gt;X2 -->\n",
       "<g id=\"edge3\" class=\"edge\">\n",
       "<title>Ca-&gt;X2</title>\n",
       "<path fill=\"none\" stroke=\"#4a4a4a\" d=\"M112.87,-146.12C123.05,-136.22 136.83,-122.83 148.33,-111.64\"/>\n",
       "<path fill=\"none\" stroke=\"#4a4a4a\" d=\"M114.27,-147.55C124.45,-137.65 138.22,-124.26 149.73,-113.08\"/>\n",
       "<polygon fill=\"#4a4a4a\" stroke=\"#4a4a4a\" points=\"151.47,-114.87 156.2,-105.38 146.59,-109.85 151.47,-114.87\"/>\n",
       "</g>\n",
       "<!-- Y1 -->\n",
       "<g id=\"node3\" class=\"node\">\n",
       "<title>Y1</title>\n",
       "<ellipse fill=\"#404040\" stroke=\"#4a4a4a\" cx=\"45\" cy=\"-18\" rx=\"27\" ry=\"18\"/>\n",
       "<text text-anchor=\"middle\" x=\"45\" y=\"-14.3\" font-family=\"Times,serif\" font-size=\"14.00\" fill=\"white\">Y1</text>\n",
       "</g>\n",
       "<!-- X1&#45;&gt;Y1 -->\n",
       "<g id=\"edge2\" class=\"edge\">\n",
       "<title>X1-&gt;Y1</title>\n",
       "<path fill=\"none\" stroke=\"#4a4a4a\" d=\"M30.39,-71.81C32.42,-63.9 34.89,-54.29 37.17,-45.44\"/>\n",
       "<path fill=\"none\" stroke=\"#4a4a4a\" d=\"M32.33,-72.3C34.36,-64.39 36.83,-54.79 39.11,-45.94\"/>\n",
       "<polygon fill=\"#4a4a4a\" stroke=\"#4a4a4a\" points=\"41.58,-46.35 40.68,-35.79 34.8,-44.6 41.58,-46.35\"/>\n",
       "</g>\n",
       "<!-- Pb -->\n",
       "<g id=\"node4\" class=\"node\">\n",
       "<title>Pb</title>\n",
       "<ellipse fill=\"#404040\" stroke=\"#4a4a4a\" cx=\"99\" cy=\"-90\" rx=\"27\" ry=\"18\"/>\n",
       "<text text-anchor=\"middle\" x=\"99\" y=\"-86.3\" font-family=\"Times,serif\" font-size=\"14.00\" fill=\"white\">Pb</text>\n",
       "</g>\n",
       "<!-- Pb&#45;&gt;Y1 -->\n",
       "<g id=\"edge5\" class=\"edge\">\n",
       "<title>Pb-&gt;Y1</title>\n",
       "<path fill=\"none\" stroke=\"#4a4a4a\" d=\"M86.22,-74.08C79.23,-65.01 70.27,-53.4 62.42,-43.22\"/>\n",
       "<path fill=\"none\" stroke=\"#4a4a4a\" d=\"M87.81,-72.85C80.82,-63.79 71.86,-52.18 64.01,-42\"/>\n",
       "<polygon fill=\"#4a4a4a\" stroke=\"#4a4a4a\" points=\"65.83,-40.27 56.95,-34.49 60.29,-44.55 65.83,-40.27\"/>\n",
       "</g>\n",
       "<!-- Y2 -->\n",
       "<g id=\"node6\" class=\"node\">\n",
       "<title>Y2</title>\n",
       "<ellipse fill=\"#404040\" stroke=\"#4a4a4a\" cx=\"153\" cy=\"-18\" rx=\"27\" ry=\"18\"/>\n",
       "<text text-anchor=\"middle\" x=\"153\" y=\"-14.3\" font-family=\"Times,serif\" font-size=\"14.00\" fill=\"white\">Y2</text>\n",
       "</g>\n",
       "<!-- Pb&#45;&gt;Y2 -->\n",
       "<g id=\"edge6\" class=\"edge\">\n",
       "<title>Pb-&gt;Y2</title>\n",
       "<path fill=\"none\" stroke=\"#4a4a4a\" d=\"M110.19,-72.85C117.18,-63.79 126.14,-52.18 133.99,-42\"/>\n",
       "<path fill=\"none\" stroke=\"#4a4a4a\" d=\"M111.78,-74.08C118.77,-65.01 127.73,-53.4 135.58,-43.22\"/>\n",
       "<polygon fill=\"#4a4a4a\" stroke=\"#4a4a4a\" points=\"137.71,-44.55 141.05,-34.49 132.17,-40.27 137.71,-44.55\"/>\n",
       "</g>\n",
       "<!-- X2&#45;&gt;Y2 -->\n",
       "<g id=\"edge4\" class=\"edge\">\n",
       "<title>X2-&gt;Y2</title>\n",
       "<path fill=\"none\" stroke=\"#4a4a4a\" d=\"M165.67,-72.3C163.64,-64.39 161.17,-54.79 158.89,-45.94\"/>\n",
       "<path fill=\"none\" stroke=\"#4a4a4a\" d=\"M167.61,-71.81C165.58,-63.9 163.11,-54.29 160.83,-45.44\"/>\n",
       "<polygon fill=\"#4a4a4a\" stroke=\"#4a4a4a\" points=\"163.2,-44.6 157.32,-35.79 156.42,-46.35 163.2,-44.6\"/>\n",
       "</g>\n",
       "</g>\n",
       "</svg></div></td><td style=\"border-top:hidden;border-bottom:hidden;\"><div align=\"center\" style=\"\">$$\\begin{equation}P( Y1 \\mid \\hookrightarrow\\mkern-6.5muX2) = \\sum_{Ca}{P\\left(Y1\\mid Ca\\right) \\cdot P\\left(Ca\\right)}\\end{equation}$$</div></td><td style=\"border-top:hidden;border-bottom:hidden;\"><div align=\"center\" style=\"\"><table style=\"border:1px solid black;\">\n",
       "<tr style='border:1px solid black;color:black;background-color:#808080'><th colspan='2'><center>Y1</center></th></tr>\n",
       "<tr><th style='border:1px solid black;border-bottom-style: double;color:black;background-color:#BBBBBB'><center>0</center></th><th style='border:1px solid black;border-bottom-style: double;color:black;background-color:#BBBBBB'><center>1</center></th></tr>\n",
       "<tr><td style='color:black;background-color:#b5c864;text-align:right;'>0.5768</td><td style='color:black;background-color:#c8b564;text-align:right;'>0.4232</td></tr>\n",
       "</table></div></td></tr><tr><td style=\"border-top:hidden;border-bottom:hidden;\"><div align=\"center\"><small>Causal Model</small></div></td><td style=\"border-top:hidden;border-bottom:hidden;\"><div align=\"center\"><small>Explanation : backdoor ['Ca'] found.</small></div></td><td style=\"border-top:hidden;border-bottom:hidden;\"><div align=\"center\"><small>Impact : $P( Y1 \\mid \\hookrightarrow\\mkern-6.5muX2)$</small></div></td></tr></table>"
      ],
      "text/plain": [
       "<IPython.core.display.HTML object>"
      ]
     },
     "metadata": {},
     "output_type": "display_data"
    },
    {
     "data": {
      "text/html": [
       "<table style=\"border-style: hidden; border-collapse: collapse;\" width=\"100%\"><tr><td style=\"border-top:hidden;border-bottom:hidden;\"><div align=\"center\" style=\"\"><svg xmlns=\"http://www.w3.org/2000/svg\" xmlns:xlink=\"http://www.w3.org/1999/xlink\" width=\"134pt\" height=\"260pt\" viewBox=\"0.00 0.00 134.00 260.00\">\n",
       "<g id=\"graph0\" class=\"graph\" transform=\"scale(1 1) rotate(0) translate(4 256)\">\n",
       "<title>G</title>\n",
       "<!-- X1 -->\n",
       "<g id=\"node1\" class=\"node\">\n",
       "<title>X1</title>\n",
       "<ellipse fill=\"#404040\" stroke=\"#4a4a4a\" cx=\"27\" cy=\"-90\" rx=\"27\" ry=\"18\"/>\n",
       "<text text-anchor=\"middle\" x=\"27\" y=\"-86.3\" font-family=\"Times,serif\" font-size=\"14.00\" fill=\"white\">X1</text>\n",
       "</g>\n",
       "<!-- Y1 -->\n",
       "<g id=\"node2\" class=\"node\">\n",
       "<title>Y1</title>\n",
       "<ellipse fill=\"#404040\" stroke=\"#4a4a4a\" cx=\"63\" cy=\"-18\" rx=\"27\" ry=\"18\"/>\n",
       "<text text-anchor=\"middle\" x=\"63\" y=\"-14.3\" font-family=\"Times,serif\" font-size=\"14.00\" fill=\"white\">Y1</text>\n",
       "</g>\n",
       "<!-- X1&#45;&gt;Y1 -->\n",
       "<g id=\"edge1\" class=\"edge\">\n",
       "<title>X1-&gt;Y1</title>\n",
       "<path fill=\"none\" stroke=\"#4a4a4a\" d=\"M34.46,-72.31C38.82,-63.83 44.26,-53.26 49.15,-43.74\"/>\n",
       "<path fill=\"none\" stroke=\"#4a4a4a\" d=\"M36.24,-73.22C40.6,-64.74 46.04,-54.17 50.93,-44.65\"/>\n",
       "<polygon fill=\"#4a4a4a\" stroke=\"#4a4a4a\" points=\"53.23,-45.64 54.7,-35.15 47.01,-42.44 53.23,-45.64\"/>\n",
       "</g>\n",
       "<!-- X2 -->\n",
       "<g id=\"node3\" class=\"node\">\n",
       "<title>X2</title>\n",
       "<ellipse fill=\"#404040\" stroke=\"#4a4a4a\" cx=\"94\" cy=\"-162\" rx=\"27\" ry=\"18\"/>\n",
       "<text text-anchor=\"middle\" x=\"94\" y=\"-158.3\" font-family=\"Times,serif\" font-size=\"14.00\" fill=\"white\">X2</text>\n",
       "</g>\n",
       "<!-- Y2 -->\n",
       "<g id=\"node4\" class=\"node\">\n",
       "<title>Y2</title>\n",
       "<ellipse fill=\"#404040\" stroke=\"#4a4a4a\" cx=\"99\" cy=\"-90\" rx=\"27\" ry=\"18\"/>\n",
       "<text text-anchor=\"middle\" x=\"99\" y=\"-86.3\" font-family=\"Times,serif\" font-size=\"14.00\" fill=\"white\">Y2</text>\n",
       "</g>\n",
       "<!-- X2&#45;&gt;Y2 -->\n",
       "<g id=\"edge5\" class=\"edge\">\n",
       "<title>X2-&gt;Y2</title>\n",
       "<path fill=\"none\" stroke=\"#4a4a4a\" d=\"M94.24,-143.63C94.79,-135.91 95.45,-126.64 96.07,-118.04\"/>\n",
       "<path fill=\"none\" stroke=\"#4a4a4a\" d=\"M96.23,-143.77C96.78,-136.05 97.45,-126.78 98.06,-118.18\"/>\n",
       "<polygon fill=\"#4a4a4a\" stroke=\"#4a4a4a\" points=\"100.56,-118.33 97.78,-108.1 93.57,-117.83 100.56,-118.33\"/>\n",
       "</g>\n",
       "<!-- Y2&#45;&gt;Y1 -->\n",
       "<g id=\"edge3\" class=\"edge\">\n",
       "<title>Y2-&gt;Y1</title>\n",
       "<path fill=\"none\" stroke=\"#4a4a4a\" d=\"M89.76,-73.22C85.4,-64.74 79.96,-54.17 75.07,-44.65\"/>\n",
       "<path fill=\"none\" stroke=\"#4a4a4a\" d=\"M91.54,-72.31C87.18,-63.83 81.74,-53.26 76.85,-43.74\"/>\n",
       "<polygon fill=\"#4a4a4a\" stroke=\"#4a4a4a\" points=\"78.99,-42.44 71.3,-35.15 72.77,-45.64 78.99,-42.44\"/>\n",
       "</g>\n",
       "<!-- Ca -->\n",
       "<g id=\"node5\" class=\"node\">\n",
       "<title>Ca</title>\n",
       "<ellipse fill=\"#404040\" stroke=\"#4a4a4a\" cx=\"62\" cy=\"-234\" rx=\"27\" ry=\"18\"/>\n",
       "<text text-anchor=\"middle\" x=\"62\" y=\"-230.3\" font-family=\"Times,serif\" font-size=\"14.00\" fill=\"white\">Ca</text>\n",
       "</g>\n",
       "<!-- Ca&#45;&gt;X1 -->\n",
       "<g id=\"edge2\" class=\"edge\">\n",
       "<title>Ca-&gt;X1</title>\n",
       "<path fill=\"none\" stroke=\"#4a4a4a\" d=\"M56.88,-216.39C50.88,-192.05 39.73,-146.81 32.6,-117.9\"/>\n",
       "<path fill=\"none\" stroke=\"#4a4a4a\" d=\"M58.82,-215.91C52.82,-191.57 41.67,-146.33 34.54,-117.43\"/>\n",
       "<polygon fill=\"#4a4a4a\" stroke=\"#4a4a4a\" points=\"36.94,-116.7 31.15,-107.82 30.14,-118.37 36.94,-116.7\"/>\n",
       "</g>\n",
       "<!-- Ca&#45;&gt;X2 -->\n",
       "<g id=\"edge4\" class=\"edge\">\n",
       "<title>Ca-&gt;X2</title>\n",
       "<path fill=\"none\" stroke=\"#4a4a4a\" d=\"M68.67,-216C72.46,-207.71 77.12,-197.51 81.36,-188.25\"/>\n",
       "<path fill=\"none\" stroke=\"#4a4a4a\" d=\"M70.49,-216.83C74.28,-208.54 78.94,-198.34 83.18,-189.08\"/>\n",
       "<polygon fill=\"#4a4a4a\" stroke=\"#4a4a4a\" points=\"85.5,-190.02 86.47,-179.47 79.13,-187.11 85.5,-190.02\"/>\n",
       "</g>\n",
       "</g>\n",
       "</svg></div></td><td style=\"border-top:hidden;border-bottom:hidden;\"><div align=\"center\" style=\"\">$$\\begin{equation}P( Y1 \\mid \\hookrightarrow\\mkern-6.5muX2) = \\sum_{X1}{P\\left(Y1\\mid X1,X2\\right) \\cdot P\\left(X1\\right)}\\end{equation}$$</div></td><td style=\"border-top:hidden;border-bottom:hidden;\"><div align=\"center\" style=\"\"><table style=\"border:1px solid black;\">\n",
       "<tr><th colspan='1'></th><th colspan='2' style='border:1px solid black;color:black;background-color:#808080;'><center>Y1</center></th></tr>\n",
       "<tr><th style='border:1px solid black;color:black;background-color:#808080'><center>X2</center></th><th style='border:1px solid black;border-bottom-style: double;color:black;background-color:#BBBBBB'><center>0</center></th><th style='border:1px solid black;border-bottom-style: double;color:black;background-color:#BBBBBB'><center>1</center></th></tr>\n",
       "<tr><th style='border:1px solid black;color:black;background-color:#BBBBBB'><center>0</center></th><td style='color:black;background-color:#b5c864;text-align:right;'>0.5743</td><td style='color:black;background-color:#c8b564;text-align:right;'>0.4257</td></tr>\n",
       "<tr><th style='border:1px solid black;color:black;background-color:#BBBBBB'><center>1</center></th><td style='color:black;background-color:#b6c764;text-align:right;'>0.5628</td><td style='color:black;background-color:#c7b664;text-align:right;'>0.4372</td></tr>\n",
       "</table></div></td></tr><tr><td style=\"border-top:hidden;border-bottom:hidden;\"><div align=\"center\"><small>Causal Model</small></div></td><td style=\"border-top:hidden;border-bottom:hidden;\"><div align=\"center\"><small>Explanation : backdoor ['X1'] found.</small></div></td><td style=\"border-top:hidden;border-bottom:hidden;\"><div align=\"center\"><small>Impact : $P( Y1 \\mid \\hookrightarrow\\mkern-6.5muX2)$</small></div></td></tr></table>"
      ],
      "text/plain": [
       "<IPython.core.display.HTML object>"
      ]
     },
     "metadata": {},
     "output_type": "display_data"
    }
   ],
   "source": [
    "import pyAgrum.causal as csl\n",
    "import pyAgrum.causal.notebook as cslnb\n",
    "\n",
    "model=csl.CausalModel(bn)\n",
    "model2=csl.CausalModel(bn2)\n",
    "cslnb.showCausalImpact(model,target, {evs})\n",
    "cslnb.showCausalImpact(model2,target, {evs})"
   ]
  },
  {
   "cell_type": "markdown",
   "metadata": {},
   "source": [
    "Unfortunately, due to the fact that $P_a$ is not learned, the computation of the causal impact still is imprecise."
   ]
  },
  {
   "cell_type": "code",
   "execution_count": 10,
   "metadata": {
    "ExecuteTime": {
     "end_time": "2019-04-20T13:56:12.058484Z",
     "start_time": "2019-04-20T13:56:12.047315Z"
    }
   },
   "outputs": [
    {
     "data": {
      "text/html": [
       "<table style=\"border-style: hidden; border-collapse: collapse;\" width=\"100%\"><tr><td style=\"border-top:hidden;border-bottom:hidden;\"><div align=\"center\" style=\"\"><table style=\"border:1px solid black;\">\n",
       "<tr style='border:1px solid black;color:black;background-color:#808080'><th colspan='2'><center>Y1</center></th></tr>\n",
       "<tr><th style='border:1px solid black;border-bottom-style: double;color:black;background-color:#BBBBBB'><center>0</center></th><th style='border:1px solid black;border-bottom-style: double;color:black;background-color:#BBBBBB'><center>1</center></th></tr>\n",
       "<tr><td style='color:black;background-color:#b5c864;text-align:right;'>0.5768</td><td style='color:black;background-color:#c8b564;text-align:right;'>0.4232</td></tr>\n",
       "</table></div></td><td style=\"border-top:hidden;border-bottom:hidden;\"><div align=\"center\" style=\"\"><table style=\"border:1px solid black;\">\n",
       "<tr><th colspan='1'></th><th colspan='2' style='border:1px solid black;color:black;background-color:#808080;'><center>Y1</center></th></tr>\n",
       "<tr><th style='border:1px solid black;color:black;background-color:#808080'><center>X2</center></th><th style='border:1px solid black;border-bottom-style: double;color:black;background-color:#BBBBBB'><center>0</center></th><th style='border:1px solid black;border-bottom-style: double;color:black;background-color:#BBBBBB'><center>1</center></th></tr>\n",
       "<tr><th style='border:1px solid black;color:black;background-color:#BBBBBB'><center>0</center></th><td style='color:black;background-color:#b5c864;text-align:right;'>0.5743</td><td style='color:black;background-color:#c8b564;text-align:right;'>0.4257</td></tr>\n",
       "<tr><th style='border:1px solid black;color:black;background-color:#BBBBBB'><center>1</center></th><td style='color:black;background-color:#b6c764;text-align:right;'>0.5628</td><td style='color:black;background-color:#c7b664;text-align:right;'>0.4372</td></tr>\n",
       "</table></div></td><td style=\"border-top:hidden;border-bottom:hidden;\"><div align=\"center\" style=\"\"><table style=\"border:1px solid black;\">\n",
       "<tr><th colspan='1'></th><th colspan='2' style='border:1px solid black;color:black;background-color:#808080;'><center>Y1</center></th></tr>\n",
       "<tr><th style='border:1px solid black;color:black;background-color:#808080'><center>X2</center></th><th style='border:1px solid black;border-bottom-style: double;color:black;background-color:#BBBBBB'><center>0</center></th><th style='border:1px solid black;border-bottom-style: double;color:black;background-color:#BBBBBB'><center>1</center></th></tr>\n",
       "<tr><th style='border:1px solid black;color:black;background-color:#BBBBBB'><center>0</center></th><td style='text-align:right;'>0.4414</td><td style='text-align:right;'>-0.6015</td></tr>\n",
       "<tr><th style='border:1px solid black;color:black;background-color:#BBBBBB'><center>1</center></th><td style='text-align:right;'>2.4251</td><td style='text-align:right;'>-3.3052</td></tr>\n",
       "</table></div></td><td style=\"border-top:hidden;border-bottom:hidden;\"><div align=\"center\" style=\"\">17.36224902446034</div></td></tr><tr><td style=\"border-top:hidden;border-bottom:hidden;\"><div align=\"center\"><small>$P( Y_1 \\mid \\hookrightarrow X_2)$ in original model</small></div></td><td style=\"border-top:hidden;border-bottom:hidden;\"><div align=\"center\"><small>$P( Y_1 \\mid \\hookrightarrow X_2)$ in learned model</small></div></td><td style=\"border-top:hidden;border-bottom:hidden;\"><div align=\"center\"><small>relative errors</small></div></td><td style=\"border-top:hidden;border-bottom:hidden;\"><div align=\"center\"><small>quadratic error</small></div></td></tr></table>"
      ],
      "text/plain": [
       "<IPython.core.display.HTML object>"
      ]
     },
     "metadata": {},
     "output_type": "display_data"
    }
   ],
   "source": [
    "_, impact1, _ = csl.causalImpact(model, on=target, doing={evs})\n",
    "_, impact2orig, _ = csl.causalImpact(model2, on=target, doing={evs})\n",
    "\n",
    "impact2=gum.Potential(p2).fillWith(impact2orig,['Y1','X2'])\n",
    "errs=((impact1-impact2)/impact1).scale(100)\n",
    "quaderr=(errs*errs).sum()\n",
    "gnb.sideBySide(impact1,impact2,errs,quaderr,\n",
    "              captions=['$P( Y_1 \\mid \\hookrightarrow X_2)$ in original model',\n",
    "                        '$P( Y_1 \\mid \\hookrightarrow X_2)$ in learned model','relative errors','quadratic error'])"
   ]
  },
  {
   "cell_type": "markdown",
   "metadata": {},
   "source": [
    "Just to be certain, we can verify that in the original model, $P( Y_1 \\mid \\hookrightarrow X_2)=P(Y_1)$"
   ]
  },
  {
   "cell_type": "code",
   "execution_count": 11,
   "metadata": {
    "ExecuteTime": {
     "end_time": "2019-04-20T13:56:12.073793Z",
     "start_time": "2019-04-20T13:56:12.060398Z"
    }
   },
   "outputs": [
    {
     "data": {
      "text/html": [
       "<table style=\"border-style: hidden; border-collapse: collapse;\" width=\"100%\"><tr><td style=\"border-top:hidden;border-bottom:hidden;\"><div align=\"center\" style=\"\"><table style=\"border:1px solid black;\">\n",
       "<tr style='border:1px solid black;color:black;background-color:#808080'><th colspan='2'><center>Y1</center></th></tr>\n",
       "<tr><th style='border:1px solid black;border-bottom-style: double;color:black;background-color:#BBBBBB'><center>0</center></th><th style='border:1px solid black;border-bottom-style: double;color:black;background-color:#BBBBBB'><center>1</center></th></tr>\n",
       "<tr><td style='color:black;background-color:#b5c864;text-align:right;'>0.5768</td><td style='color:black;background-color:#c8b564;text-align:right;'>0.4232</td></tr>\n",
       "</table></div></td><td style=\"border-top:hidden;border-bottom:hidden;\"><div align=\"center\" style=\"\"><table style=\"border:1px solid black;\">\n",
       "<tr style='border:1px solid black;color:black;background-color:#808080'><th colspan='2'><center>Y1</center></th></tr>\n",
       "<tr><th style='border:1px solid black;border-bottom-style: double;color:black;background-color:#BBBBBB'><center>0</center></th><th style='border:1px solid black;border-bottom-style: double;color:black;background-color:#BBBBBB'><center>1</center></th></tr>\n",
       "<tr><td style='color:black;background-color:#b5c864;text-align:right;'>0.5768</td><td style='color:black;background-color:#c8b564;text-align:right;'>0.4232</td></tr>\n",
       "</table></div></td></tr><tr><td style=\"border-top:hidden;border-bottom:hidden;\"><div align=\"center\"><small>$P( Y_1 \\mid \\hookrightarrow X_2)$ in the original model</small></div></td><td style=\"border-top:hidden;border-bottom:hidden;\"><div align=\"center\"><small>$P(Y_1)$ in the original model</small></div></td></tr></table>"
      ],
      "text/plain": [
       "<IPython.core.display.HTML object>"
      ]
     },
     "metadata": {},
     "output_type": "display_data"
    }
   ],
   "source": [
    "gnb.sideBySide(impact1,ie.evidenceImpact(target,[]),\n",
    "               captions=[\"$P( Y_1 \\mid \\hookrightarrow X_2)$ in the original model\",\"$P(Y_1)$ in the original model\"])"
   ]
  },
  {
   "cell_type": "markdown",
   "metadata": {},
   "source": [
    "# Causal learning and causal impact\n",
    "\n",
    "Some learning algorthims such as MIIC (Verny et al., 2017) aim to find the trace of latent variables in the data"
   ]
  },
  {
   "cell_type": "code",
   "execution_count": 12,
   "metadata": {
    "ExecuteTime": {
     "end_time": "2019-04-20T13:56:12.178497Z",
     "start_time": "2019-04-20T13:56:12.075850Z"
    }
   },
   "outputs": [],
   "source": [
    "learner=gum.BNLearner(fixedObsData)\n",
    "learner.useMIIC()\n",
    "bn3=learner.learnBN()"
   ]
  },
  {
   "cell_type": "code",
   "execution_count": 13,
   "metadata": {
    "ExecuteTime": {
     "end_time": "2019-04-20T13:56:16.260504Z",
     "start_time": "2019-04-20T13:56:12.180391Z"
    }
   },
   "outputs": [
    {
     "data": {
      "text/html": [
       "<table style=\"border-style: hidden; border-collapse: collapse;\" width=\"100%\"><tr><td style=\"border-top:hidden;border-bottom:hidden;\"><div align=\"center\" style=\"\"><svg xmlns=\"http://www.w3.org/2000/svg\" xmlns:xlink=\"http://www.w3.org/1999/xlink\" width=\"206pt\" height=\"188pt\" viewBox=\"0.00 0.00 206.00 188.00\">\n",
       "<g id=\"graph0\" class=\"graph\" transform=\"scale(1 1) rotate(0) translate(4 184)\">\n",
       "<title>G</title>\n",
       "<!-- Ca -->\n",
       "<g id=\"node1\" class=\"node\">\n",
       "<title>Ca</title>\n",
       "<g id=\"a_node1\"><a xlink:title=\"(0) Ca\">\n",
       "<ellipse fill=\"#404040\" stroke=\"black\" cx=\"99\" cy=\"-162\" rx=\"27\" ry=\"18\"/>\n",
       "<text text-anchor=\"middle\" x=\"99\" y=\"-158.3\" font-family=\"Times,serif\" font-size=\"14.00\" fill=\"white\">Ca</text>\n",
       "</a>\n",
       "</g>\n",
       "</g>\n",
       "<!-- X1 -->\n",
       "<g id=\"node2\" class=\"node\">\n",
       "<title>X1</title>\n",
       "<g id=\"a_node2\"><a xlink:title=\"(1) X1\">\n",
       "<ellipse fill=\"#404040\" stroke=\"black\" cx=\"27\" cy=\"-90\" rx=\"27\" ry=\"18\"/>\n",
       "<text text-anchor=\"middle\" x=\"27\" y=\"-86.3\" font-family=\"Times,serif\" font-size=\"14.00\" fill=\"white\">X1</text>\n",
       "</a>\n",
       "</g>\n",
       "</g>\n",
       "<!-- Ca&#45;&gt;X1 -->\n",
       "<g id=\"edge1\" class=\"edge\">\n",
       "<title>Ca-&gt;X1</title>\n",
       "<g id=\"a_edge1\"><a xlink:title=\"(0, 1) : \">\n",
       "<path fill=\"none\" stroke=\"#4a4a4a\" d=\"M84.43,-146.83C74.25,-136.94 60.48,-123.55 48.97,-112.36\"/>\n",
       "<polygon fill=\"#4a4a4a\" stroke=\"#4a4a4a\" points=\"51.41,-109.85 41.8,-105.38 46.53,-114.87 51.41,-109.85\"/>\n",
       "</a>\n",
       "</g>\n",
       "</g>\n",
       "<!-- X2 -->\n",
       "<g id=\"node5\" class=\"node\">\n",
       "<title>X2</title>\n",
       "<g id=\"a_node5\"><a xlink:title=\"(4) X2\">\n",
       "<ellipse fill=\"#404040\" stroke=\"black\" cx=\"171\" cy=\"-90\" rx=\"27\" ry=\"18\"/>\n",
       "<text text-anchor=\"middle\" x=\"171\" y=\"-86.3\" font-family=\"Times,serif\" font-size=\"14.00\" fill=\"white\">X2</text>\n",
       "</a>\n",
       "</g>\n",
       "</g>\n",
       "<!-- Ca&#45;&gt;X2 -->\n",
       "<g id=\"edge3\" class=\"edge\">\n",
       "<title>Ca-&gt;X2</title>\n",
       "<g id=\"a_edge3\"><a xlink:title=\"(0, 4) : \">\n",
       "<path fill=\"none\" stroke=\"#4a4a4a\" d=\"M113.57,-146.83C123.75,-136.94 137.52,-123.55 149.03,-112.36\"/>\n",
       "<polygon fill=\"#4a4a4a\" stroke=\"#4a4a4a\" points=\"151.47,-114.87 156.2,-105.38 146.59,-109.85 151.47,-114.87\"/>\n",
       "</a>\n",
       "</g>\n",
       "</g>\n",
       "<!-- Y1 -->\n",
       "<g id=\"node3\" class=\"node\">\n",
       "<title>Y1</title>\n",
       "<g id=\"a_node3\"><a xlink:title=\"(2) Y1\">\n",
       "<ellipse fill=\"#404040\" stroke=\"black\" cx=\"45\" cy=\"-18\" rx=\"27\" ry=\"18\"/>\n",
       "<text text-anchor=\"middle\" x=\"45\" y=\"-14.3\" font-family=\"Times,serif\" font-size=\"14.00\" fill=\"white\">Y1</text>\n",
       "</a>\n",
       "</g>\n",
       "</g>\n",
       "<!-- X1&#45;&gt;Y1 -->\n",
       "<g id=\"edge2\" class=\"edge\">\n",
       "<title>X1-&gt;Y1</title>\n",
       "<g id=\"a_edge2\"><a xlink:title=\"(1, 2) : \">\n",
       "<path fill=\"none\" stroke=\"#4a4a4a\" d=\"M31.36,-72.05C33.39,-64.14 35.86,-54.54 38.14,-45.69\"/>\n",
       "<polygon fill=\"#4a4a4a\" stroke=\"#4a4a4a\" points=\"41.58,-46.35 40.68,-35.79 34.8,-44.6 41.58,-46.35\"/>\n",
       "</a>\n",
       "</g>\n",
       "</g>\n",
       "<!-- Pb -->\n",
       "<g id=\"node4\" class=\"node\">\n",
       "<title>Pb</title>\n",
       "<g id=\"a_node4\"><a xlink:title=\"(3) Pb\">\n",
       "<ellipse fill=\"#404040\" stroke=\"black\" cx=\"99\" cy=\"-90\" rx=\"27\" ry=\"18\"/>\n",
       "<text text-anchor=\"middle\" x=\"99\" y=\"-86.3\" font-family=\"Times,serif\" font-size=\"14.00\" fill=\"white\">Pb</text>\n",
       "</a>\n",
       "</g>\n",
       "</g>\n",
       "<!-- Pb&#45;&gt;Y1 -->\n",
       "<g id=\"edge5\" class=\"edge\">\n",
       "<title>Pb-&gt;Y1</title>\n",
       "<g id=\"a_edge5\"><a xlink:title=\"(3, 2) : \">\n",
       "<path fill=\"none\" stroke=\"#4a4a4a\" d=\"M87.02,-73.46C80.02,-64.4 71.06,-52.79 63.21,-42.61\"/>\n",
       "<polygon fill=\"#4a4a4a\" stroke=\"#4a4a4a\" points=\"65.83,-40.27 56.95,-34.49 60.29,-44.55 65.83,-40.27\"/>\n",
       "</a>\n",
       "</g>\n",
       "</g>\n",
       "<!-- Y2 -->\n",
       "<g id=\"node6\" class=\"node\">\n",
       "<title>Y2</title>\n",
       "<g id=\"a_node6\"><a xlink:title=\"(5) Y2\">\n",
       "<ellipse fill=\"#404040\" stroke=\"black\" cx=\"153\" cy=\"-18\" rx=\"27\" ry=\"18\"/>\n",
       "<text text-anchor=\"middle\" x=\"153\" y=\"-14.3\" font-family=\"Times,serif\" font-size=\"14.00\" fill=\"white\">Y2</text>\n",
       "</a>\n",
       "</g>\n",
       "</g>\n",
       "<!-- Pb&#45;&gt;Y2 -->\n",
       "<g id=\"edge6\" class=\"edge\">\n",
       "<title>Pb-&gt;Y2</title>\n",
       "<g id=\"a_edge6\"><a xlink:title=\"(3, 5) : \">\n",
       "<path fill=\"none\" stroke=\"#4a4a4a\" d=\"M110.98,-73.46C117.98,-64.4 126.94,-52.79 134.79,-42.61\"/>\n",
       "<polygon fill=\"#4a4a4a\" stroke=\"#4a4a4a\" points=\"137.71,-44.55 141.05,-34.49 132.17,-40.27 137.71,-44.55\"/>\n",
       "</a>\n",
       "</g>\n",
       "</g>\n",
       "<!-- X2&#45;&gt;Y2 -->\n",
       "<g id=\"edge4\" class=\"edge\">\n",
       "<title>X2-&gt;Y2</title>\n",
       "<g id=\"a_edge4\"><a xlink:title=\"(4, 5) : \">\n",
       "<path fill=\"none\" stroke=\"#4a4a4a\" d=\"M166.64,-72.05C164.61,-64.14 162.14,-54.54 159.86,-45.69\"/>\n",
       "<polygon fill=\"#4a4a4a\" stroke=\"#4a4a4a\" points=\"163.2,-44.6 157.32,-35.79 156.42,-46.35 163.2,-44.6\"/>\n",
       "</a>\n",
       "</g>\n",
       "</g>\n",
       "</g>\n",
       "</svg></div></td><td style=\"border-top:hidden;border-bottom:hidden;\"><div align=\"center\" style=\"\"><svg xmlns=\"http://www.w3.org/2000/svg\" xmlns:xlink=\"http://www.w3.org/1999/xlink\" width=\"134pt\" height=\"260pt\" viewBox=\"0.00 0.00 134.00 260.00\">\n",
       "<g id=\"graph0\" class=\"graph\" transform=\"scale(1 1) rotate(0) translate(4 256)\">\n",
       "<title>G</title>\n",
       "<!-- X1 -->\n",
       "<g id=\"node1\" class=\"node\">\n",
       "<title>X1</title>\n",
       "<g id=\"a_node1\"><a xlink:title=\"(0) X1\">\n",
       "<ellipse fill=\"#404040\" stroke=\"black\" cx=\"27\" cy=\"-90\" rx=\"27\" ry=\"18\"/>\n",
       "<text text-anchor=\"middle\" x=\"27\" y=\"-86.3\" font-family=\"Times,serif\" font-size=\"14.00\" fill=\"white\">X1</text>\n",
       "</a>\n",
       "</g>\n",
       "</g>\n",
       "<!-- Y1 -->\n",
       "<g id=\"node2\" class=\"node\">\n",
       "<title>Y1</title>\n",
       "<g id=\"a_node2\"><a xlink:title=\"(1) Y1\">\n",
       "<ellipse fill=\"#404040\" stroke=\"black\" cx=\"63\" cy=\"-18\" rx=\"27\" ry=\"18\"/>\n",
       "<text text-anchor=\"middle\" x=\"63\" y=\"-14.3\" font-family=\"Times,serif\" font-size=\"14.00\" fill=\"white\">Y1</text>\n",
       "</a>\n",
       "</g>\n",
       "</g>\n",
       "<!-- X1&#45;&gt;Y1 -->\n",
       "<g id=\"edge1\" class=\"edge\">\n",
       "<title>X1-&gt;Y1</title>\n",
       "<g id=\"a_edge1\"><a xlink:title=\"(0, 1) : \">\n",
       "<path fill=\"none\" stroke=\"#4a4a4a\" d=\"M35.35,-72.76C39.71,-64.28 45.15,-53.71 50.04,-44.2\"/>\n",
       "<polygon fill=\"#4a4a4a\" stroke=\"#4a4a4a\" points=\"53.23,-45.64 54.7,-35.15 47.01,-42.44 53.23,-45.64\"/>\n",
       "</a>\n",
       "</g>\n",
       "</g>\n",
       "<!-- X2 -->\n",
       "<g id=\"node3\" class=\"node\">\n",
       "<title>X2</title>\n",
       "<g id=\"a_node3\"><a xlink:title=\"(2) X2\">\n",
       "<ellipse fill=\"#404040\" stroke=\"black\" cx=\"94\" cy=\"-162\" rx=\"27\" ry=\"18\"/>\n",
       "<text text-anchor=\"middle\" x=\"94\" y=\"-158.3\" font-family=\"Times,serif\" font-size=\"14.00\" fill=\"white\">X2</text>\n",
       "</a>\n",
       "</g>\n",
       "</g>\n",
       "<!-- Y2 -->\n",
       "<g id=\"node4\" class=\"node\">\n",
       "<title>Y2</title>\n",
       "<g id=\"a_node4\"><a xlink:title=\"(3) Y2\">\n",
       "<ellipse fill=\"#404040\" stroke=\"black\" cx=\"99\" cy=\"-90\" rx=\"27\" ry=\"18\"/>\n",
       "<text text-anchor=\"middle\" x=\"99\" y=\"-86.3\" font-family=\"Times,serif\" font-size=\"14.00\" fill=\"white\">Y2</text>\n",
       "</a>\n",
       "</g>\n",
       "</g>\n",
       "<!-- X2&#45;&gt;Y2 -->\n",
       "<g id=\"edge5\" class=\"edge\">\n",
       "<title>X2-&gt;Y2</title>\n",
       "<g id=\"a_edge5\"><a xlink:title=\"(2, 3) : \">\n",
       "<path fill=\"none\" stroke=\"#4a4a4a\" d=\"M95.24,-143.7C95.79,-135.98 96.45,-126.71 97.06,-118.11\"/>\n",
       "<polygon fill=\"#4a4a4a\" stroke=\"#4a4a4a\" points=\"100.56,-118.33 97.78,-108.1 93.57,-117.83 100.56,-118.33\"/>\n",
       "</a>\n",
       "</g>\n",
       "</g>\n",
       "<!-- Y2&#45;&gt;Y1 -->\n",
       "<g id=\"edge3\" class=\"edge\">\n",
       "<title>Y2-&gt;Y1</title>\n",
       "<g id=\"a_edge3\"><a xlink:title=\"(3, 1) : \">\n",
       "<path fill=\"none\" stroke=\"#4a4a4a\" d=\"M90.65,-72.76C86.29,-64.28 80.85,-53.71 75.96,-44.2\"/>\n",
       "<polygon fill=\"#4a4a4a\" stroke=\"#4a4a4a\" points=\"78.99,-42.44 71.3,-35.15 72.77,-45.64 78.99,-42.44\"/>\n",
       "</a>\n",
       "</g>\n",
       "</g>\n",
       "<!-- Ca -->\n",
       "<g id=\"node5\" class=\"node\">\n",
       "<title>Ca</title>\n",
       "<g id=\"a_node5\"><a xlink:title=\"(4) Ca\">\n",
       "<ellipse fill=\"#404040\" stroke=\"black\" cx=\"62\" cy=\"-234\" rx=\"27\" ry=\"18\"/>\n",
       "<text text-anchor=\"middle\" x=\"62\" y=\"-230.3\" font-family=\"Times,serif\" font-size=\"14.00\" fill=\"white\">Ca</text>\n",
       "</a>\n",
       "</g>\n",
       "</g>\n",
       "<!-- Ca&#45;&gt;X1 -->\n",
       "<g id=\"edge2\" class=\"edge\">\n",
       "<title>Ca-&gt;X1</title>\n",
       "<g id=\"a_edge2\"><a xlink:title=\"(4, 0) : \">\n",
       "<path fill=\"none\" stroke=\"#4a4a4a\" d=\"M57.85,-216.15C51.85,-191.81 40.7,-146.57 33.57,-117.67\"/>\n",
       "<polygon fill=\"#4a4a4a\" stroke=\"#4a4a4a\" points=\"36.94,-116.7 31.15,-107.82 30.14,-118.37 36.94,-116.7\"/>\n",
       "</a>\n",
       "</g>\n",
       "</g>\n",
       "<!-- Ca&#45;&gt;X2 -->\n",
       "<g id=\"edge4\" class=\"edge\">\n",
       "<title>Ca-&gt;X2</title>\n",
       "<g id=\"a_edge4\"><a xlink:title=\"(4, 2) : \">\n",
       "<path fill=\"none\" stroke=\"#4a4a4a\" d=\"M69.58,-216.41C73.37,-208.13 78.03,-197.92 82.27,-188.66\"/>\n",
       "<polygon fill=\"#4a4a4a\" stroke=\"#4a4a4a\" points=\"85.5,-190.02 86.47,-179.47 79.13,-187.11 85.5,-190.02\"/>\n",
       "</a>\n",
       "</g>\n",
       "</g>\n",
       "</g>\n",
       "</svg></div></td><td style=\"border-top:hidden;border-bottom:hidden;\"><div align=\"center\" style=\"\">[('Y2', 'Y1')]</div></td></tr><tr><td style=\"border-top:hidden;border-bottom:hidden;\"><div align=\"center\"><small>original model</small></div></td><td style=\"border-top:hidden;border-bottom:hidden;\"><div align=\"center\"><small>learned model</small></div></td><td style=\"border-top:hidden;border-bottom:hidden;\"><div align=\"center\"><small>Latent variables found</small></div></td></tr></table>"
      ],
      "text/plain": [
       "<IPython.core.display.HTML object>"
      ]
     },
     "metadata": {},
     "output_type": "display_data"
    }
   ],
   "source": [
    "gnb.sideBySide(bn,bn3,[(bn3.variable(i).name(),bn3.variable(j).name()) for (i,j) in learner.latentVariables()],\n",
    "              captions=['original model','learned model','Latent variables found'])"
   ]
  },
  {
   "cell_type": "markdown",
   "metadata": {},
   "source": [
    "Then we can build a causal model taking into account this latent variable found by MIIC."
   ]
  },
  {
   "cell_type": "code",
   "execution_count": 14,
   "metadata": {
    "ExecuteTime": {
     "end_time": "2019-04-20T13:56:18.445928Z",
     "start_time": "2019-04-20T13:56:16.265708Z"
    }
   },
   "outputs": [
    {
     "data": {
      "text/html": [
       "<table style=\"border-style: hidden; border-collapse: collapse;\" width=\"100%\"><tr><td style=\"border-top:hidden;border-bottom:hidden;\"><div align=\"center\" style=\"\"><svg xmlns=\"http://www.w3.org/2000/svg\" xmlns:xlink=\"http://www.w3.org/1999/xlink\" width=\"156pt\" height=\"188pt\" viewBox=\"0.00 0.00 156.00 188.00\">\n",
       "<g id=\"graph0\" class=\"graph\" transform=\"scale(1 1) rotate(0) translate(4 184)\">\n",
       "<title>G</title>\n",
       "<!-- L1 -->\n",
       "<g id=\"node1\" class=\"node\">\n",
       "<title>L1</title>\n",
       "<ellipse fill=\"#404040\" stroke=\"#4a4a4a\" cx=\"74\" cy=\"-90\" rx=\"1.8\" ry=\"1.8\"/>\n",
       "</g>\n",
       "<!-- Y1 -->\n",
       "<g id=\"node3\" class=\"node\">\n",
       "<title>Y1</title>\n",
       "<ellipse fill=\"#404040\" stroke=\"#4a4a4a\" cx=\"38\" cy=\"-18\" rx=\"27\" ry=\"18\"/>\n",
       "<text text-anchor=\"middle\" x=\"38\" y=\"-14.3\" font-family=\"Times,serif\" font-size=\"14.00\" fill=\"white\">Y1</text>\n",
       "</g>\n",
       "<!-- L1&#45;&gt;Y1 -->\n",
       "<g id=\"edge3\" class=\"edge\">\n",
       "<title>L1-&gt;Y1</title>\n",
       "<path fill=\"none\" stroke=\"#4a4a4a\" stroke-dasharray=\"5,2\" d=\"M73.6,-88.21C71.36,-83.87 60.27,-62.3 51.05,-44.38\"/>\n",
       "<polygon fill=\"#4a4a4a\" stroke=\"#4a4a4a\" points=\"54.15,-42.75 46.46,-35.46 47.92,-45.95 54.15,-42.75\"/>\n",
       "</g>\n",
       "<!-- Y2 -->\n",
       "<g id=\"node5\" class=\"node\">\n",
       "<title>Y2</title>\n",
       "<ellipse fill=\"#404040\" stroke=\"#4a4a4a\" cx=\"115\" cy=\"-18\" rx=\"27\" ry=\"18\"/>\n",
       "<text text-anchor=\"middle\" x=\"115\" y=\"-14.3\" font-family=\"Times,serif\" font-size=\"14.00\" fill=\"white\">Y2</text>\n",
       "</g>\n",
       "<!-- L1&#45;&gt;Y2 -->\n",
       "<g id=\"edge6\" class=\"edge\">\n",
       "<title>L1-&gt;Y2</title>\n",
       "<path fill=\"none\" stroke=\"#4a4a4a\" stroke-dasharray=\"5,2\" d=\"M74.46,-88.21C77.02,-83.84 89.79,-62.05 100.32,-44.07\"/>\n",
       "<polygon fill=\"#4a4a4a\" stroke=\"#4a4a4a\" points=\"103.52,-45.52 105.56,-35.13 97.48,-41.99 103.52,-45.52\"/>\n",
       "</g>\n",
       "<!-- X1 -->\n",
       "<g id=\"node2\" class=\"node\">\n",
       "<title>X1</title>\n",
       "<ellipse fill=\"#404040\" stroke=\"#4a4a4a\" cx=\"27\" cy=\"-90\" rx=\"27\" ry=\"18\"/>\n",
       "<text text-anchor=\"middle\" x=\"27\" y=\"-86.3\" font-family=\"Times,serif\" font-size=\"14.00\" fill=\"white\">X1</text>\n",
       "</g>\n",
       "<!-- X1&#45;&gt;Y1 -->\n",
       "<g id=\"edge1\" class=\"edge\">\n",
       "<title>X1-&gt;Y1</title>\n",
       "<path fill=\"none\" stroke=\"#4a4a4a\" d=\"M28.67,-71.9C29.89,-64.19 31.35,-54.87 32.71,-46.21\"/>\n",
       "<path fill=\"none\" stroke=\"#4a4a4a\" d=\"M30.65,-72.21C31.86,-64.5 33.33,-55.18 34.69,-46.52\"/>\n",
       "<polygon fill=\"#4a4a4a\" stroke=\"#4a4a4a\" points=\"37.19,-46.7 35.29,-36.28 30.28,-45.61 37.19,-46.7\"/>\n",
       "</g>\n",
       "<!-- X2 -->\n",
       "<g id=\"node4\" class=\"node\">\n",
       "<title>X2</title>\n",
       "<ellipse fill=\"#404040\" stroke=\"#4a4a4a\" cx=\"121\" cy=\"-90\" rx=\"27\" ry=\"18\"/>\n",
       "<text text-anchor=\"middle\" x=\"121\" y=\"-86.3\" font-family=\"Times,serif\" font-size=\"14.00\" fill=\"white\">X2</text>\n",
       "</g>\n",
       "<!-- X2&#45;&gt;Y2 -->\n",
       "<g id=\"edge5\" class=\"edge\">\n",
       "<title>X2-&gt;Y2</title>\n",
       "<path fill=\"none\" stroke=\"#4a4a4a\" d=\"M118.52,-71.78C117.86,-64.07 117.06,-54.8 116.33,-46.2\"/>\n",
       "<path fill=\"none\" stroke=\"#4a4a4a\" d=\"M120.51,-71.61C119.85,-63.9 119.06,-54.63 118.32,-46.03\"/>\n",
       "<polygon fill=\"#4a4a4a\" stroke=\"#4a4a4a\" points=\"120.81,-45.77 116.47,-36.1 113.83,-46.37 120.81,-45.77\"/>\n",
       "</g>\n",
       "<!-- Ca -->\n",
       "<g id=\"node6\" class=\"node\">\n",
       "<title>Ca</title>\n",
       "<ellipse fill=\"#404040\" stroke=\"#4a4a4a\" cx=\"74\" cy=\"-162\" rx=\"27\" ry=\"18\"/>\n",
       "<text text-anchor=\"middle\" x=\"74\" y=\"-158.3\" font-family=\"Times,serif\" font-size=\"14.00\" fill=\"white\">Ca</text>\n",
       "</g>\n",
       "<!-- Ca&#45;&gt;X1 -->\n",
       "<g id=\"edge2\" class=\"edge\">\n",
       "<title>Ca-&gt;X1</title>\n",
       "<path fill=\"none\" stroke=\"#4a4a4a\" d=\"M62.5,-145.67C56.62,-136.9 49.18,-125.82 42.56,-115.97\"/>\n",
       "<path fill=\"none\" stroke=\"#4a4a4a\" d=\"M64.17,-144.56C58.28,-135.79 50.84,-124.71 44.22,-114.86\"/>\n",
       "<polygon fill=\"#4a4a4a\" stroke=\"#4a4a4a\" points=\"46.1,-113.17 37.62,-106.82 40.29,-117.07 46.1,-113.17\"/>\n",
       "</g>\n",
       "<!-- Ca&#45;&gt;X2 -->\n",
       "<g id=\"edge4\" class=\"edge\">\n",
       "<title>Ca-&gt;X2</title>\n",
       "<path fill=\"none\" stroke=\"#4a4a4a\" d=\"M83.83,-144.56C89.72,-135.79 97.16,-124.71 103.78,-114.86\"/>\n",
       "<path fill=\"none\" stroke=\"#4a4a4a\" d=\"M85.5,-145.67C91.38,-136.9 98.82,-125.82 105.44,-115.97\"/>\n",
       "<polygon fill=\"#4a4a4a\" stroke=\"#4a4a4a\" points=\"107.71,-117.07 110.38,-106.82 101.9,-113.17 107.71,-117.07\"/>\n",
       "</g>\n",
       "</g>\n",
       "</svg></div></td><td style=\"border-top:hidden;border-bottom:hidden;\"><div align=\"center\" style=\"\">$$\\begin{equation}P( Y1 \\mid \\hookrightarrow\\mkern-6.5muX2) = \\sum_{X1}{P\\left(Y1\\mid X1\\right) \\cdot P\\left(X1\\right)}\\end{equation}$$</div></td><td style=\"border-top:hidden;border-bottom:hidden;\"><div align=\"center\" style=\"\"><table style=\"border:1px solid black;\">\n",
       "<tr style='border:1px solid black;color:black;background-color:#808080'><th colspan='2'><center>Y1</center></th></tr>\n",
       "<tr><th style='border:1px solid black;border-bottom-style: double;color:black;background-color:#BBBBBB'><center>0</center></th><th style='border:1px solid black;border-bottom-style: double;color:black;background-color:#BBBBBB'><center>1</center></th></tr>\n",
       "<tr><td style='color:black;background-color:#b5c864;text-align:right;'>0.5725</td><td style='color:black;background-color:#c8b564;text-align:right;'>0.4275</td></tr>\n",
       "</table></div></td></tr><tr><td style=\"border-top:hidden;border-bottom:hidden;\"><div align=\"center\"><small>Causal Model</small></div></td><td style=\"border-top:hidden;border-bottom:hidden;\"><div align=\"center\"><small>Explanation : backdoor ['X1'] found.</small></div></td><td style=\"border-top:hidden;border-bottom:hidden;\"><div align=\"center\"><small>Impact : $P( Y1 \\mid \\hookrightarrow\\mkern-6.5muX2)$</small></div></td></tr></table>"
      ],
      "text/plain": [
       "<IPython.core.display.HTML object>"
      ]
     },
     "metadata": {},
     "output_type": "display_data"
    }
   ],
   "source": [
    "model3=csl.CausalModel(bn2,[(\"L1\",(\"Y1\",\"Y2\"))])\n",
    "cslnb.showCausalImpact(model3,target, {evs})"
   ]
  },
  {
   "cell_type": "markdown",
   "metadata": {},
   "source": [
    "Then at least, the statistician can say that $X_2$ has no impact on $Y_1$ from the data. The error is just due to the approximation of the parameters in the database."
   ]
  },
  {
   "cell_type": "code",
   "execution_count": 15,
   "metadata": {
    "ExecuteTime": {
     "end_time": "2019-04-20T13:56:18.460053Z",
     "start_time": "2019-04-20T13:56:18.448486Z"
    }
   },
   "outputs": [
    {
     "data": {
      "text/html": [
       "<table style=\"border-style: hidden; border-collapse: collapse;\" width=\"100%\"><tr><td style=\"border-top:hidden;border-bottom:hidden;\"><div align=\"center\" style=\"\"><table style=\"border:1px solid black;\">\n",
       "<tr style='border:1px solid black;color:black;background-color:#808080'><th colspan='2'><center>Y1</center></th></tr>\n",
       "<tr><th style='border:1px solid black;border-bottom-style: double;color:black;background-color:#BBBBBB'><center>0</center></th><th style='border:1px solid black;border-bottom-style: double;color:black;background-color:#BBBBBB'><center>1</center></th></tr>\n",
       "<tr><td style='color:black;background-color:#b5c864;text-align:right;'>0.5768</td><td style='color:black;background-color:#c8b564;text-align:right;'>0.4232</td></tr>\n",
       "</table></div></td><td style=\"border-top:hidden;border-bottom:hidden;\"><div align=\"center\" style=\"\"><table style=\"border:1px solid black;\">\n",
       "<tr style='border:1px solid black;color:black;background-color:#808080'><th colspan='2'><center>Y1</center></th></tr>\n",
       "<tr><th style='border:1px solid black;border-bottom-style: double;color:black;background-color:#BBBBBB'><center>0</center></th><th style='border:1px solid black;border-bottom-style: double;color:black;background-color:#BBBBBB'><center>1</center></th></tr>\n",
       "<tr><td style='color:black;background-color:#b5c864;text-align:right;'>0.5725</td><td style='color:black;background-color:#c8b564;text-align:right;'>0.4275</td></tr>\n",
       "</table></div></td><td style=\"border-top:hidden;border-bottom:hidden;\"><div align=\"center\" style=\"\"><table style=\"border:1px solid black;\">\n",
       "<tr style='border:1px solid black;color:black;background-color:#808080'><th colspan='2'><center>Y1</center></th></tr>\n",
       "<tr><th style='border:1px solid black;border-bottom-style: double;color:black;background-color:#BBBBBB'><center>0</center></th><th style='border:1px solid black;border-bottom-style: double;color:black;background-color:#BBBBBB'><center>1</center></th></tr>\n",
       "<tr><td style='text-align:right;'>0.7454</td><td style='text-align:right;'>-1.0160</td></tr>\n",
       "</table></div></td><td style=\"border-top:hidden;border-bottom:hidden;\"><div align=\"center\" style=\"\">1.5878334363943256</div></td></tr><tr><td style=\"border-top:hidden;border-bottom:hidden;\"><div align=\"center\"><small>in original model</small></div></td><td style=\"border-top:hidden;border-bottom:hidden;\"><div align=\"center\"><small>in learned model</small></div></td><td style=\"border-top:hidden;border-bottom:hidden;\"><div align=\"center\"><small>relative errors</small></div></td><td style=\"border-top:hidden;border-bottom:hidden;\"><div align=\"center\"><small>quadratic error</small></div></td></tr></table>"
      ],
      "text/plain": [
       "<IPython.core.display.HTML object>"
      ]
     },
     "metadata": {},
     "output_type": "display_data"
    }
   ],
   "source": [
    "_, impact1, _ = csl.causalImpact(model, on=target, doing={evs})\n",
    "_, impact3orig, _ = csl.causalImpact(model3, on=target, doing={evs})\n",
    "\n",
    "impact3=gum.Potential(impact1).fillWith(impact3orig,['Y1'])\n",
    "errs=((impact1-impact3)/impact1).scale(100)\n",
    "quaderr=(errs*errs).sum()\n",
    "gnb.sideBySide(impact1,impact3,errs,quaderr,\n",
    "              captions=['in original model','in learned model','relative errors','quadratic error'])"
   ]
  },
  {
   "cell_type": "code",
   "execution_count": null,
   "metadata": {},
   "outputs": [],
   "source": []
  }
 ],
 "metadata": {
  "hide_input": false,
  "kernelspec": {
   "display_name": "Python 3",
   "language": "python",
   "name": "python3"
  },
  "language_info": {
   "codemirror_mode": {
    "name": "ipython",
    "version": 3
   },
   "file_extension": ".py",
   "mimetype": "text/x-python",
   "name": "python",
   "nbconvert_exporter": "python",
   "pygments_lexer": "ipython3",
   "version": "3.8.1"
  },
  "toc": {
   "colors": {
    "hover_highlight": "#DAA520",
    "running_highlight": "#FF0000",
    "selected_highlight": "#FFD700"
   },
   "moveMenuLeft": true,
   "nav_menu": {
    "height": "12px",
    "width": "252px"
   },
   "navigate_menu": true,
   "number_sections": true,
   "sideBar": true,
   "threshold": 4,
   "toc_cell": false,
   "toc_section_display": "block",
   "toc_window_display": true,
   "widenNotebook": false
  }
 },
 "nbformat": 4,
 "nbformat_minor": 4
}
