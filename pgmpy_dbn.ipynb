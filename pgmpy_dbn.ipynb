{
 "cells": [
  {
   "cell_type": "code",
   "execution_count": 14,
   "metadata": {},
   "outputs": [],
   "source": [
    "# Import required packages\n",
    "from pgmpy.models import DynamicBayesianNetwork as DBN\n",
    "from pgmpy.factors.discrete import TabularCPD"
   ]
  },
  {
   "cell_type": "code",
   "execution_count": 15,
   "metadata": {},
   "outputs": [],
   "source": [
    "# Creates DBN model\n",
    "dbnet = DBN()"
   ]
  },
  {
   "cell_type": "code",
   "execution_count": 16,
   "metadata": {},
   "outputs": [],
   "source": [
    "# Add arcs/connection to the DBN Model\n",
    "\n",
    "# The nodes are represented as a tuple which the first position is the node name and the second\n",
    "# the time slice index\n",
    "\n",
    "dbnet.add_edges_from(\n",
    "    [\n",
    "        \n",
    "        # Subject Arcs\n",
    "        (('CA', 0), ('H', 0)),\n",
    "        (('CO', 0), ('H', 0)),\n",
    "        \n",
    "        # Evidence Arcs\n",
    "        (('CA', 0), ('EvCA', 0)),\n",
    "        (('CO', 0), ('EvCO', 0)),\n",
    "        (('H', 0), ('EvH', 0)),\n",
    "        \n",
    "        # Transition Arcs\n",
    "        (('CA', 0), ('CA', 1)),\n",
    "        (('CO', 0), ('CO', 1)),\n",
    "        (('H', 0), ('H', 1))\n",
    "    ]\n",
    ")"
   ]
  },
  {
   "cell_type": "code",
   "execution_count": 17,
   "metadata": {},
   "outputs": [
    {
     "name": "stdout",
     "output_type": "stream",
     "text": [
      "\n",
      "Subject CPD for CA\n",
      "+--------------+-----+\n",
      "| ('CA', 0)(0) | 0.5 |\n",
      "+--------------+-----+\n",
      "| ('CA', 0)(1) | 0.5 |\n",
      "+--------------+-----+\n",
      "\n",
      "Subject CPD for CO\n",
      "+--------------+-----+\n",
      "| ('CO', 0)(0) | 0.5 |\n",
      "+--------------+-----+\n",
      "| ('CO', 0)(1) | 0.5 |\n",
      "+--------------+-----+\n",
      "\n",
      "Subject CPD for H\n",
      "+-------------+--------------+--------------+--------------+--------------+\n",
      "| ('CA', 0)   | ('CA', 0)(0) | ('CA', 0)(0) | ('CA', 0)(1) | ('CA', 0)(1) |\n",
      "+-------------+--------------+--------------+--------------+--------------+\n",
      "| ('CO', 0)   | ('CO', 0)(0) | ('CO', 0)(1) | ('CO', 0)(0) | ('CO', 0)(1) |\n",
      "+-------------+--------------+--------------+--------------+--------------+\n",
      "| ('H', 0)(0) | 0.9          | 0.65         | 0.65         | 0.2          |\n",
      "+-------------+--------------+--------------+--------------+--------------+\n",
      "| ('H', 0)(1) | 0.1          | 0.35         | 0.35         | 0.8          |\n",
      "+-------------+--------------+--------------+--------------+--------------+\n"
     ]
    }
   ],
   "source": [
    "# Create the subjects CPDs\n",
    "\n",
    "# Subjects CPDs\n",
    "\n",
    "ca_cpd = TabularCPD(\n",
    "    variable=('CA', 0),\n",
    "    variable_card=2,\n",
    "    values=[\n",
    "        [0.5, 0.5]\n",
    "    ]\n",
    ")\n",
    "\n",
    "print('\\nSubject CPD for CA')\n",
    "print(ca_cpd)\n",
    "\n",
    "co_cpd = TabularCPD(\n",
    "    variable=('CO', 0),\n",
    "    variable_card=2,\n",
    "    values=[\n",
    "        [0.5, 0.5]\n",
    "    ]\n",
    ")\n",
    "\n",
    "print('\\nSubject CPD for CO')\n",
    "print(co_cpd)\n",
    "\n",
    "h_cpd = TabularCPD(\n",
    "    variable=('H', 0),\n",
    "    variable_card=2,\n",
    "    values=[\n",
    "        [0.9, 0.65, 0.65, 0.2],\n",
    "        [0.1, 0.35, 0.35, 0.8]],\n",
    "    evidence=[('CA', 0), ('CO', 0)],\n",
    "    evidence_card=[2, 2]\n",
    ")\n",
    "\n",
    "print('\\nSubject CPD for H')\n",
    "print(h_cpd)\n",
    "\n",
    "subjects_cpds = [\n",
    "    ca_cpd,\n",
    "    co_cpd,\n",
    "    h_cpd\n",
    "]"
   ]
  },
  {
   "cell_type": "code",
   "execution_count": 18,
   "metadata": {},
   "outputs": [
    {
     "name": "stdout",
     "output_type": "stream",
     "text": [
      "\n",
      "Evidence CPD for CA at 0\n",
      "+----------------+--------------+--------------+\n",
      "| ('CA', 0)      | ('CA', 0)(0) | ('CA', 0)(1) |\n",
      "+----------------+--------------+--------------+\n",
      "| ('EvCA', 0)(0) | 0.8          | 0.1          |\n",
      "+----------------+--------------+--------------+\n",
      "| ('EvCA', 0)(1) | 0.2          | 0.9          |\n",
      "+----------------+--------------+--------------+\n",
      "\n",
      "Evidence CPD for CO at 0\n",
      "+----------------+--------------+--------------+\n",
      "| ('CO', 0)      | ('CO', 0)(0) | ('CO', 0)(1) |\n",
      "+----------------+--------------+--------------+\n",
      "| ('EvCO', 0)(0) | 0.8          | 0.1          |\n",
      "+----------------+--------------+--------------+\n",
      "| ('EvCO', 0)(1) | 0.2          | 0.9          |\n",
      "+----------------+--------------+--------------+\n",
      "\n",
      "Evidence CPD for H at 0\n",
      "+---------------+-------------+-------------+\n",
      "| ('H', 0)      | ('H', 0)(0) | ('H', 0)(1) |\n",
      "+---------------+-------------+-------------+\n",
      "| ('EvH', 0)(0) | 0.8         | 0.1         |\n",
      "+---------------+-------------+-------------+\n",
      "| ('EvH', 0)(1) | 0.2         | 0.9         |\n",
      "+---------------+-------------+-------------+\n"
     ]
    }
   ],
   "source": [
    "# Create the evidences CPDs\n",
    "\n",
    "# Evidences CPDs\n",
    "\n",
    "ev_ca_cpd = TabularCPD(\n",
    "    variable=('EvCA', 0),\n",
    "    variable_card=2,\n",
    "    values=[\n",
    "        [0.8, 0.1],\n",
    "        [0.2, 0.9]\n",
    "    ],\n",
    "    evidence=[('CA', 0)],\n",
    "    evidence_card=[2]\n",
    ")\n",
    "\n",
    "print('\\nEvidence CPD for CA at 0')\n",
    "print(ev_ca_cpd)\n",
    "\n",
    "ev_co_cpd = TabularCPD(\n",
    "    variable=('EvCO', 0),\n",
    "    variable_card=2,\n",
    "    values=[\n",
    "        [0.8, 0.1],\n",
    "        [0.2, 0.9]\n",
    "    ],\n",
    "    evidence=[('CO', 0)],\n",
    "    evidence_card=[2]\n",
    ")\n",
    "\n",
    "print('\\nEvidence CPD for CO at 0')\n",
    "print(ev_co_cpd)\n",
    "\n",
    "ev_h_cpd = TabularCPD(\n",
    "    variable=('EvH', 0),\n",
    "    variable_card=2,\n",
    "    values=[\n",
    "        [0.8, 0.1],\n",
    "        [0.2, 0.9]\n",
    "    ],\n",
    "    evidence=[('H', 0)],\n",
    "    evidence_card=[2]\n",
    ")\n",
    "\n",
    "print('\\nEvidence CPD for H at 0')\n",
    "print(ev_h_cpd)\n",
    "\n",
    "evidences_cpds = [\n",
    "    ev_ca_cpd,\n",
    "    ev_co_cpd,\n",
    "    ev_h_cpd\n",
    "]"
   ]
  },
  {
   "cell_type": "code",
   "execution_count": 19,
   "metadata": {},
   "outputs": [
    {
     "name": "stdout",
     "output_type": "stream",
     "text": [
      "\\Transition CPD for CO\n",
      "+--------------+--------------+--------------+\n",
      "| ('CA', 0)    | ('CA', 0)(0) | ('CA', 0)(1) |\n",
      "+--------------+--------------+--------------+\n",
      "| ('CA', 1)(0) | 0.999        | 0.001        |\n",
      "+--------------+--------------+--------------+\n",
      "| ('CA', 1)(1) | 0.001        | 0.999        |\n",
      "+--------------+--------------+--------------+\n",
      "\\Transition CPD for H\n",
      "+--------------+--------------+--------------+\n",
      "| ('CO', 0)    | ('CO', 0)(0) | ('CO', 0)(1) |\n",
      "+--------------+--------------+--------------+\n",
      "| ('CO', 1)(0) | 0.999        | 0.001        |\n",
      "+--------------+--------------+--------------+\n",
      "| ('CO', 1)(1) | 0.001        | 0.999        |\n",
      "+--------------+--------------+--------------+\n",
      "\\Transition CPD for H\n",
      "+-------------+--------------+--------------+--------------+--------------+--------------+--------------+--------------+--------------+\n",
      "| ('CA', 1)   | ('CA', 1)(0) | ('CA', 1)(0) | ('CA', 1)(0) | ('CA', 1)(0) | ('CA', 1)(1) | ('CA', 1)(1) | ('CA', 1)(1) | ('CA', 1)(1) |\n",
      "+-------------+--------------+--------------+--------------+--------------+--------------+--------------+--------------+--------------+\n",
      "| ('CO', 1)   | ('CO', 1)(0) | ('CO', 1)(0) | ('CO', 1)(1) | ('CO', 1)(1) | ('CO', 1)(0) | ('CO', 1)(0) | ('CO', 1)(1) | ('CO', 1)(1) |\n",
      "+-------------+--------------+--------------+--------------+--------------+--------------+--------------+--------------+--------------+\n",
      "| ('H', 0)    | ('H', 0)(0)  | ('H', 0)(1)  | ('H', 0)(0)  | ('H', 0)(1)  | ('H', 0)(0)  | ('H', 0)(1)  | ('H', 0)(0)  | ('H', 0)(1)  |\n",
      "+-------------+--------------+--------------+--------------+--------------+--------------+--------------+--------------+--------------+\n",
      "| ('H', 1)(0) | 0.9          | 0.85         | 0.85         | 0.35         | 0.85         | 0.35         | 0.35         | 0.1          |\n",
      "+-------------+--------------+--------------+--------------+--------------+--------------+--------------+--------------+--------------+\n",
      "| ('H', 1)(1) | 0.1          | 0.15         | 0.15         | 0.65         | 0.15         | 0.65         | 0.65         | 0.9          |\n",
      "+-------------+--------------+--------------+--------------+--------------+--------------+--------------+--------------+--------------+\n"
     ]
    }
   ],
   "source": [
    "# Create transitions CPDs\n",
    "# Transitions CPDs\n",
    "\n",
    "ca_transition_cpd = TabularCPD(\n",
    "    variable=('CA', 1),\n",
    "    variable_card=2,\n",
    "    values=[\n",
    "        [0.9990, 0.0010],\n",
    "        [0.0010, 0.9990]\n",
    "    ],\n",
    "    evidence=[('CA', 0)],\n",
    "    evidence_card=[2]\n",
    ")\n",
    "\n",
    "print('\\Transition CPD for CO')\n",
    "print(ca_transition_cpd)\n",
    "\n",
    "co_transition_cpd = TabularCPD(\n",
    "    variable=('CO', 1),\n",
    "    variable_card=2,\n",
    "    values=[\n",
    "        [0.9990, 0.0010],\n",
    "        [0.0010, 0.9990]\n",
    "    ],\n",
    "    evidence=[('CO', 0)],\n",
    "    evidence_card=[2]\n",
    ")\n",
    "\n",
    "print('\\Transition CPD for H')\n",
    "print(co_transition_cpd)\n",
    "\n",
    "h_transition_cpd = TabularCPD(\n",
    "    variable=('H', 1),\n",
    "    variable_card=2,\n",
    "    values=[\n",
    "        [0.9, 0.85, 0.85, 0.35, 0.85, 0.35, 0.35, 0.1],\n",
    "        [0.1, 0.15, 0.15, 0.65, 0.15, 0.65, 0.65, 0.9]\n",
    "    ],\n",
    "    evidence=[\n",
    "        ('CA', 1),\n",
    "        ('CO', 1),\n",
    "        ('H', 0),\n",
    "    ],\n",
    "    evidence_card=[2, 2, 2]\n",
    ")\n",
    "\n",
    "print('\\Transition CPD for H')\n",
    "print(h_transition_cpd)\n",
    "\n",
    "transitions_cpds = [\n",
    "    ca_transition_cpd,\n",
    "    co_transition_cpd,\n",
    "    h_transition_cpd\n",
    "]"
   ]
  },
  {
   "cell_type": "code",
   "execution_count": 20,
   "metadata": {},
   "outputs": [],
   "source": [
    "# Concatenate CPDs and add them to the DBN model\n",
    "\n",
    "cpds = subjects_cpds + evidences_cpds + transitions_cpds\n",
    "\n",
    "dbnet.add_cpds(*cpds)\n",
    "dbnet.initialize_initial_state()"
   ]
  },
  {
   "cell_type": "code",
   "execution_count": 21,
   "metadata": {},
   "outputs": [],
   "source": [
    "import networkx as nx\n",
    "import matplotlib.pyplot as plt"
   ]
  },
  {
   "cell_type": "code",
   "execution_count": 22,
   "metadata": {},
   "outputs": [
    {
     "data": {
      "image/png": "[encoded data removed]",
      "text/plain": [
       "<Figure size 432x288 with 1 Axes>"
      ]
     },
     "metadata": {},
     "output_type": "display_data"
    }
   ],
   "source": [
    "# nx.draw(student, with_labels=True)\n",
    "nx.draw(dbnet, with_labels=True)\n",
    "plt.show()"
   ]
  },
  {
   "cell_type": "code",
   "execution_count": 23,
   "metadata": {},
   "outputs": [],
   "source": [
    "# Import inference structure\n",
    "from pgmpy.inference import DBNInference"
   ]
  },
  {
   "cell_type": "code",
   "execution_count": 26,
   "metadata": {},
   "outputs": [
    {
     "name": "stderr",
     "output_type": "stream",
     "text": [
      "WARNING:root:Replacing existing CPD for ('CA', 1)\n",
      "WARNING:root:Replacing existing CPD for ('H', 1)\n",
      "WARNING:root:Replacing existing CPD for ('CO', 1)\n"
     ]
    }
   ],
   "source": [
    "# Create a inference object\n",
    "dbn_inf = DBNInference(dbnet)"
   ]
  },
  {
   "cell_type": "code",
   "execution_count": 27,
   "metadata": {},
   "outputs": [
    {
     "data": {
      "text/plain": [
       "NodeView(((('H', 0), ('EvH', 0)), (('H', 0), ('CA', 0), ('CO', 0)), (('EvCO', 0), ('CO', 0)), (('EvCA', 0), ('CA', 0))))"
      ]
     },
     "execution_count": 27,
     "metadata": {},
     "output_type": "execute_result"
    }
   ],
   "source": [
    "# Show nodes\n",
    "dbn_inf.start_junction_tree.nodes()"
   ]
  },
  {
   "cell_type": "code",
   "execution_count": 28,
   "metadata": {},
   "outputs": [
    {
     "data": {
      "text/plain": [
       "NodeView(((('EvH', 1), ('CA', 1), ('CO', 0), ('CA', 0), ('EvCA', 1), ('EvCO', 1)), (('EvH', 1), ('CA', 1), ('CO', 0), ('CA', 0), ('CO', 1), ('EvCO', 1)), (('EvH', 1), ('CA', 1), ('CO', 0), ('CA', 0), ('CO', 1), ('H', 0)), (('EvH', 1), ('CA', 1), ('H', 1), ('H', 0), ('CO', 1))))"
      ]
     },
     "execution_count": 28,
     "metadata": {},
     "output_type": "execute_result"
    }
   ],
   "source": [
    "dbn_inf.one_and_half_junction_tree.nodes()"
   ]
  },
  {
   "cell_type": "code",
   "execution_count": 29,
   "metadata": {},
   "outputs": [
    {
     "name": "stderr",
     "output_type": "stream",
     "text": [
      "Eliminating: ('CO', 0): 100%|██████████| 2/2 [00:00<00:00, 321.13it/s]"
     ]
    },
    {
     "name": "stdout",
     "output_type": "stream",
     "text": [
      "+--------------+------------------+\n",
      "| ('CA', 0)    |   phi(('CA', 0)) |\n",
      "+==============+==================+\n",
      "| ('CA', 0)(0) |           0.1818 |\n",
      "+--------------+------------------+\n",
      "| ('CA', 0)(1) |           0.8182 |\n",
      "+--------------+------------------+\n"
     ]
    },
    {
     "name": "stderr",
     "output_type": "stream",
     "text": [
      "\n"
     ]
    }
   ],
   "source": [
    "print(dbn_inf.forward_inference([('CA', 0)], {('EvCA', 0):1})[('CA', 0)])"
   ]
  },
  {
   "cell_type": "markdown",
   "metadata": {},
   "source": []
  },
  {
   "cell_type": "code",
   "execution_count": 30,
   "metadata": {},
   "outputs": [
    {
     "name": "stderr",
     "output_type": "stream",
     "text": [
      "Eliminating: ('CA', 0): 100%|██████████| 7/7 [00:00<00:00, 215.69it/s]"
     ]
    },
    {
     "name": "stdout",
     "output_type": "stream",
     "text": [
      "+--------------+------------------+\n",
      "| ('CA', 1)    |   phi(('CA', 1)) |\n",
      "+==============+==================+\n",
      "| ('CA', 1)(0) |           0.0473 |\n",
      "+--------------+------------------+\n",
      "| ('CA', 1)(1) |           0.9527 |\n",
      "+--------------+------------------+\n"
     ]
    },
    {
     "name": "stderr",
     "output_type": "stream",
     "text": [
      "\n"
     ]
    }
   ],
   "source": [
    "print(dbn_inf.forward_inference([('CA', 1)], {('EvCA', 1):1, ('EvCA', 0):1})[('CA', 1)])"
   ]
  },
  {
   "cell_type": "code",
   "execution_count": 72,
   "metadata": {},
   "outputs": [
    {
     "name": "stderr",
     "output_type": "stream",
     "text": [
      "Eliminating: ('Chuva', 0): 100%|██████████| 1/1 [00:00<00:00, 134.25it/s]"
     ]
    },
    {
     "name": "stdout",
     "output_type": "stream",
     "text": [
      "+-----------------+---------------------+\n",
      "| ('Chuva', 3)    |   phi(('Chuva', 3)) |\n",
      "+=================+=====================+\n",
      "| ('Chuva', 3)(0) |              0.1055 |\n",
      "+-----------------+---------------------+\n",
      "| ('Chuva', 3)(1) |              0.8945 |\n",
      "+-----------------+---------------------+\n"
     ]
    },
    {
     "name": "stderr",
     "output_type": "stream",
     "text": [
      "\n"
     ]
    }
   ],
   "source": [
    "print(dbn_inf.forward_inference([('CA', 1)], {('EvCA', 1):1, ('EvCA', 0):1})[('CA', 1)])"
   ]
  }
 ],
 "metadata": {
  "kernelspec": {
   "display_name": "Python 3",
   "language": "python",
   "name": "python3"
  },
  "language_info": {
   "codemirror_mode": {
    "name": "ipython",
    "version": 3
   },
   "file_extension": ".py",
   "mimetype": "text/x-python",
   "name": "python",
   "nbconvert_exporter": "python",
   "pygments_lexer": "ipython3",
   "version": "3.6.9"
  }
 },
 "nbformat": 4,
 "nbformat_minor": 4
}
