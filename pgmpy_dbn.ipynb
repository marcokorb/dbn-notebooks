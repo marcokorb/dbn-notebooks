{
 "cells": [
  {
   "cell_type": "code",
   "execution_count": 2,
   "metadata": {},
   "outputs": [],
   "source": [
    "# Import required packages\n",
    "from pgmpy.models import DynamicBayesianNetwork as DBN\n",
    "from pgmpy.factors.discrete import TabularCPD"
   ]
  },
  {
   "cell_type": "code",
   "execution_count": 3,
   "metadata": {},
   "outputs": [],
   "source": [
    "# Creates DBN model\n",
    "dbnet = DBN()"
   ]
  },
  {
   "cell_type": "code",
   "execution_count": 4,
   "metadata": {},
   "outputs": [],
   "source": [
    "# Add arcs/connection to the DBN Model\n",
    "\n",
    "# The nodes are represented as a tuple which the first position is the node name and the second\n",
    "# the time slice index\n",
    "\n",
    "dbnet.add_edges_from(\n",
    "    [\n",
    "        \n",
    "        # Subject Arcs\n",
    "        (('CA', 0), ('H', 0)),\n",
    "        (('CO', 0), ('H', 0)),\n",
    "        \n",
    "        # Evidence Arcs\n",
    "        (('CA', 0), ('EvCA', 0)),\n",
    "        (('CO', 0), ('EvCO', 0)),\n",
    "        (('H', 0), ('EvH', 0)),\n",
    "        \n",
    "        # Transition Arcs\n",
    "        (('CA', 0), ('CA', 1)),\n",
    "        (('CO', 0), ('CO', 1)),\n",
    "        (('H', 0), ('H', 1))\n",
    "    ]\n",
    ")"
   ]
  },
  {
   "cell_type": "code",
   "execution_count": 5,
   "metadata": {},
   "outputs": [
    {
     "name": "stdout",
     "output_type": "stream",
     "text": [
      "\n",
      "Subject CPD for CA\n",
      "+--------------+----------+\n",
      "| ('CA', 0)(0) | 0.468176 |\n",
      "+--------------+----------+\n",
      "| ('CA', 0)(1) | 0.531824 |\n",
      "+--------------+----------+\n",
      "\n",
      "Subject CPD for CO\n",
      "+--------------+----------+\n",
      "| ('CO', 0)(0) | 0.468176 |\n",
      "+--------------+----------+\n",
      "| ('CO', 0)(1) | 0.531824 |\n",
      "+--------------+----------+\n",
      "\n",
      "Subject CPD for H\n",
      "+-------------+--------------+--------------+--------------+--------------+\n",
      "| ('CA', 0)   | ('CA', 0)(0) | ('CA', 0)(0) | ('CA', 0)(1) | ('CA', 0)(1) |\n",
      "+-------------+--------------+--------------+--------------+--------------+\n",
      "| ('CO', 0)   | ('CO', 0)(0) | ('CO', 0)(1) | ('CO', 0)(0) | ('CO', 0)(1) |\n",
      "+-------------+--------------+--------------+--------------+--------------+\n",
      "| ('H', 0)(0) | 0.908971     | 0.650269     | 0.650269     | 0.124852     |\n",
      "+-------------+--------------+--------------+--------------+--------------+\n",
      "| ('H', 0)(1) | 0.091029     | 0.349731     | 0.349731     | 0.875148     |\n",
      "+-------------+--------------+--------------+--------------+--------------+\n"
     ]
    }
   ],
   "source": [
    "# Create the subjects CPDs\n",
    "\n",
    "# Subjects CPDs\n",
    "\n",
    "ca_cpd = TabularCPD(\n",
    "    variable=('CA', 0),\n",
    "    variable_card=2,\n",
    "    values=[\n",
    "        [0.468176, 0.531824]\n",
    "    ]\n",
    ")\n",
    "\n",
    "print('\\nSubject CPD for CA')\n",
    "print(ca_cpd)\n",
    "\n",
    "co_cpd = TabularCPD(\n",
    "    variable=('CO', 0),\n",
    "    variable_card=2,\n",
    "    values=[\n",
    "        [0.468176, 0.531824]\n",
    "    ]\n",
    ")\n",
    "\n",
    "print('\\nSubject CPD for CO')\n",
    "print(co_cpd)\n",
    "\n",
    "h_cpd = TabularCPD(\n",
    "    variable=('H', 0),\n",
    "    variable_card=2,\n",
    "    values=[\n",
    "        [0.908971, 0.650269, 0.650269, 0.124852],\n",
    "        [0.091029, 0.349731, 0.349731, 0.875148]],\n",
    "    evidence=[('CA', 0), ('CO', 0)],\n",
    "    evidence_card=[2, 2]\n",
    ")\n",
    "\n",
    "print('\\nSubject CPD for H')\n",
    "print(h_cpd)\n",
    "\n",
    "subjects_cpds = [\n",
    "    ca_cpd,\n",
    "    co_cpd,\n",
    "    h_cpd\n",
    "]"
   ]
  },
  {
   "cell_type": "code",
   "execution_count": 6,
   "metadata": {},
   "outputs": [
    {
     "name": "stdout",
     "output_type": "stream",
     "text": [
      "\n",
      "Evidence CPD for CA at 0\n",
      "+----------------+--------------+--------------+\n",
      "| ('CA', 0)      | ('CA', 0)(0) | ('CA', 0)(1) |\n",
      "+----------------+--------------+--------------+\n",
      "| ('EvCA', 0)(0) | 0.8          | 0.1          |\n",
      "+----------------+--------------+--------------+\n",
      "| ('EvCA', 0)(1) | 0.2          | 0.9          |\n",
      "+----------------+--------------+--------------+\n",
      "\n",
      "Evidence CPD for CO at 0\n",
      "+----------------+--------------+--------------+\n",
      "| ('CO', 0)      | ('CO', 0)(0) | ('CO', 0)(1) |\n",
      "+----------------+--------------+--------------+\n",
      "| ('EvCO', 0)(0) | 0.8          | 0.1          |\n",
      "+----------------+--------------+--------------+\n",
      "| ('EvCO', 0)(1) | 0.2          | 0.9          |\n",
      "+----------------+--------------+--------------+\n",
      "\n",
      "Evidence CPD for H at 0\n",
      "+---------------+-------------+-------------+\n",
      "| ('H', 0)      | ('H', 0)(0) | ('H', 0)(1) |\n",
      "+---------------+-------------+-------------+\n",
      "| ('EvH', 0)(0) | 0.8         | 0.1         |\n",
      "+---------------+-------------+-------------+\n",
      "| ('EvH', 0)(1) | 0.2         | 0.9         |\n",
      "+---------------+-------------+-------------+\n"
     ]
    }
   ],
   "source": [
    "# Create the evidences CPDs\n",
    "\n",
    "# Evidences CPDs\n",
    "\n",
    "ev_ca_cpd = TabularCPD(\n",
    "    variable=('EvCA', 0),\n",
    "    variable_card=2,\n",
    "    values=[\n",
    "        [0.8, 0.1],\n",
    "        [0.2, 0.9]\n",
    "    ],\n",
    "    evidence=[('CA', 0)],\n",
    "    evidence_card=[2]\n",
    ")\n",
    "\n",
    "print('\\nEvidence CPD for CA at 0')\n",
    "print(ev_ca_cpd)\n",
    "\n",
    "ev_co_cpd = TabularCPD(\n",
    "    variable=('EvCO', 0),\n",
    "    variable_card=2,\n",
    "    values=[\n",
    "        [0.8, 0.1],\n",
    "        [0.2, 0.9]\n",
    "    ],\n",
    "    evidence=[('CO', 0)],\n",
    "    evidence_card=[2]\n",
    ")\n",
    "\n",
    "print('\\nEvidence CPD for CO at 0')\n",
    "print(ev_co_cpd)\n",
    "\n",
    "ev_h_cpd = TabularCPD(\n",
    "    variable=('EvH', 0),\n",
    "    variable_card=2,\n",
    "    values=[\n",
    "        [0.8, 0.1],\n",
    "        [0.2, 0.9]\n",
    "    ],\n",
    "    evidence=[('H', 0)],\n",
    "    evidence_card=[2]\n",
    ")\n",
    "\n",
    "print('\\nEvidence CPD for H at 0')\n",
    "print(ev_h_cpd)\n",
    "\n",
    "evidences_cpds = [\n",
    "    ev_ca_cpd,\n",
    "    ev_co_cpd,\n",
    "    ev_h_cpd\n",
    "]"
   ]
  },
  {
   "cell_type": "code",
   "execution_count": 7,
   "metadata": {},
   "outputs": [
    {
     "name": "stdout",
     "output_type": "stream",
     "text": [
      "\\Transition CPD for CO\n",
      "+--------------+--------------+--------------+\n",
      "| ('CA', 0)    | ('CA', 0)(0) | ('CA', 0)(1) |\n",
      "+--------------+--------------+--------------+\n",
      "| ('CA', 1)(0) | 0.919        | 0.047        |\n",
      "+--------------+--------------+--------------+\n",
      "| ('CA', 1)(1) | 0.081        | 0.953        |\n",
      "+--------------+--------------+--------------+\n",
      "\\Transition CPD for H\n",
      "+--------------+--------------+--------------+\n",
      "| ('CO', 0)    | ('CO', 0)(0) | ('CO', 0)(1) |\n",
      "+--------------+--------------+--------------+\n",
      "| ('CO', 1)(0) | 0.919        | 0.047        |\n",
      "+--------------+--------------+--------------+\n",
      "| ('CO', 1)(1) | 0.081        | 0.953        |\n",
      "+--------------+--------------+--------------+\n",
      "\\Transition CPD for H\n",
      "+-------------+--------------+--------------+--------------+--------------+--------------+--------------+--------------+--------------+\n",
      "| ('CA', 1)   | ('CA', 1)(0) | ('CA', 1)(0) | ('CA', 1)(0) | ('CA', 1)(0) | ('CA', 1)(1) | ('CA', 1)(1) | ('CA', 1)(1) | ('CA', 1)(1) |\n",
      "+-------------+--------------+--------------+--------------+--------------+--------------+--------------+--------------+--------------+\n",
      "| ('CO', 1)   | ('CO', 1)(0) | ('CO', 1)(0) | ('CO', 1)(1) | ('CO', 1)(1) | ('CO', 1)(0) | ('CO', 1)(0) | ('CO', 1)(1) | ('CO', 1)(1) |\n",
      "+-------------+--------------+--------------+--------------+--------------+--------------+--------------+--------------+--------------+\n",
      "| ('H', 0)    | ('H', 0)(0)  | ('H', 0)(1)  | ('H', 0)(0)  | ('H', 0)(1)  | ('H', 0)(0)  | ('H', 0)(1)  | ('H', 0)(0)  | ('H', 0)(1)  |\n",
      "+-------------+--------------+--------------+--------------+--------------+--------------+--------------+--------------+--------------+\n",
      "| ('H', 1)(0) | 0.919        | 0.85         | 0.85         | 0.35         | 0.85         | 0.35         | 0.35         | 0.047        |\n",
      "+-------------+--------------+--------------+--------------+--------------+--------------+--------------+--------------+--------------+\n",
      "| ('H', 1)(1) | 0.081        | 0.15         | 0.15         | 0.65         | 0.15         | 0.65         | 0.65         | 0.953        |\n",
      "+-------------+--------------+--------------+--------------+--------------+--------------+--------------+--------------+--------------+\n"
     ]
    }
   ],
   "source": [
    "# Create transitions CPDs\n",
    "# Transitions CPDs\n",
    "\n",
    "ca_transition_cpd = TabularCPD(\n",
    "    variable=('CA', 1),\n",
    "    variable_card=2,\n",
    "    values=[\n",
    "        [0.919, 0.047],\n",
    "        [0.081, 0.953]\n",
    "    ],\n",
    "    evidence=[('CA', 0)],\n",
    "    evidence_card=[2]\n",
    ")\n",
    "\n",
    "print('\\Transition CPD for CO')\n",
    "print(ca_transition_cpd)\n",
    "\n",
    "co_transition_cpd = TabularCPD(\n",
    "    variable=('CO', 1),\n",
    "    variable_card=2,\n",
    "    values=[\n",
    "        [0.919, 0.047],\n",
    "        [0.081, 0.953]\n",
    "    ],\n",
    "    evidence=[('CO', 0)],\n",
    "    evidence_card=[2]\n",
    ")\n",
    "\n",
    "print('\\Transition CPD for H')\n",
    "print(co_transition_cpd)\n",
    "\n",
    "h_transition_cpd = TabularCPD(\n",
    "    variable=('H', 1),\n",
    "    variable_card=2,\n",
    "    values=[\n",
    "        [0.919, 0.85, 0.85, 0.35, 0.85, 0.35, 0.35, 0.047],\n",
    "        [0.081, 0.15, 0.15, 0.65, 0.15, 0.65, 0.65, 0.953]\n",
    "    ],\n",
    "    evidence=[\n",
    "        ('CA', 1),\n",
    "        ('CO', 1),\n",
    "        ('H', 0),\n",
    "    ],\n",
    "    evidence_card=[2, 2, 2]\n",
    ")\n",
    "\n",
    "print('\\Transition CPD for H')\n",
    "print(h_transition_cpd)\n",
    "\n",
    "transitions_cpds = [\n",
    "    ca_transition_cpd,\n",
    "    co_transition_cpd,\n",
    "    h_transition_cpd\n",
    "]"
   ]
  },
  {
   "cell_type": "code",
   "execution_count": 8,
   "metadata": {},
   "outputs": [],
   "source": [
    "# Concatenate CPDs and add them to the DBN model\n",
    "\n",
    "cpds = subjects_cpds + evidences_cpds + transitions_cpds\n",
    "\n",
    "dbnet.add_cpds(*cpds)\n",
    "dbnet.initialize_initial_state()"
   ]
  },
  {
   "cell_type": "code",
   "execution_count": 9,
   "metadata": {},
   "outputs": [],
   "source": [
    "import networkx as nx\n",
    "import matplotlib.pyplot as plt"
   ]
  },
  {
   "cell_type": "code",
   "execution_count": 10,
   "metadata": {},
   "outputs": [
    {
     "name": "stderr",
     "output_type": "stream",
     "text": [
      "/home/marco/Projects/pgmpy-dbn/venv/lib/python3.6/site-packages/networkx/drawing/nx_pylab.py:579: MatplotlibDeprecationWarning: \n",
      "The iterable function was deprecated in Matplotlib 3.1 and will be removed in 3.3. Use np.iterable instead.\n",
      "  if not cb.iterable(width):\n",
      "/home/marco/Projects/pgmpy-dbn/venv/lib/python3.6/site-packages/networkx/drawing/nx_pylab.py:676: MatplotlibDeprecationWarning: \n",
      "The iterable function was deprecated in Matplotlib 3.1 and will be removed in 3.3. Use np.iterable instead.\n",
      "  if cb.iterable(node_size):  # many node sizes\n"
     ]
    },
    {
     "data": {
      "image/png": "[encoded data removed]",
      "text/plain": [
       "<Figure size 432x288 with 1 Axes>"
      ]
     },
     "metadata": {},
     "output_type": "display_data"
    }
   ],
   "source": [
    "# nx.draw(student, with_labels=True)\n",
    "nx.draw(dbnet, with_labels=True)\n",
    "plt.show()"
   ]
  },
  {
   "cell_type": "code",
   "execution_count": 14,
   "metadata": {},
   "outputs": [],
   "source": [
    "# Import inference structure\n",
    "from pgmpy.inference import DBNInference"
   ]
  },
  {
   "cell_type": "code",
   "execution_count": 15,
   "metadata": {},
   "outputs": [],
   "source": [
    "# Create a inference object\n",
    "dbn_inf = DBNInference(dbnet)"
   ]
  },
  {
   "cell_type": "code",
   "execution_count": 17,
   "metadata": {},
   "outputs": [
    {
     "data": {
      "text/plain": [
       "NodeView(((('CO', 0), ('EvCO', 0)), (('CO', 0), ('H', 0), ('CA', 0)), (('EvH', 0), ('H', 0)), (('EvCA', 0), ('CA', 0))))"
      ]
     },
     "execution_count": 17,
     "metadata": {},
     "output_type": "execute_result"
    }
   ],
   "source": [
    "# Show nodes\n",
    "dbn_inf.start_junction_tree.nodes()"
   ]
  },
  {
   "cell_type": "code",
   "execution_count": 18,
   "metadata": {},
   "outputs": [
    {
     "data": {
      "text/plain": [
       "NodeView(((('EvCO', 1), ('CO', 0), ('CA', 1), ('H', 1), ('EvH', 1), ('CA', 0)), (('EvCO', 1), ('CO', 0), ('CA', 1), ('H', 1), ('H', 0), ('CA', 0)), (('EvCO', 1), ('CO', 0), ('CA', 1), ('EvCA', 1), ('CA', 0), ('EvH', 1)), (('EvCO', 1), ('CO', 0), ('CA', 1), ('H', 1), ('H', 0), ('CO', 1))))"
      ]
     },
     "execution_count": 18,
     "metadata": {},
     "output_type": "execute_result"
    }
   ],
   "source": [
    "dbn_inf.one_and_half_junction_tree.nodes()"
   ]
  },
  {
   "cell_type": "code",
   "execution_count": 26,
   "metadata": {},
   "outputs": [
    {
     "name": "stderr",
     "output_type": "stream",
     "text": [
      "Eliminating: ('H', 0): 100%|██████████| 2/2 [00:00<00:00, 383.88it/s]\n",
      "Eliminating: ('CA', 0): 100%|██████████| 2/2 [00:00<00:00, 385.75it/s]"
     ]
    },
    {
     "name": "stdout",
     "output_type": "stream",
     "text": [
      "+--------------+------------------+\n",
      "| ('CA', 0)    |   phi(('CA', 0)) |\n",
      "+==============+==================+\n",
      "| ('CA', 0)(0) |           0.1636 |\n",
      "+--------------+------------------+\n",
      "| ('CA', 0)(1) |           0.8364 |\n",
      "+--------------+------------------+\n",
      "+-------------+-----------------+\n",
      "| ('H', 0)    |   phi(('H', 0)) |\n",
      "+=============+=================+\n",
      "| ('H', 0)(0) |          0.2193 |\n",
      "+-------------+-----------------+\n",
      "| ('H', 0)(1) |          0.7807 |\n",
      "+-------------+-----------------+\n"
     ]
    },
    {
     "name": "stderr",
     "output_type": "stream",
     "text": [
      "\n"
     ]
    }
   ],
   "source": [
    "print(dbn_inf.forward_inference([('CA', 0)], {('EvCA', 0):1})[('CA', 0)])\n",
    "print(dbn_inf.forward_inference([('H', 0)], {('EvH', 0):1})[('H', 0)])"
   ]
  },
  {
   "cell_type": "markdown",
   "metadata": {},
   "source": []
  },
  {
   "cell_type": "code",
   "execution_count": 23,
   "metadata": {},
   "outputs": [
    {
     "name": "stderr",
     "output_type": "stream",
     "text": [
      "Eliminating: ('CA', 0): 100%|██████████| 7/7 [00:00<00:00, 117.90it/s]"
     ]
    },
    {
     "name": "stdout",
     "output_type": "stream",
     "text": [
      "+--------------+------------------+\n",
      "| ('CA', 1)    |   phi(('CA', 1)) |\n",
      "+==============+==================+\n",
      "| ('CA', 1)(0) |           0.0494 |\n",
      "+--------------+------------------+\n",
      "| ('CA', 1)(1) |           0.9506 |\n",
      "+--------------+------------------+\n"
     ]
    },
    {
     "name": "stderr",
     "output_type": "stream",
     "text": [
      "\n"
     ]
    }
   ],
   "source": [
    "print(dbn_inf.forward_inference([('CA', 1)], {('EvCA', 1):1, ('EvCA', 0):1})[('CA', 1)])"
   ]
  },
  {
   "cell_type": "code",
   "execution_count": 72,
   "metadata": {},
   "outputs": [
    {
     "name": "stderr",
     "output_type": "stream",
     "text": [
      "Eliminating: ('Chuva', 0): 100%|██████████| 1/1 [00:00<00:00, 134.25it/s]"
     ]
    },
    {
     "name": "stdout",
     "output_type": "stream",
     "text": [
      "+-----------------+---------------------+\n",
      "| ('Chuva', 3)    |   phi(('Chuva', 3)) |\n",
      "+=================+=====================+\n",
      "| ('Chuva', 3)(0) |              0.1055 |\n",
      "+-----------------+---------------------+\n",
      "| ('Chuva', 3)(1) |              0.8945 |\n",
      "+-----------------+---------------------+\n"
     ]
    },
    {
     "name": "stderr",
     "output_type": "stream",
     "text": [
      "\n"
     ]
    }
   ],
   "source": [
    "print(dbn_inf.forward_inference([('CA', 1)], {('EvCA', 1):1, ('EvCA', 0):1})[('CA', 1)])"
   ]
  }
 ],
 "metadata": {
  "kernelspec": {
   "display_name": "Python 3",
   "language": "python",
   "name": "python3"
  },
  "language_info": {
   "codemirror_mode": {
    "name": "ipython",
    "version": 3
   },
   "file_extension": ".py",
   "mimetype": "text/x-python",
   "name": "python",
   "nbconvert_exporter": "python",
   "pygments_lexer": "ipython3",
   "version": "3.6.9"
  }
 },
 "nbformat": 4,
 "nbformat_minor": 4
}
